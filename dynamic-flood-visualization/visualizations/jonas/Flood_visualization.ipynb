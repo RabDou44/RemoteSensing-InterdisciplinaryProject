{
 "cells": [
  {
   "cell_type": "markdown",
   "metadata": {},
   "source": [
    "# Interdisciplinary Project\n",
    "The goal of the project is to improve the visualization of flood data, which represents its evolution over time, to facilitate a deeper comprehension of flood dynamics for different target audiences. The main tasks include: researching best practices in dynamic data visualization, preparing and processing satellite data, evaluating different visualization methods, proposing and implementing various visualization techniques for different target audiences and use cases, and optimizing performance for large-scale and/or high-resolution datasets."
   ]
  },
  {
   "cell_type": "code",
   "execution_count": 1,
   "metadata": {},
   "outputs": [
    {
     "data": {
      "text/html": [
       "<script type=\"esms-options\">{\"shimMode\": true}</script><style>*[data-root-id],\n",
       "*[data-root-id] > * {\n",
       "  box-sizing: border-box;\n",
       "  font-family: var(--jp-ui-font-family);\n",
       "  font-size: var(--jp-ui-font-size1);\n",
       "  color: var(--vscode-editor-foreground, var(--jp-ui-font-color1));\n",
       "}\n",
       "\n",
       "/* Override VSCode background color */\n",
       ".cell-output-ipywidget-background:has(\n",
       "    > .cell-output-ipywidget-background > .lm-Widget > *[data-root-id]\n",
       "  ),\n",
       ".cell-output-ipywidget-background:has(> .lm-Widget > *[data-root-id]) {\n",
       "  background-color: transparent !important;\n",
       "}\n",
       "</style>"
      ]
     },
     "metadata": {},
     "output_type": "display_data"
    },
    {
     "data": {
      "application/javascript": "(function(root) {\n  function now() {\n    return new Date();\n  }\n\n  const force = true;\n  const py_version = '3.7.2'.replace('rc', '-rc.').replace('.dev', '-dev.');\n  const reloading = false;\n  const Bokeh = root.Bokeh;\n\n  // Set a timeout for this load but only if we are not already initializing\n  if (typeof (root._bokeh_timeout) === \"undefined\" || (force || !root._bokeh_is_initializing)) {\n    root._bokeh_timeout = Date.now() + 5000;\n    root._bokeh_failed_load = false;\n  }\n\n  function run_callbacks() {\n    try {\n      root._bokeh_onload_callbacks.forEach(function(callback) {\n        if (callback != null)\n          callback();\n      });\n    } finally {\n      delete root._bokeh_onload_callbacks;\n    }\n    console.debug(\"Bokeh: all callbacks have finished\");\n  }\n\n  function load_libs(css_urls, js_urls, js_modules, js_exports, callback) {\n    if (css_urls == null) css_urls = [];\n    if (js_urls == null) js_urls = [];\n    if (js_modules == null) js_modules = [];\n    if (js_exports == null) js_exports = {};\n\n    root._bokeh_onload_callbacks.push(callback);\n\n    if (root._bokeh_is_loading > 0) {\n      // Don't load bokeh if it is still initializing\n      console.debug(\"Bokeh: BokehJS is being loaded, scheduling callback at\", now());\n      return null;\n    } else if (js_urls.length === 0 && js_modules.length === 0 && Object.keys(js_exports).length === 0) {\n      // There is nothing to load\n      run_callbacks();\n      return null;\n    }\n\n    function on_load() {\n      root._bokeh_is_loading--;\n      if (root._bokeh_is_loading === 0) {\n        console.debug(\"Bokeh: all BokehJS libraries/stylesheets loaded\");\n        run_callbacks()\n      }\n    }\n    window._bokeh_on_load = on_load\n\n    function on_error(e) {\n      const src_el = e.srcElement\n      console.error(\"failed to load \" + (src_el.href || src_el.src));\n    }\n\n    const skip = [];\n    if (window.requirejs) {\n      window.requirejs.config({'packages': {}, 'paths': {}, 'shim': {}});\n      root._bokeh_is_loading = css_urls.length + 0;\n    } else {\n      root._bokeh_is_loading = css_urls.length + js_urls.length + js_modules.length + Object.keys(js_exports).length;\n    }\n\n    const existing_stylesheets = []\n    const links = document.getElementsByTagName('link')\n    for (let i = 0; i < links.length; i++) {\n      const link = links[i]\n      if (link.href != null) {\n        existing_stylesheets.push(link.href)\n      }\n    }\n    for (let i = 0; i < css_urls.length; i++) {\n      const url = css_urls[i];\n      const escaped = encodeURI(url)\n      if (existing_stylesheets.indexOf(escaped) !== -1) {\n        on_load()\n        continue;\n      }\n      const element = document.createElement(\"link\");\n      element.onload = on_load;\n      element.onerror = on_error;\n      element.rel = \"stylesheet\";\n      element.type = \"text/css\";\n      element.href = url;\n      console.debug(\"Bokeh: injecting link tag for BokehJS stylesheet: \", url);\n      document.body.appendChild(element);\n    }    var existing_scripts = []\n    const scripts = document.getElementsByTagName('script')\n    for (let i = 0; i < scripts.length; i++) {\n      var script = scripts[i]\n      if (script.src != null) {\n        existing_scripts.push(script.src)\n      }\n    }\n    for (let i = 0; i < js_urls.length; i++) {\n      const url = js_urls[i];\n      const escaped = encodeURI(url)\n      if (skip.indexOf(escaped) !== -1 || existing_scripts.indexOf(escaped) !== -1) {\n        if (!window.requirejs) {\n          on_load();\n        }\n        continue;\n      }\n      const element = document.createElement('script');\n      element.onload = on_load;\n      element.onerror = on_error;\n      element.async = false;\n      element.src = url;\n      console.debug(\"Bokeh: injecting script tag for BokehJS library: \", url);\n      document.head.appendChild(element);\n    }\n    for (let i = 0; i < js_modules.length; i++) {\n      const url = js_modules[i];\n      const escaped = encodeURI(url)\n      if (skip.indexOf(escaped) !== -1 || existing_scripts.indexOf(escaped) !== -1) {\n        if (!window.requirejs) {\n          on_load();\n        }\n        continue;\n      }\n      var element = document.createElement('script');\n      element.onload = on_load;\n      element.onerror = on_error;\n      element.async = false;\n      element.src = url;\n      element.type = \"module\";\n      console.debug(\"Bokeh: injecting script tag for BokehJS library: \", url);\n      document.head.appendChild(element);\n    }\n    for (const name in js_exports) {\n      const url = js_exports[name];\n      const escaped = encodeURI(url)\n      if (skip.indexOf(escaped) >= 0 || root[name] != null) {\n        if (!window.requirejs) {\n          on_load();\n        }\n        continue;\n      }\n      var element = document.createElement('script');\n      element.onerror = on_error;\n      element.async = false;\n      element.type = \"module\";\n      console.debug(\"Bokeh: injecting script tag for BokehJS library: \", url);\n      element.textContent = `\n      import ${name} from \"${url}\"\n      window.${name} = ${name}\n      window._bokeh_on_load()\n      `\n      document.head.appendChild(element);\n    }\n    if (!js_urls.length && !js_modules.length) {\n      on_load()\n    }\n  };\n\n  function inject_raw_css(css) {\n    const element = document.createElement(\"style\");\n    element.appendChild(document.createTextNode(css));\n    document.body.appendChild(element);\n  }\n\n  const js_urls = [\"https://cdn.holoviz.org/panel/1.6.2/dist/bundled/reactiveesm/es-module-shims@^1.10.0/dist/es-module-shims.min.js\", \"https://cdn.bokeh.org/bokeh/release/bokeh-3.7.2.min.js\", \"https://cdn.bokeh.org/bokeh/release/bokeh-gl-3.7.2.min.js\", \"https://cdn.bokeh.org/bokeh/release/bokeh-widgets-3.7.2.min.js\", \"https://cdn.bokeh.org/bokeh/release/bokeh-tables-3.7.2.min.js\", \"https://cdn.holoviz.org/panel/1.6.2/dist/panel.min.js\"];\n  const js_modules = [];\n  const js_exports = {};\n  const css_urls = [];\n  const inline_js = [    function(Bokeh) {\n      Bokeh.set_log_level(\"info\");\n    },\nfunction(Bokeh) {} // ensure no trailing comma for IE\n  ];\n\n  function run_inline_js() {\n    if ((root.Bokeh !== undefined) || (force === true)) {\n      for (let i = 0; i < inline_js.length; i++) {\n        try {\n          inline_js[i].call(root, root.Bokeh);\n        } catch(e) {\n          if (!reloading) {\n            throw e;\n          }\n        }\n      }\n      // Cache old bokeh versions\n      if (Bokeh != undefined && !reloading) {\n        var NewBokeh = root.Bokeh;\n        if (Bokeh.versions === undefined) {\n          Bokeh.versions = new Map();\n        }\n        if (NewBokeh.version !== Bokeh.version) {\n          Bokeh.versions.set(NewBokeh.version, NewBokeh)\n        }\n        root.Bokeh = Bokeh;\n      }\n    } else if (Date.now() < root._bokeh_timeout) {\n      setTimeout(run_inline_js, 100);\n    } else if (!root._bokeh_failed_load) {\n      console.log(\"Bokeh: BokehJS failed to load within specified timeout.\");\n      root._bokeh_failed_load = true;\n    }\n    root._bokeh_is_initializing = false\n  }\n\n  function load_or_wait() {\n    // Implement a backoff loop that tries to ensure we do not load multiple\n    // versions of Bokeh and its dependencies at the same time.\n    // In recent versions we use the root._bokeh_is_initializing flag\n    // to determine whether there is an ongoing attempt to initialize\n    // bokeh, however for backward compatibility we also try to ensure\n    // that we do not start loading a newer (Panel>=1.0 and Bokeh>3) version\n    // before older versions are fully initialized.\n    if (root._bokeh_is_initializing && Date.now() > root._bokeh_timeout) {\n      // If the timeout and bokeh was not successfully loaded we reset\n      // everything and try loading again\n      root._bokeh_timeout = Date.now() + 5000;\n      root._bokeh_is_initializing = false;\n      root._bokeh_onload_callbacks = undefined;\n      root._bokeh_is_loading = 0\n      console.log(\"Bokeh: BokehJS was loaded multiple times but one version failed to initialize.\");\n      load_or_wait();\n    } else if (root._bokeh_is_initializing || (typeof root._bokeh_is_initializing === \"undefined\" && root._bokeh_onload_callbacks !== undefined)) {\n      setTimeout(load_or_wait, 100);\n    } else {\n      root._bokeh_is_initializing = true\n      root._bokeh_onload_callbacks = []\n      const bokeh_loaded = root.Bokeh != null && (root.Bokeh.version === py_version || (root.Bokeh.versions !== undefined && root.Bokeh.versions.has(py_version)));\n      if (!reloading && !bokeh_loaded) {\n        if (root.Bokeh) {\n          root.Bokeh = undefined;\n        }\n        console.debug(\"Bokeh: BokehJS not loaded, scheduling load and callback at\", now());\n      }\n      load_libs(css_urls, js_urls, js_modules, js_exports, function() {\n        console.debug(\"Bokeh: BokehJS plotting callback run at\", now());\n        run_inline_js();\n      });\n    }\n  }\n  // Give older versions of the autoload script a head-start to ensure\n  // they initialize before we start loading newer version.\n  setTimeout(load_or_wait, 100)\n}(window));",
      "application/vnd.holoviews_load.v0+json": ""
     },
     "metadata": {},
     "output_type": "display_data"
    },
    {
     "data": {
      "application/javascript": "\nif ((window.PyViz === undefined) || (window.PyViz instanceof HTMLElement)) {\n  window.PyViz = {comms: {}, comm_status:{}, kernels:{}, receivers: {}, plot_index: []}\n}\n\n\n    function JupyterCommManager() {\n    }\n\n    JupyterCommManager.prototype.register_target = function(plot_id, comm_id, msg_handler) {\n      if (window.comm_manager || ((window.Jupyter !== undefined) && (Jupyter.notebook.kernel != null))) {\n        var comm_manager = window.comm_manager || Jupyter.notebook.kernel.comm_manager;\n        comm_manager.register_target(comm_id, function(comm) {\n          comm.on_msg(msg_handler);\n        });\n      } else if ((plot_id in window.PyViz.kernels) && (window.PyViz.kernels[plot_id])) {\n        window.PyViz.kernels[plot_id].registerCommTarget(comm_id, function(comm) {\n          comm.onMsg = msg_handler;\n        });\n      } else if (typeof google != 'undefined' && google.colab.kernel != null) {\n        google.colab.kernel.comms.registerTarget(comm_id, (comm) => {\n          var messages = comm.messages[Symbol.asyncIterator]();\n          function processIteratorResult(result) {\n            var message = result.value;\n            console.log(message)\n            var content = {data: message.data, comm_id};\n            var buffers = []\n            for (var buffer of message.buffers || []) {\n              buffers.push(new DataView(buffer))\n            }\n            var metadata = message.metadata || {};\n            var msg = {content, buffers, metadata}\n            msg_handler(msg);\n            return messages.next().then(processIteratorResult);\n          }\n          return messages.next().then(processIteratorResult);\n        })\n      }\n    }\n\n    JupyterCommManager.prototype.get_client_comm = function(plot_id, comm_id, msg_handler) {\n      if (comm_id in window.PyViz.comms) {\n        return window.PyViz.comms[comm_id];\n      } else if (window.comm_manager || ((window.Jupyter !== undefined) && (Jupyter.notebook.kernel != null))) {\n        var comm_manager = window.comm_manager || Jupyter.notebook.kernel.comm_manager;\n        var comm = comm_manager.new_comm(comm_id, {}, {}, {}, comm_id);\n        if (msg_handler) {\n          comm.on_msg(msg_handler);\n        }\n      } else if ((plot_id in window.PyViz.kernels) && (window.PyViz.kernels[plot_id])) {\n        var comm = window.PyViz.kernels[plot_id].connectToComm(comm_id);\n        comm.open();\n        if (msg_handler) {\n          comm.onMsg = msg_handler;\n        }\n      } else if (typeof google != 'undefined' && google.colab.kernel != null) {\n        var comm_promise = google.colab.kernel.comms.open(comm_id)\n        comm_promise.then((comm) => {\n          window.PyViz.comms[comm_id] = comm;\n          if (msg_handler) {\n            var messages = comm.messages[Symbol.asyncIterator]();\n            function processIteratorResult(result) {\n              var message = result.value;\n              var content = {data: message.data};\n              var metadata = message.metadata || {comm_id};\n              var msg = {content, metadata}\n              msg_handler(msg);\n              return messages.next().then(processIteratorResult);\n            }\n            return messages.next().then(processIteratorResult);\n          }\n        })\n        var sendClosure = (data, metadata, buffers, disposeOnDone) => {\n          return comm_promise.then((comm) => {\n            comm.send(data, metadata, buffers, disposeOnDone);\n          });\n        };\n        var comm = {\n          send: sendClosure\n        };\n      }\n      window.PyViz.comms[comm_id] = comm;\n      return comm;\n    }\n    window.PyViz.comm_manager = new JupyterCommManager();\n    \n\n\nvar JS_MIME_TYPE = 'application/javascript';\nvar HTML_MIME_TYPE = 'text/html';\nvar EXEC_MIME_TYPE = 'application/vnd.holoviews_exec.v0+json';\nvar CLASS_NAME = 'output';\n\n/**\n * Render data to the DOM node\n */\nfunction render(props, node) {\n  var div = document.createElement(\"div\");\n  var script = document.createElement(\"script\");\n  node.appendChild(div);\n  node.appendChild(script);\n}\n\n/**\n * Handle when a new output is added\n */\nfunction handle_add_output(event, handle) {\n  var output_area = handle.output_area;\n  var output = handle.output;\n  if ((output.data == undefined) || (!output.data.hasOwnProperty(EXEC_MIME_TYPE))) {\n    return\n  }\n  var id = output.metadata[EXEC_MIME_TYPE][\"id\"];\n  var toinsert = output_area.element.find(\".\" + CLASS_NAME.split(' ')[0]);\n  if (id !== undefined) {\n    var nchildren = toinsert.length;\n    var html_node = toinsert[nchildren-1].children[0];\n    html_node.innerHTML = output.data[HTML_MIME_TYPE];\n    var scripts = [];\n    var nodelist = html_node.querySelectorAll(\"script\");\n    for (var i in nodelist) {\n      if (nodelist.hasOwnProperty(i)) {\n        scripts.push(nodelist[i])\n      }\n    }\n\n    scripts.forEach( function (oldScript) {\n      var newScript = document.createElement(\"script\");\n      var attrs = [];\n      var nodemap = oldScript.attributes;\n      for (var j in nodemap) {\n        if (nodemap.hasOwnProperty(j)) {\n          attrs.push(nodemap[j])\n        }\n      }\n      attrs.forEach(function(attr) { newScript.setAttribute(attr.name, attr.value) });\n      newScript.appendChild(document.createTextNode(oldScript.innerHTML));\n      oldScript.parentNode.replaceChild(newScript, oldScript);\n    });\n    if (JS_MIME_TYPE in output.data) {\n      toinsert[nchildren-1].children[1].textContent = output.data[JS_MIME_TYPE];\n    }\n    output_area._hv_plot_id = id;\n    if ((window.Bokeh !== undefined) && (id in Bokeh.index)) {\n      window.PyViz.plot_index[id] = Bokeh.index[id];\n    } else {\n      window.PyViz.plot_index[id] = null;\n    }\n  } else if (output.metadata[EXEC_MIME_TYPE][\"server_id\"] !== undefined) {\n    var bk_div = document.createElement(\"div\");\n    bk_div.innerHTML = output.data[HTML_MIME_TYPE];\n    var script_attrs = bk_div.children[0].attributes;\n    for (var i = 0; i < script_attrs.length; i++) {\n      toinsert[toinsert.length - 1].childNodes[1].setAttribute(script_attrs[i].name, script_attrs[i].value);\n    }\n    // store reference to server id on output_area\n    output_area._bokeh_server_id = output.metadata[EXEC_MIME_TYPE][\"server_id\"];\n  }\n}\n\n/**\n * Handle when an output is cleared or removed\n */\nfunction handle_clear_output(event, handle) {\n  var id = handle.cell.output_area._hv_plot_id;\n  var server_id = handle.cell.output_area._bokeh_server_id;\n  if (((id === undefined) || !(id in PyViz.plot_index)) && (server_id !== undefined)) { return; }\n  var comm = window.PyViz.comm_manager.get_client_comm(\"hv-extension-comm\", \"hv-extension-comm\", function () {});\n  if (server_id !== null) {\n    comm.send({event_type: 'server_delete', 'id': server_id});\n    return;\n  } else if (comm !== null) {\n    comm.send({event_type: 'delete', 'id': id});\n  }\n  delete PyViz.plot_index[id];\n  if ((window.Bokeh !== undefined) & (id in window.Bokeh.index)) {\n    var doc = window.Bokeh.index[id].model.document\n    doc.clear();\n    const i = window.Bokeh.documents.indexOf(doc);\n    if (i > -1) {\n      window.Bokeh.documents.splice(i, 1);\n    }\n  }\n}\n\n/**\n * Handle kernel restart event\n */\nfunction handle_kernel_cleanup(event, handle) {\n  delete PyViz.comms[\"hv-extension-comm\"];\n  window.PyViz.plot_index = {}\n}\n\n/**\n * Handle update_display_data messages\n */\nfunction handle_update_output(event, handle) {\n  handle_clear_output(event, {cell: {output_area: handle.output_area}})\n  handle_add_output(event, handle)\n}\n\nfunction register_renderer(events, OutputArea) {\n  function append_mime(data, metadata, element) {\n    // create a DOM node to render to\n    var toinsert = this.create_output_subarea(\n    metadata,\n    CLASS_NAME,\n    EXEC_MIME_TYPE\n    );\n    this.keyboard_manager.register_events(toinsert);\n    // Render to node\n    var props = {data: data, metadata: metadata[EXEC_MIME_TYPE]};\n    render(props, toinsert[0]);\n    element.append(toinsert);\n    return toinsert\n  }\n\n  events.on('output_added.OutputArea', handle_add_output);\n  events.on('output_updated.OutputArea', handle_update_output);\n  events.on('clear_output.CodeCell', handle_clear_output);\n  events.on('delete.Cell', handle_clear_output);\n  events.on('kernel_ready.Kernel', handle_kernel_cleanup);\n\n  OutputArea.prototype.register_mime_type(EXEC_MIME_TYPE, append_mime, {\n    safe: true,\n    index: 0\n  });\n}\n\nif (window.Jupyter !== undefined) {\n  try {\n    var events = require('base/js/events');\n    var OutputArea = require('notebook/js/outputarea').OutputArea;\n    if (OutputArea.prototype.mime_types().indexOf(EXEC_MIME_TYPE) == -1) {\n      register_renderer(events, OutputArea);\n    }\n  } catch(err) {\n  }\n}\n",
      "application/vnd.holoviews_load.v0+json": ""
     },
     "metadata": {},
     "output_type": "display_data"
    },
    {
     "data": {
      "application/vnd.holoviews_exec.v0+json": "",
      "text/html": [
       "<div id='67f2dacd-d948-4dc3-98e2-bd2f1a27e28b'>\n",
       "  <div id=\"b1a29b66-64b6-45a9-af2d-f751c687e7cf\" data-root-id=\"67f2dacd-d948-4dc3-98e2-bd2f1a27e28b\" style=\"display: contents;\"></div>\n",
       "</div>\n",
       "<script type=\"application/javascript\">(function(root) {\n",
       "  var docs_json = {\"cd821aa7-4d6b-41ec-aa60-637f4f04f2c3\":{\"version\":\"3.7.2\",\"title\":\"Bokeh Application\",\"roots\":[{\"type\":\"object\",\"name\":\"panel.models.browser.BrowserInfo\",\"id\":\"67f2dacd-d948-4dc3-98e2-bd2f1a27e28b\"},{\"type\":\"object\",\"name\":\"panel.models.comm_manager.CommManager\",\"id\":\"cecd7351-a23e-408e-9dfb-8e2d8616ecb9\",\"attributes\":{\"plot_id\":\"67f2dacd-d948-4dc3-98e2-bd2f1a27e28b\",\"comm_id\":\"0bbbac8a5f544f27bfd0e7b27d6de4ec\",\"client_comm_id\":\"5f7a8517acd24f51b20cf1f4460ed610\"}}],\"defs\":[{\"type\":\"model\",\"name\":\"ReactiveHTML1\"},{\"type\":\"model\",\"name\":\"FlexBox1\",\"properties\":[{\"name\":\"align_content\",\"kind\":\"Any\",\"default\":\"flex-start\"},{\"name\":\"align_items\",\"kind\":\"Any\",\"default\":\"flex-start\"},{\"name\":\"flex_direction\",\"kind\":\"Any\",\"default\":\"row\"},{\"name\":\"flex_wrap\",\"kind\":\"Any\",\"default\":\"wrap\"},{\"name\":\"gap\",\"kind\":\"Any\",\"default\":\"\"},{\"name\":\"justify_content\",\"kind\":\"Any\",\"default\":\"flex-start\"}]},{\"type\":\"model\",\"name\":\"FloatPanel1\",\"properties\":[{\"name\":\"config\",\"kind\":\"Any\",\"default\":{\"type\":\"map\"}},{\"name\":\"contained\",\"kind\":\"Any\",\"default\":true},{\"name\":\"position\",\"kind\":\"Any\",\"default\":\"right-top\"},{\"name\":\"offsetx\",\"kind\":\"Any\",\"default\":null},{\"name\":\"offsety\",\"kind\":\"Any\",\"default\":null},{\"name\":\"theme\",\"kind\":\"Any\",\"default\":\"primary\"},{\"name\":\"status\",\"kind\":\"Any\",\"default\":\"normalized\"}]},{\"type\":\"model\",\"name\":\"GridStack1\",\"properties\":[{\"name\":\"ncols\",\"kind\":\"Any\",\"default\":null},{\"name\":\"nrows\",\"kind\":\"Any\",\"default\":null},{\"name\":\"allow_resize\",\"kind\":\"Any\",\"default\":true},{\"name\":\"allow_drag\",\"kind\":\"Any\",\"default\":true},{\"name\":\"state\",\"kind\":\"Any\",\"default\":[]}]},{\"type\":\"model\",\"name\":\"drag1\",\"properties\":[{\"name\":\"slider_width\",\"kind\":\"Any\",\"default\":5},{\"name\":\"slider_color\",\"kind\":\"Any\",\"default\":\"black\"},{\"name\":\"value\",\"kind\":\"Any\",\"default\":50}]},{\"type\":\"model\",\"name\":\"click1\",\"properties\":[{\"name\":\"terminal_output\",\"kind\":\"Any\",\"default\":\"\"},{\"name\":\"debug_name\",\"kind\":\"Any\",\"default\":\"\"},{\"name\":\"clears\",\"kind\":\"Any\",\"default\":0}]},{\"type\":\"model\",\"name\":\"FastWrapper1\",\"properties\":[{\"name\":\"object\",\"kind\":\"Any\",\"default\":null},{\"name\":\"style\",\"kind\":\"Any\",\"default\":null}]},{\"type\":\"model\",\"name\":\"NotificationArea1\",\"properties\":[{\"name\":\"js_events\",\"kind\":\"Any\",\"default\":{\"type\":\"map\"}},{\"name\":\"max_notifications\",\"kind\":\"Any\",\"default\":5},{\"name\":\"notifications\",\"kind\":\"Any\",\"default\":[]},{\"name\":\"position\",\"kind\":\"Any\",\"default\":\"bottom-right\"},{\"name\":\"_clear\",\"kind\":\"Any\",\"default\":0},{\"name\":\"types\",\"kind\":\"Any\",\"default\":[{\"type\":\"map\",\"entries\":[[\"type\",\"warning\"],[\"background\",\"#ffc107\"],[\"icon\",{\"type\":\"map\",\"entries\":[[\"className\",\"fas fa-exclamation-triangle\"],[\"tagName\",\"i\"],[\"color\",\"white\"]]}]]},{\"type\":\"map\",\"entries\":[[\"type\",\"info\"],[\"background\",\"#007bff\"],[\"icon\",{\"type\":\"map\",\"entries\":[[\"className\",\"fas fa-info-circle\"],[\"tagName\",\"i\"],[\"color\",\"white\"]]}]]}]}]},{\"type\":\"model\",\"name\":\"Notification\",\"properties\":[{\"name\":\"background\",\"kind\":\"Any\",\"default\":null},{\"name\":\"duration\",\"kind\":\"Any\",\"default\":3000},{\"name\":\"icon\",\"kind\":\"Any\",\"default\":null},{\"name\":\"message\",\"kind\":\"Any\",\"default\":\"\"},{\"name\":\"notification_type\",\"kind\":\"Any\",\"default\":null},{\"name\":\"_rendered\",\"kind\":\"Any\",\"default\":false},{\"name\":\"_destroyed\",\"kind\":\"Any\",\"default\":false}]},{\"type\":\"model\",\"name\":\"TemplateActions1\",\"properties\":[{\"name\":\"open_modal\",\"kind\":\"Any\",\"default\":0},{\"name\":\"close_modal\",\"kind\":\"Any\",\"default\":0}]},{\"type\":\"model\",\"name\":\"BootstrapTemplateActions1\",\"properties\":[{\"name\":\"open_modal\",\"kind\":\"Any\",\"default\":0},{\"name\":\"close_modal\",\"kind\":\"Any\",\"default\":0}]},{\"type\":\"model\",\"name\":\"TemplateEditor1\",\"properties\":[{\"name\":\"layout\",\"kind\":\"Any\",\"default\":[]}]},{\"type\":\"model\",\"name\":\"MaterialTemplateActions1\",\"properties\":[{\"name\":\"open_modal\",\"kind\":\"Any\",\"default\":0},{\"name\":\"close_modal\",\"kind\":\"Any\",\"default\":0}]},{\"type\":\"model\",\"name\":\"ReactiveESM1\",\"properties\":[{\"name\":\"esm_constants\",\"kind\":\"Any\",\"default\":{\"type\":\"map\"}}]},{\"type\":\"model\",\"name\":\"JSComponent1\",\"properties\":[{\"name\":\"esm_constants\",\"kind\":\"Any\",\"default\":{\"type\":\"map\"}}]},{\"type\":\"model\",\"name\":\"ReactComponent1\",\"properties\":[{\"name\":\"esm_constants\",\"kind\":\"Any\",\"default\":{\"type\":\"map\"}}]},{\"type\":\"model\",\"name\":\"AnyWidgetComponent1\",\"properties\":[{\"name\":\"esm_constants\",\"kind\":\"Any\",\"default\":{\"type\":\"map\"}}]},{\"type\":\"model\",\"name\":\"request_value1\",\"properties\":[{\"name\":\"fill\",\"kind\":\"Any\",\"default\":\"none\"},{\"name\":\"_synced\",\"kind\":\"Any\",\"default\":null},{\"name\":\"_request_sync\",\"kind\":\"Any\",\"default\":0}]}]}};\n",
       "  var render_items = [{\"docid\":\"cd821aa7-4d6b-41ec-aa60-637f4f04f2c3\",\"roots\":{\"67f2dacd-d948-4dc3-98e2-bd2f1a27e28b\":\"b1a29b66-64b6-45a9-af2d-f751c687e7cf\"},\"root_ids\":[\"67f2dacd-d948-4dc3-98e2-bd2f1a27e28b\"]}];\n",
       "  var docs = Object.values(docs_json)\n",
       "  if (!docs) {\n",
       "    return\n",
       "  }\n",
       "  const py_version = docs[0].version.replace('rc', '-rc.').replace('.dev', '-dev.')\n",
       "  async function embed_document(root) {\n",
       "    var Bokeh = get_bokeh(root)\n",
       "    await Bokeh.embed.embed_items_notebook(docs_json, render_items);\n",
       "    for (const render_item of render_items) {\n",
       "      for (const root_id of render_item.root_ids) {\n",
       "\tconst id_el = document.getElementById(root_id)\n",
       "\tif (id_el.children.length && id_el.children[0].hasAttribute('data-root-id')) {\n",
       "\t  const root_el = id_el.children[0]\n",
       "\t  root_el.id = root_el.id + '-rendered'\n",
       "\t  for (const child of root_el.children) {\n",
       "            // Ensure JupyterLab does not capture keyboard shortcuts\n",
       "            // see: https://jupyterlab.readthedocs.io/en/4.1.x/extension/notebook.html#keyboard-interaction-model\n",
       "\t    child.setAttribute('data-lm-suppress-shortcuts', 'true')\n",
       "\t  }\n",
       "\t}\n",
       "      }\n",
       "    }\n",
       "  }\n",
       "  function get_bokeh(root) {\n",
       "    if (root.Bokeh === undefined) {\n",
       "      return null\n",
       "    } else if (root.Bokeh.version !== py_version) {\n",
       "      if (root.Bokeh.versions === undefined || !root.Bokeh.versions.has(py_version)) {\n",
       "\treturn null\n",
       "      }\n",
       "      return root.Bokeh.versions.get(py_version);\n",
       "    } else if (root.Bokeh.version === py_version) {\n",
       "      return root.Bokeh\n",
       "    }\n",
       "    return null\n",
       "  }\n",
       "  function is_loaded(root) {\n",
       "    var Bokeh = get_bokeh(root)\n",
       "    return (Bokeh != null && Bokeh.Panel !== undefined)\n",
       "  }\n",
       "  if (is_loaded(root)) {\n",
       "    embed_document(root);\n",
       "  } else {\n",
       "    var attempts = 0;\n",
       "    var timer = setInterval(function(root) {\n",
       "      if (is_loaded(root)) {\n",
       "        clearInterval(timer);\n",
       "        embed_document(root);\n",
       "      } else if (document.readyState == \"complete\") {\n",
       "        attempts++;\n",
       "        if (attempts > 200) {\n",
       "          clearInterval(timer);\n",
       "\t  var Bokeh = get_bokeh(root)\n",
       "\t  if (Bokeh == null || Bokeh.Panel == null) {\n",
       "            console.warn(\"Panel: ERROR: Unable to run Panel code because Bokeh or Panel library is missing\");\n",
       "\t  } else {\n",
       "\t    console.warn(\"Panel: WARNING: Attempting to render but not all required libraries could be resolved.\")\n",
       "\t    embed_document(root)\n",
       "\t  }\n",
       "        }\n",
       "      }\n",
       "    }, 25, root)\n",
       "  }\n",
       "})(window);</script>"
      ]
     },
     "metadata": {
      "application/vnd.holoviews_exec.v0+json": {
       "id": "67f2dacd-d948-4dc3-98e2-bd2f1a27e28b"
      }
     },
     "output_type": "display_data"
    }
   ],
   "source": [
    "import hvplot.xarray\n",
    "import pystac_client\n",
    "from odc import stac as odc_stac\n",
    "from dask.distributed import wait\n",
    "from dask.distributed import Client, wait\n"
   ]
  },
  {
   "cell_type": "markdown",
   "metadata": {},
   "source": [
    "### Dask\n",
    "Dask is a python library designed for parallel computing. More details [here](https://www.dask.org/)."
   ]
  },
  {
   "cell_type": "code",
   "execution_count": 2,
   "metadata": {},
   "outputs": [
    {
     "name": "stderr",
     "output_type": "stream",
     "text": [
      "c:\\Users\\jonas\\anaconda3\\envs\\earth_oberservations\\Lib\\site-packages\\distributed\\node.py:182: UserWarning: Port 8787 is already in use.\n",
      "Perhaps you already have a cluster running?\n",
      "Hosting the HTTP server on port 54241 instead\n",
      "  warnings.warn(\n"
     ]
    }
   ],
   "source": [
    "# set up dask client for paralelized computation\n",
    "client = Client(processes=False, threads_per_worker=2, n_workers=3, memory_limit=\"12GB\")\n",
    "\n",
    "# Connect to STAC catalog\n",
    "eodc_catalog = pystac_client.Client.open(\"https://stac.eodc.eu/api/v1/\")"
   ]
  },
  {
   "cell_type": "markdown",
   "metadata": {},
   "source": [
    "## Use-case\n",
    "\n",
    "The flooded area chosen for this project is around the city of Zingst, at the Baltic coast of Nothern Germany. The area was affected by the storm 'Babet' at the 20th of October 2023. More details about the event [here](https://en.wikipedia.org/wiki/Storm_Babet).  Below, the year 2022 is shown instead, as there is currently a error whithin the collection, but it should be fixed soon."
   ]
  },
  {
   "cell_type": "markdown",
   "metadata": {},
   "source": [
    "### Define the area and time range"
   ]
  },
  {
   "cell_type": "code",
   "execution_count": 3,
   "metadata": {},
   "outputs": [],
   "source": [
    "# we define the time range of the event and coordinates of the area with the bounding_box\n",
    "time_range = \"2022-10-11/2022-10-25\"\n",
    "time_range = \"2023-10-11/2023-10-25\"\n",
    "minlon, maxlon = 12.3, 13.1\n",
    "minlat, maxlat = 54.3, 54.6\n",
    "bounding_box = [minlon, minlat, maxlon, maxlat]"
   ]
  },
  {
   "cell_type": "markdown",
   "metadata": {},
   "source": [
    "### Get the images for the defined area and time range"
   ]
  },
  {
   "cell_type": "code",
   "execution_count": 4,
   "metadata": {},
   "outputs": [
    {
     "name": "stdout",
     "output_type": "stream",
     "text": [
      "Found 37 items\n"
     ]
    }
   ],
   "source": [
    "# inside the EODC catalogue we get the GFM collection (Global Flood Monitoring) https://services.eodc.eu/browser/#/v1/collections/GFM?.language=en\n",
    "search = eodc_catalog.search(collections=\"GFM\", bbox=bounding_box, datetime=time_range)\n",
    "items_GFM = search.item_collection()\n",
    "\n",
    "print(f\"Found {len(items_GFM)} items\") "
   ]
  },
  {
   "cell_type": "markdown",
   "metadata": {},
   "source": [
    "### Inspect the items proprieties"
   ]
  },
  {
   "cell_type": "code",
   "execution_count": 5,
   "metadata": {},
   "outputs": [
    {
     "data": {
      "text/plain": [
       "{'gsd': 20,\n",
       " 'created': '2024-10-29T12:11:45.979215+00:00',\n",
       " 'datetime': '2023-10-25T05:17:47Z',\n",
       " 'Equi7Tile': 'EU020M_E051N021T3',\n",
       " 'blocksize': {'x': 512, 'y': 512},\n",
       " 'proj:bbox': [5100000, 2100000, 5400000, 2400000],\n",
       " 'proj:wkt2': 'PROJCS[\"Azimuthal_Equidistant\",GEOGCS[\"WGS 84\",DATUM[\"WGS_1984\",SPHEROID[\"WGS 84\",6378137,298.257223563,AUTHORITY[\"EPSG\",\"7030\"]],AUTHORITY[\"EPSG\",\"6326\"]],PRIMEM[\"Greenwich\",0],UNIT[\"degree\",0.0174532925199433],AUTHORITY[\"EPSG\",\"4326\"]],PROJECTION[\"Azimuthal_Equidistant\"],PARAMETER[\"latitude_of_center\",53],PARAMETER[\"longitude_of_center\",24],PARAMETER[\"false_easting\",5837287.81977],PARAMETER[\"false_northing\",2121415.69617],UNIT[\"metre\",1,AUTHORITY[\"EPSG\",\"9001\"]]]',\n",
       " 'proj:shape': [15000, 15000],\n",
       " 'constellation': 'sentinel-1',\n",
       " 'flood_members': {'DLR': True, 'TUW': True, 'LIST': True},\n",
       " 'proj:geometry': {'type': 'Polygon',\n",
       "  'coordinates': [[[5100000.0, 2100000.0],\n",
       "    [5100000.0, 2400000.0],\n",
       "    [5400000.0, 2400000.0],\n",
       "    [5400000.0, 2100000.0],\n",
       "    [5100000.0, 2100000.0]]]},\n",
       " 'flooded_pixels': 11364,\n",
       " 'proj:transform': [20, 0, 5100000, 0, -20, 2400000],\n",
       " 'anomaly_detected': False,\n",
       " 'floodable_pixels': 41949127,\n",
       " 'processing:level': 'L3',\n",
       " 'processing:lineage': 'Global Flood Monitoring',\n",
       " 'processing:version': 'GFM v3.1.0',\n",
       " 'processing:datetime': '2024-05-01T03:38:58.739830Z',\n",
       " 'processing:facility': 'EODC GmbH, Vienna',\n",
       " 'processing:software': {'GFM': 'archive V02'},\n",
       " 'ratio_after_blob_removal': 0.6332277367124252}"
      ]
     },
     "execution_count": 5,
     "metadata": {},
     "output_type": "execute_result"
    }
   ],
   "source": [
    "items_GFM[0].properties"
   ]
  },
  {
   "cell_type": "markdown",
   "metadata": {},
   "source": [
    "### Load the data cube"
   ]
  },
  {
   "cell_type": "code",
   "execution_count": 6,
   "metadata": {},
   "outputs": [
    {
     "data": {
      "text/html": [
       "<div><svg style=\"position: absolute; width: 0; height: 0; overflow: hidden\">\n",
       "<defs>\n",
       "<symbol id=\"icon-database\" viewBox=\"0 0 32 32\">\n",
       "<path d=\"M16 0c-8.837 0-16 2.239-16 5v4c0 2.761 7.163 5 16 5s16-2.239 16-5v-4c0-2.761-7.163-5-16-5z\"></path>\n",
       "<path d=\"M16 17c-8.837 0-16-2.239-16-5v6c0 2.761 7.163 5 16 5s16-2.239 16-5v-6c0 2.761-7.163 5-16 5z\"></path>\n",
       "<path d=\"M16 26c-8.837 0-16-2.239-16-5v6c0 2.761 7.163 5 16 5s16-2.239 16-5v-6c0 2.761-7.163 5-16 5z\"></path>\n",
       "</symbol>\n",
       "<symbol id=\"icon-file-text2\" viewBox=\"0 0 32 32\">\n",
       "<path d=\"M28.681 7.159c-0.694-0.947-1.662-2.053-2.724-3.116s-2.169-2.030-3.116-2.724c-1.612-1.182-2.393-1.319-2.841-1.319h-15.5c-1.378 0-2.5 1.121-2.5 2.5v27c0 1.378 1.122 2.5 2.5 2.5h23c1.378 0 2.5-1.122 2.5-2.5v-19.5c0-0.448-0.137-1.23-1.319-2.841zM24.543 5.457c0.959 0.959 1.712 1.825 2.268 2.543h-4.811v-4.811c0.718 0.556 1.584 1.309 2.543 2.268zM28 29.5c0 0.271-0.229 0.5-0.5 0.5h-23c-0.271 0-0.5-0.229-0.5-0.5v-27c0-0.271 0.229-0.5 0.5-0.5 0 0 15.499-0 15.5 0v7c0 0.552 0.448 1 1 1h7v19.5z\"></path>\n",
       "<path d=\"M23 26h-14c-0.552 0-1-0.448-1-1s0.448-1 1-1h14c0.552 0 1 0.448 1 1s-0.448 1-1 1z\"></path>\n",
       "<path d=\"M23 22h-14c-0.552 0-1-0.448-1-1s0.448-1 1-1h14c0.552 0 1 0.448 1 1s-0.448 1-1 1z\"></path>\n",
       "<path d=\"M23 18h-14c-0.552 0-1-0.448-1-1s0.448-1 1-1h14c0.552 0 1 0.448 1 1s-0.448 1-1 1z\"></path>\n",
       "</symbol>\n",
       "</defs>\n",
       "</svg>\n",
       "<style>/* CSS stylesheet for displaying xarray objects in jupyterlab.\n",
       " *\n",
       " */\n",
       "\n",
       ":root {\n",
       "  --xr-font-color0: var(--jp-content-font-color0, rgba(0, 0, 0, 1));\n",
       "  --xr-font-color2: var(--jp-content-font-color2, rgba(0, 0, 0, 0.54));\n",
       "  --xr-font-color3: var(--jp-content-font-color3, rgba(0, 0, 0, 0.38));\n",
       "  --xr-border-color: var(--jp-border-color2, #e0e0e0);\n",
       "  --xr-disabled-color: var(--jp-layout-color3, #bdbdbd);\n",
       "  --xr-background-color: var(--jp-layout-color0, white);\n",
       "  --xr-background-color-row-even: var(--jp-layout-color1, white);\n",
       "  --xr-background-color-row-odd: var(--jp-layout-color2, #eeeeee);\n",
       "}\n",
       "\n",
       "html[theme=\"dark\"],\n",
       "html[data-theme=\"dark\"],\n",
       "body[data-theme=\"dark\"],\n",
       "body.vscode-dark {\n",
       "  --xr-font-color0: rgba(255, 255, 255, 1);\n",
       "  --xr-font-color2: rgba(255, 255, 255, 0.54);\n",
       "  --xr-font-color3: rgba(255, 255, 255, 0.38);\n",
       "  --xr-border-color: #1f1f1f;\n",
       "  --xr-disabled-color: #515151;\n",
       "  --xr-background-color: #111111;\n",
       "  --xr-background-color-row-even: #111111;\n",
       "  --xr-background-color-row-odd: #313131;\n",
       "}\n",
       "\n",
       ".xr-wrap {\n",
       "  display: block !important;\n",
       "  min-width: 300px;\n",
       "  max-width: 700px;\n",
       "}\n",
       "\n",
       ".xr-text-repr-fallback {\n",
       "  /* fallback to plain text repr when CSS is not injected (untrusted notebook) */\n",
       "  display: none;\n",
       "}\n",
       "\n",
       ".xr-header {\n",
       "  padding-top: 6px;\n",
       "  padding-bottom: 6px;\n",
       "  margin-bottom: 4px;\n",
       "  border-bottom: solid 1px var(--xr-border-color);\n",
       "}\n",
       "\n",
       ".xr-header > div,\n",
       ".xr-header > ul {\n",
       "  display: inline;\n",
       "  margin-top: 0;\n",
       "  margin-bottom: 0;\n",
       "}\n",
       "\n",
       ".xr-obj-type,\n",
       ".xr-array-name {\n",
       "  margin-left: 2px;\n",
       "  margin-right: 10px;\n",
       "}\n",
       "\n",
       ".xr-obj-type {\n",
       "  color: var(--xr-font-color2);\n",
       "}\n",
       "\n",
       ".xr-sections {\n",
       "  padding-left: 0 !important;\n",
       "  display: grid;\n",
       "  grid-template-columns: 150px auto auto 1fr 0 20px 0 20px;\n",
       "}\n",
       "\n",
       ".xr-section-item {\n",
       "  display: contents;\n",
       "}\n",
       "\n",
       ".xr-section-item input {\n",
       "  display: inline-block;\n",
       "  opacity: 0;\n",
       "  height: 0;\n",
       "}\n",
       "\n",
       ".xr-section-item input + label {\n",
       "  color: var(--xr-disabled-color);\n",
       "}\n",
       "\n",
       ".xr-section-item input:enabled + label {\n",
       "  cursor: pointer;\n",
       "  color: var(--xr-font-color2);\n",
       "}\n",
       "\n",
       ".xr-section-item input:focus + label {\n",
       "  border: 2px solid var(--xr-font-color0);\n",
       "}\n",
       "\n",
       ".xr-section-item input:enabled + label:hover {\n",
       "  color: var(--xr-font-color0);\n",
       "}\n",
       "\n",
       ".xr-section-summary {\n",
       "  grid-column: 1;\n",
       "  color: var(--xr-font-color2);\n",
       "  font-weight: 500;\n",
       "}\n",
       "\n",
       ".xr-section-summary > span {\n",
       "  display: inline-block;\n",
       "  padding-left: 0.5em;\n",
       "}\n",
       "\n",
       ".xr-section-summary-in:disabled + label {\n",
       "  color: var(--xr-font-color2);\n",
       "}\n",
       "\n",
       ".xr-section-summary-in + label:before {\n",
       "  display: inline-block;\n",
       "  content: \"►\";\n",
       "  font-size: 11px;\n",
       "  width: 15px;\n",
       "  text-align: center;\n",
       "}\n",
       "\n",
       ".xr-section-summary-in:disabled + label:before {\n",
       "  color: var(--xr-disabled-color);\n",
       "}\n",
       "\n",
       ".xr-section-summary-in:checked + label:before {\n",
       "  content: \"▼\";\n",
       "}\n",
       "\n",
       ".xr-section-summary-in:checked + label > span {\n",
       "  display: none;\n",
       "}\n",
       "\n",
       ".xr-section-summary,\n",
       ".xr-section-inline-details {\n",
       "  padding-top: 4px;\n",
       "  padding-bottom: 4px;\n",
       "}\n",
       "\n",
       ".xr-section-inline-details {\n",
       "  grid-column: 2 / -1;\n",
       "}\n",
       "\n",
       ".xr-section-details {\n",
       "  display: none;\n",
       "  grid-column: 1 / -1;\n",
       "  margin-bottom: 5px;\n",
       "}\n",
       "\n",
       ".xr-section-summary-in:checked ~ .xr-section-details {\n",
       "  display: contents;\n",
       "}\n",
       "\n",
       ".xr-array-wrap {\n",
       "  grid-column: 1 / -1;\n",
       "  display: grid;\n",
       "  grid-template-columns: 20px auto;\n",
       "}\n",
       "\n",
       ".xr-array-wrap > label {\n",
       "  grid-column: 1;\n",
       "  vertical-align: top;\n",
       "}\n",
       "\n",
       ".xr-preview {\n",
       "  color: var(--xr-font-color3);\n",
       "}\n",
       "\n",
       ".xr-array-preview,\n",
       ".xr-array-data {\n",
       "  padding: 0 5px !important;\n",
       "  grid-column: 2;\n",
       "}\n",
       "\n",
       ".xr-array-data,\n",
       ".xr-array-in:checked ~ .xr-array-preview {\n",
       "  display: none;\n",
       "}\n",
       "\n",
       ".xr-array-in:checked ~ .xr-array-data,\n",
       ".xr-array-preview {\n",
       "  display: inline-block;\n",
       "}\n",
       "\n",
       ".xr-dim-list {\n",
       "  display: inline-block !important;\n",
       "  list-style: none;\n",
       "  padding: 0 !important;\n",
       "  margin: 0;\n",
       "}\n",
       "\n",
       ".xr-dim-list li {\n",
       "  display: inline-block;\n",
       "  padding: 0;\n",
       "  margin: 0;\n",
       "}\n",
       "\n",
       ".xr-dim-list:before {\n",
       "  content: \"(\";\n",
       "}\n",
       "\n",
       ".xr-dim-list:after {\n",
       "  content: \")\";\n",
       "}\n",
       "\n",
       ".xr-dim-list li:not(:last-child):after {\n",
       "  content: \",\";\n",
       "  padding-right: 5px;\n",
       "}\n",
       "\n",
       ".xr-has-index {\n",
       "  font-weight: bold;\n",
       "}\n",
       "\n",
       ".xr-var-list,\n",
       ".xr-var-item {\n",
       "  display: contents;\n",
       "}\n",
       "\n",
       ".xr-var-item > div,\n",
       ".xr-var-item label,\n",
       ".xr-var-item > .xr-var-name span {\n",
       "  background-color: var(--xr-background-color-row-even);\n",
       "  margin-bottom: 0;\n",
       "}\n",
       "\n",
       ".xr-var-item > .xr-var-name:hover span {\n",
       "  padding-right: 5px;\n",
       "}\n",
       "\n",
       ".xr-var-list > li:nth-child(odd) > div,\n",
       ".xr-var-list > li:nth-child(odd) > label,\n",
       ".xr-var-list > li:nth-child(odd) > .xr-var-name span {\n",
       "  background-color: var(--xr-background-color-row-odd);\n",
       "}\n",
       "\n",
       ".xr-var-name {\n",
       "  grid-column: 1;\n",
       "}\n",
       "\n",
       ".xr-var-dims {\n",
       "  grid-column: 2;\n",
       "}\n",
       "\n",
       ".xr-var-dtype {\n",
       "  grid-column: 3;\n",
       "  text-align: right;\n",
       "  color: var(--xr-font-color2);\n",
       "}\n",
       "\n",
       ".xr-var-preview {\n",
       "  grid-column: 4;\n",
       "}\n",
       "\n",
       ".xr-index-preview {\n",
       "  grid-column: 2 / 5;\n",
       "  color: var(--xr-font-color2);\n",
       "}\n",
       "\n",
       ".xr-var-name,\n",
       ".xr-var-dims,\n",
       ".xr-var-dtype,\n",
       ".xr-preview,\n",
       ".xr-attrs dt {\n",
       "  white-space: nowrap;\n",
       "  overflow: hidden;\n",
       "  text-overflow: ellipsis;\n",
       "  padding-right: 10px;\n",
       "}\n",
       "\n",
       ".xr-var-name:hover,\n",
       ".xr-var-dims:hover,\n",
       ".xr-var-dtype:hover,\n",
       ".xr-attrs dt:hover {\n",
       "  overflow: visible;\n",
       "  width: auto;\n",
       "  z-index: 1;\n",
       "}\n",
       "\n",
       ".xr-var-attrs,\n",
       ".xr-var-data,\n",
       ".xr-index-data {\n",
       "  display: none;\n",
       "  background-color: var(--xr-background-color) !important;\n",
       "  padding-bottom: 5px !important;\n",
       "}\n",
       "\n",
       ".xr-var-attrs-in:checked ~ .xr-var-attrs,\n",
       ".xr-var-data-in:checked ~ .xr-var-data,\n",
       ".xr-index-data-in:checked ~ .xr-index-data {\n",
       "  display: block;\n",
       "}\n",
       "\n",
       ".xr-var-data > table {\n",
       "  float: right;\n",
       "}\n",
       "\n",
       ".xr-var-name span,\n",
       ".xr-var-data,\n",
       ".xr-index-name div,\n",
       ".xr-index-data,\n",
       ".xr-attrs {\n",
       "  padding-left: 25px !important;\n",
       "}\n",
       "\n",
       ".xr-attrs,\n",
       ".xr-var-attrs,\n",
       ".xr-var-data,\n",
       ".xr-index-data {\n",
       "  grid-column: 1 / -1;\n",
       "}\n",
       "\n",
       "dl.xr-attrs {\n",
       "  padding: 0;\n",
       "  margin: 0;\n",
       "  display: grid;\n",
       "  grid-template-columns: 125px auto;\n",
       "}\n",
       "\n",
       ".xr-attrs dt,\n",
       ".xr-attrs dd {\n",
       "  padding: 0;\n",
       "  margin: 0;\n",
       "  float: left;\n",
       "  padding-right: 10px;\n",
       "  width: auto;\n",
       "}\n",
       "\n",
       ".xr-attrs dt {\n",
       "  font-weight: normal;\n",
       "  grid-column: 1;\n",
       "}\n",
       "\n",
       ".xr-attrs dt:hover span {\n",
       "  display: inline-block;\n",
       "  background: var(--xr-background-color);\n",
       "  padding-right: 10px;\n",
       "}\n",
       "\n",
       ".xr-attrs dd {\n",
       "  grid-column: 2;\n",
       "  white-space: pre-wrap;\n",
       "  word-break: break-all;\n",
       "}\n",
       "\n",
       ".xr-icon-database,\n",
       ".xr-icon-file-text2,\n",
       ".xr-no-icon {\n",
       "  display: inline-block;\n",
       "  vertical-align: middle;\n",
       "  width: 1em;\n",
       "  height: 1.5em !important;\n",
       "  stroke-width: 0;\n",
       "  stroke: currentColor;\n",
       "  fill: currentColor;\n",
       "}\n",
       "</style><pre class='xr-text-repr-fallback'>&lt;xarray.Dataset&gt; Size: 2GB\n",
       "Dimensions:                (y: 2064, x: 2829, time: 28)\n",
       "Coordinates:\n",
       "  * y                      (y) float64 17kB 2.362e+06 2.362e+06 ... 2.32e+06\n",
       "  * x                      (x) float64 23kB 5.079e+06 5.079e+06 ... 5.136e+06\n",
       "    spatial_ref            int32 4B 27704\n",
       "  * time                   (time) datetime64[ns] 224B 2023-10-11T05:33:18 ......\n",
       "Data variables:\n",
       "    advisory_flags         (time, y, x) uint8 163MB dask.array&lt;chunksize=(28, 1000, 1000), meta=np.ndarray&gt;\n",
       "    dlr_likelihood         (time, y, x) uint8 163MB dask.array&lt;chunksize=(28, 1000, 1000), meta=np.ndarray&gt;\n",
       "    exclusion_mask         (time, y, x) uint8 163MB dask.array&lt;chunksize=(28, 1000, 1000), meta=np.ndarray&gt;\n",
       "    tuw_likelihood         (time, y, x) uint8 163MB dask.array&lt;chunksize=(28, 1000, 1000), meta=np.ndarray&gt;\n",
       "    list_likelihood        (time, y, x) uint8 163MB dask.array&lt;chunksize=(28, 1000, 1000), meta=np.ndarray&gt;\n",
       "    dlr_flood_extent       (time, y, x) uint8 163MB dask.array&lt;chunksize=(28, 1000, 1000), meta=np.ndarray&gt;\n",
       "    tuw_flood_extent       (time, y, x) uint8 163MB dask.array&lt;chunksize=(28, 1000, 1000), meta=np.ndarray&gt;\n",
       "    list_flood_extent      (time, y, x) uint8 163MB dask.array&lt;chunksize=(28, 1000, 1000), meta=np.ndarray&gt;\n",
       "    ensemble_likelihood    (time, y, x) uint8 163MB dask.array&lt;chunksize=(28, 1000, 1000), meta=np.ndarray&gt;\n",
       "    reference_water_mask   (time, y, x) uint8 163MB dask.array&lt;chunksize=(28, 1000, 1000), meta=np.ndarray&gt;\n",
       "    ensemble_flood_extent  (time, y, x) uint8 163MB dask.array&lt;chunksize=(28, 1000, 1000), meta=np.ndarray&gt;\n",
       "    ensemble_water_extent  (time, y, x) uint8 163MB dask.array&lt;chunksize=(28, 1000, 1000), meta=np.ndarray&gt;</pre><div class='xr-wrap' style='display:none'><div class='xr-header'><div class='xr-obj-type'>xarray.Dataset</div></div><ul class='xr-sections'><li class='xr-section-item'><input id='section-55aae9d9-9a0d-462a-b7d5-21e31385dd76' class='xr-section-summary-in' type='checkbox' disabled ><label for='section-55aae9d9-9a0d-462a-b7d5-21e31385dd76' class='xr-section-summary'  title='Expand/collapse section'>Dimensions:</label><div class='xr-section-inline-details'><ul class='xr-dim-list'><li><span class='xr-has-index'>y</span>: 2064</li><li><span class='xr-has-index'>x</span>: 2829</li><li><span class='xr-has-index'>time</span>: 28</li></ul></div><div class='xr-section-details'></div></li><li class='xr-section-item'><input id='section-4793fd95-8bf3-4003-a13b-f472b9622acc' class='xr-section-summary-in' type='checkbox'  checked><label for='section-4793fd95-8bf3-4003-a13b-f472b9622acc' class='xr-section-summary' >Coordinates: <span>(4)</span></label><div class='xr-section-inline-details'></div><div class='xr-section-details'><ul class='xr-var-list'><li class='xr-var-item'><div class='xr-var-name'><span class='xr-has-index'>y</span></div><div class='xr-var-dims'>(y)</div><div class='xr-var-dtype'>float64</div><div class='xr-var-preview xr-preview'>2.362e+06 2.362e+06 ... 2.32e+06</div><input id='attrs-29c6c056-bd41-4876-a045-b5e1ae5a8e51' class='xr-var-attrs-in' type='checkbox' ><label for='attrs-29c6c056-bd41-4876-a045-b5e1ae5a8e51' title='Show/Hide attributes'><svg class='icon xr-icon-file-text2'><use xlink:href='#icon-file-text2'></use></svg></label><input id='data-d4e5264e-88e7-41ad-bb2c-1c58a2095f53' class='xr-var-data-in' type='checkbox'><label for='data-d4e5264e-88e7-41ad-bb2c-1c58a2095f53' title='Show/Hide data repr'><svg class='icon xr-icon-database'><use xlink:href='#icon-database'></use></svg></label><div class='xr-var-attrs'><dl class='xr-attrs'><dt><span>units :</span></dt><dd>metre</dd><dt><span>resolution :</span></dt><dd>-20.0</dd><dt><span>crs :</span></dt><dd>PROJCS[&quot;Azimuthal_Equidistant&quot;,GEOGCS[&quot;WGS 84&quot;,DATUM[&quot;WGS_1984&quot;,SPHEROID[&quot;WGS 84&quot;,6378137,298.257223563,AUTHORITY[&quot;EPSG&quot;,&quot;7030&quot;]],AUTHORITY[&quot;EPSG&quot;,&quot;6326&quot;]],PRIMEM[&quot;Greenwich&quot;,0],UNIT[&quot;degree&quot;,0.0174532925199433],AUTHORITY[&quot;EPSG&quot;,&quot;4326&quot;]],PROJECTION[&quot;Azimuthal_Equidistant&quot;],PARAMETER[&quot;latitude_of_center&quot;,53],PARAMETER[&quot;longitude_of_center&quot;,24],PARAMETER[&quot;false_easting&quot;,5837287.81977],PARAMETER[&quot;false_northing&quot;,2121415.69617],UNIT[&quot;metre&quot;,1,AUTHORITY[&quot;EPSG&quot;,&quot;9001&quot;]]]</dd></dl></div><div class='xr-var-data'><pre>array([2361530., 2361510., 2361490., ..., 2320310., 2320290., 2320270.])</pre></div></li><li class='xr-var-item'><div class='xr-var-name'><span class='xr-has-index'>x</span></div><div class='xr-var-dims'>(x)</div><div class='xr-var-dtype'>float64</div><div class='xr-var-preview xr-preview'>5.079e+06 5.079e+06 ... 5.136e+06</div><input id='attrs-dbb1ae59-0c55-4eed-8b3f-6d54e31043f0' class='xr-var-attrs-in' type='checkbox' ><label for='attrs-dbb1ae59-0c55-4eed-8b3f-6d54e31043f0' title='Show/Hide attributes'><svg class='icon xr-icon-file-text2'><use xlink:href='#icon-file-text2'></use></svg></label><input id='data-dd3bc86c-9519-4724-9c06-9f7514f1f62a' class='xr-var-data-in' type='checkbox'><label for='data-dd3bc86c-9519-4724-9c06-9f7514f1f62a' title='Show/Hide data repr'><svg class='icon xr-icon-database'><use xlink:href='#icon-database'></use></svg></label><div class='xr-var-attrs'><dl class='xr-attrs'><dt><span>units :</span></dt><dd>metre</dd><dt><span>resolution :</span></dt><dd>20.0</dd><dt><span>crs :</span></dt><dd>PROJCS[&quot;Azimuthal_Equidistant&quot;,GEOGCS[&quot;WGS 84&quot;,DATUM[&quot;WGS_1984&quot;,SPHEROID[&quot;WGS 84&quot;,6378137,298.257223563,AUTHORITY[&quot;EPSG&quot;,&quot;7030&quot;]],AUTHORITY[&quot;EPSG&quot;,&quot;6326&quot;]],PRIMEM[&quot;Greenwich&quot;,0],UNIT[&quot;degree&quot;,0.0174532925199433],AUTHORITY[&quot;EPSG&quot;,&quot;4326&quot;]],PROJECTION[&quot;Azimuthal_Equidistant&quot;],PARAMETER[&quot;latitude_of_center&quot;,53],PARAMETER[&quot;longitude_of_center&quot;,24],PARAMETER[&quot;false_easting&quot;,5837287.81977],PARAMETER[&quot;false_northing&quot;,2121415.69617],UNIT[&quot;metre&quot;,1,AUTHORITY[&quot;EPSG&quot;,&quot;9001&quot;]]]</dd></dl></div><div class='xr-var-data'><pre>array([5078950., 5078970., 5078990., ..., 5135470., 5135490., 5135510.])</pre></div></li><li class='xr-var-item'><div class='xr-var-name'><span>spatial_ref</span></div><div class='xr-var-dims'>()</div><div class='xr-var-dtype'>int32</div><div class='xr-var-preview xr-preview'>27704</div><input id='attrs-c957cab4-ad2a-4378-a0ac-2aad3389f38d' class='xr-var-attrs-in' type='checkbox' ><label for='attrs-c957cab4-ad2a-4378-a0ac-2aad3389f38d' title='Show/Hide attributes'><svg class='icon xr-icon-file-text2'><use xlink:href='#icon-file-text2'></use></svg></label><input id='data-f8d2c679-e8df-4a08-bc06-b3732429b3be' class='xr-var-data-in' type='checkbox'><label for='data-f8d2c679-e8df-4a08-bc06-b3732429b3be' title='Show/Hide data repr'><svg class='icon xr-icon-database'><use xlink:href='#icon-database'></use></svg></label><div class='xr-var-attrs'><dl class='xr-attrs'><dt><span>spatial_ref :</span></dt><dd>PROJCRS[&quot;Azimuthal_Equidistant&quot;,BASEGEOGCRS[&quot;WGS 84&quot;,DATUM[&quot;World Geodetic System 1984&quot;,ELLIPSOID[&quot;WGS 84&quot;,6378137,298.257223563,LENGTHUNIT[&quot;metre&quot;,1]]],PRIMEM[&quot;Greenwich&quot;,0,ANGLEUNIT[&quot;degree&quot;,0.0174532925199433]],ID[&quot;EPSG&quot;,4326]],CONVERSION[&quot;unnamed&quot;,METHOD[&quot;Azimuthal Equidistant&quot;,ID[&quot;EPSG&quot;,1125]],PARAMETER[&quot;Latitude of natural origin&quot;,53,ANGLEUNIT[&quot;degree&quot;,0.0174532925199433],ID[&quot;EPSG&quot;,8801]],PARAMETER[&quot;Longitude of natural origin&quot;,24,ANGLEUNIT[&quot;degree&quot;,0.0174532925199433],ID[&quot;EPSG&quot;,8802]],PARAMETER[&quot;False easting&quot;,5837287.81977,LENGTHUNIT[&quot;metre&quot;,1],ID[&quot;EPSG&quot;,8806]],PARAMETER[&quot;False northing&quot;,2121415.69617,LENGTHUNIT[&quot;metre&quot;,1],ID[&quot;EPSG&quot;,8807]]],CS[Cartesian,2],AXIS[&quot;(E)&quot;,east,ORDER[1],LENGTHUNIT[&quot;metre&quot;,1,ID[&quot;EPSG&quot;,9001]]],AXIS[&quot;(N)&quot;,north,ORDER[2],LENGTHUNIT[&quot;metre&quot;,1,ID[&quot;EPSG&quot;,9001]]]]</dd><dt><span>crs_wkt :</span></dt><dd>PROJCRS[&quot;Azimuthal_Equidistant&quot;,BASEGEOGCRS[&quot;WGS 84&quot;,DATUM[&quot;World Geodetic System 1984&quot;,ELLIPSOID[&quot;WGS 84&quot;,6378137,298.257223563,LENGTHUNIT[&quot;metre&quot;,1]]],PRIMEM[&quot;Greenwich&quot;,0,ANGLEUNIT[&quot;degree&quot;,0.0174532925199433]],ID[&quot;EPSG&quot;,4326]],CONVERSION[&quot;unnamed&quot;,METHOD[&quot;Azimuthal Equidistant&quot;,ID[&quot;EPSG&quot;,1125]],PARAMETER[&quot;Latitude of natural origin&quot;,53,ANGLEUNIT[&quot;degree&quot;,0.0174532925199433],ID[&quot;EPSG&quot;,8801]],PARAMETER[&quot;Longitude of natural origin&quot;,24,ANGLEUNIT[&quot;degree&quot;,0.0174532925199433],ID[&quot;EPSG&quot;,8802]],PARAMETER[&quot;False easting&quot;,5837287.81977,LENGTHUNIT[&quot;metre&quot;,1],ID[&quot;EPSG&quot;,8806]],PARAMETER[&quot;False northing&quot;,2121415.69617,LENGTHUNIT[&quot;metre&quot;,1],ID[&quot;EPSG&quot;,8807]]],CS[Cartesian,2],AXIS[&quot;(E)&quot;,east,ORDER[1],LENGTHUNIT[&quot;metre&quot;,1,ID[&quot;EPSG&quot;,9001]]],AXIS[&quot;(N)&quot;,north,ORDER[2],LENGTHUNIT[&quot;metre&quot;,1,ID[&quot;EPSG&quot;,9001]]]]</dd><dt><span>semi_major_axis :</span></dt><dd>6378137.0</dd><dt><span>semi_minor_axis :</span></dt><dd>6356752.314245179</dd><dt><span>inverse_flattening :</span></dt><dd>298.257223563</dd><dt><span>reference_ellipsoid_name :</span></dt><dd>WGS 84</dd><dt><span>longitude_of_prime_meridian :</span></dt><dd>0.0</dd><dt><span>prime_meridian_name :</span></dt><dd>Greenwich</dd><dt><span>geographic_crs_name :</span></dt><dd>WGS 84</dd><dt><span>horizontal_datum_name :</span></dt><dd>World Geodetic System 1984</dd><dt><span>projected_crs_name :</span></dt><dd>Azimuthal_Equidistant</dd><dt><span>grid_mapping_name :</span></dt><dd>azimuthal_equidistant</dd><dt><span>latitude_of_projection_origin :</span></dt><dd>53.0</dd><dt><span>longitude_of_projection_origin :</span></dt><dd>24.0</dd><dt><span>false_easting :</span></dt><dd>5837287.81977</dd><dt><span>false_northing :</span></dt><dd>2121415.69617</dd><dt><span>GeoTransform :</span></dt><dd>5078940 20 0 2361540 0 -20</dd></dl></div><div class='xr-var-data'><pre>array(27704)</pre></div></li><li class='xr-var-item'><div class='xr-var-name'><span class='xr-has-index'>time</span></div><div class='xr-var-dims'>(time)</div><div class='xr-var-dtype'>datetime64[ns]</div><div class='xr-var-preview xr-preview'>2023-10-11T05:33:18 ... 2023-10-...</div><input id='attrs-346dc186-1780-4305-826a-32790adb9a51' class='xr-var-attrs-in' type='checkbox' disabled><label for='attrs-346dc186-1780-4305-826a-32790adb9a51' title='Show/Hide attributes'><svg class='icon xr-icon-file-text2'><use xlink:href='#icon-file-text2'></use></svg></label><input id='data-e0cab1fb-9982-45b0-b1f8-dd45ee28a8fc' class='xr-var-data-in' type='checkbox'><label for='data-e0cab1fb-9982-45b0-b1f8-dd45ee28a8fc' title='Show/Hide data repr'><svg class='icon xr-icon-database'><use xlink:href='#icon-database'></use></svg></label><div class='xr-var-attrs'><dl class='xr-attrs'></dl></div><div class='xr-var-data'><pre>array([&#x27;2023-10-11T05:33:18.000000000&#x27;, &#x27;2023-10-11T05:33:43.000000000&#x27;,\n",
       "       &#x27;2023-10-11T05:34:08.000000000&#x27;, &#x27;2023-10-11T16:44:35.000000000&#x27;,\n",
       "       &#x27;2023-10-11T16:45:00.000000000&#x27;, &#x27;2023-10-13T05:16:57.000000000&#x27;,\n",
       "       &#x27;2023-10-13T05:17:22.000000000&#x27;, &#x27;2023-10-13T05:17:47.000000000&#x27;,\n",
       "       &#x27;2023-10-14T17:09:06.000000000&#x27;, &#x27;2023-10-14T17:09:31.000000000&#x27;,\n",
       "       &#x27;2023-10-14T17:09:56.000000000&#x27;, &#x27;2023-10-16T05:41:42.000000000&#x27;,\n",
       "       &#x27;2023-10-16T05:42:07.000000000&#x27;, &#x27;2023-10-16T05:42:32.000000000&#x27;,\n",
       "       &#x27;2023-10-16T16:52:39.000000000&#x27;, &#x27;2023-10-16T16:53:04.000000000&#x27;,\n",
       "       &#x27;2023-10-16T16:53:29.000000000&#x27;, &#x27;2023-10-19T17:17:02.000000000&#x27;,\n",
       "       &#x27;2023-10-19T17:17:27.000000000&#x27;, &#x27;2023-10-19T17:17:52.000000000&#x27;,\n",
       "       &#x27;2023-10-23T05:33:19.000000000&#x27;, &#x27;2023-10-23T05:33:44.000000000&#x27;,\n",
       "       &#x27;2023-10-23T05:34:09.000000000&#x27;, &#x27;2023-10-23T16:44:36.000000000&#x27;,\n",
       "       &#x27;2023-10-23T16:45:01.000000000&#x27;, &#x27;2023-10-25T05:16:57.000000000&#x27;,\n",
       "       &#x27;2023-10-25T05:17:22.000000000&#x27;, &#x27;2023-10-25T05:17:47.000000000&#x27;],\n",
       "      dtype=&#x27;datetime64[ns]&#x27;)</pre></div></li></ul></div></li><li class='xr-section-item'><input id='section-27848967-3cba-48df-aab6-30258fee2439' class='xr-section-summary-in' type='checkbox'  checked><label for='section-27848967-3cba-48df-aab6-30258fee2439' class='xr-section-summary' >Data variables: <span>(12)</span></label><div class='xr-section-inline-details'></div><div class='xr-section-details'><ul class='xr-var-list'><li class='xr-var-item'><div class='xr-var-name'><span>advisory_flags</span></div><div class='xr-var-dims'>(time, y, x)</div><div class='xr-var-dtype'>uint8</div><div class='xr-var-preview xr-preview'>dask.array&lt;chunksize=(28, 1000, 1000), meta=np.ndarray&gt;</div><input id='attrs-8ca3d407-d7b1-4540-b3ff-91a0478ba9cd' class='xr-var-attrs-in' type='checkbox' ><label for='attrs-8ca3d407-d7b1-4540-b3ff-91a0478ba9cd' title='Show/Hide attributes'><svg class='icon xr-icon-file-text2'><use xlink:href='#icon-file-text2'></use></svg></label><input id='data-b862f853-8166-4bc9-9c67-923daa16bfa0' class='xr-var-data-in' type='checkbox'><label for='data-b862f853-8166-4bc9-9c67-923daa16bfa0' title='Show/Hide data repr'><svg class='icon xr-icon-database'><use xlink:href='#icon-database'></use></svg></label><div class='xr-var-attrs'><dl class='xr-attrs'><dt><span>nodata :</span></dt><dd>255</dd></dl></div><div class='xr-var-data'><table>\n",
       "    <tr>\n",
       "        <td>\n",
       "            <table style=\"border-collapse: collapse;\">\n",
       "                <thead>\n",
       "                    <tr>\n",
       "                        <td> </td>\n",
       "                        <th> Array </th>\n",
       "                        <th> Chunk </th>\n",
       "                    </tr>\n",
       "                </thead>\n",
       "                <tbody>\n",
       "                    \n",
       "                    <tr>\n",
       "                        <th> Bytes </th>\n",
       "                        <td> 155.92 MiB </td>\n",
       "                        <td> 26.70 MiB </td>\n",
       "                    </tr>\n",
       "                    \n",
       "                    <tr>\n",
       "                        <th> Shape </th>\n",
       "                        <td> (28, 2064, 2829) </td>\n",
       "                        <td> (28, 1000, 1000) </td>\n",
       "                    </tr>\n",
       "                    <tr>\n",
       "                        <th> Dask graph </th>\n",
       "                        <td colspan=\"2\"> 9 chunks in 1 graph layer </td>\n",
       "                    </tr>\n",
       "                    <tr>\n",
       "                        <th> Data type </th>\n",
       "                        <td colspan=\"2\"> uint8 numpy.ndarray </td>\n",
       "                    </tr>\n",
       "                </tbody>\n",
       "            </table>\n",
       "        </td>\n",
       "        <td>\n",
       "        <svg width=\"194\" height=\"152\" style=\"stroke:rgb(0,0,0);stroke-width:1\" >\n",
       "\n",
       "  <!-- Horizontal lines -->\n",
       "  <line x1=\"10\" y1=\"0\" x2=\"24\" y2=\"14\" style=\"stroke-width:2\" />\n",
       "  <line x1=\"10\" y1=\"42\" x2=\"24\" y2=\"57\" />\n",
       "  <line x1=\"10\" y1=\"84\" x2=\"24\" y2=\"99\" />\n",
       "  <line x1=\"10\" y1=\"87\" x2=\"24\" y2=\"102\" style=\"stroke-width:2\" />\n",
       "\n",
       "  <!-- Vertical lines -->\n",
       "  <line x1=\"10\" y1=\"0\" x2=\"10\" y2=\"87\" style=\"stroke-width:2\" />\n",
       "  <line x1=\"24\" y1=\"14\" x2=\"24\" y2=\"102\" style=\"stroke-width:2\" />\n",
       "\n",
       "  <!-- Colored Rectangle -->\n",
       "  <polygon points=\"10.0,0.0 24.9485979497544,14.948597949754403 24.9485979497544,102.49896910563987 10.0,87.55037115588547\" style=\"fill:#ECB172A0;stroke-width:0\"/>\n",
       "\n",
       "  <!-- Horizontal lines -->\n",
       "  <line x1=\"10\" y1=\"0\" x2=\"130\" y2=\"0\" style=\"stroke-width:2\" />\n",
       "  <line x1=\"24\" y1=\"14\" x2=\"144\" y2=\"14\" style=\"stroke-width:2\" />\n",
       "\n",
       "  <!-- Vertical lines -->\n",
       "  <line x1=\"10\" y1=\"0\" x2=\"24\" y2=\"14\" style=\"stroke-width:2\" />\n",
       "  <line x1=\"52\" y1=\"0\" x2=\"67\" y2=\"14\" />\n",
       "  <line x1=\"94\" y1=\"0\" x2=\"109\" y2=\"14\" />\n",
       "  <line x1=\"130\" y1=\"0\" x2=\"144\" y2=\"14\" style=\"stroke-width:2\" />\n",
       "\n",
       "  <!-- Colored Rectangle -->\n",
       "  <polygon points=\"10.0,0.0 130.0,0.0 144.9485979497544,14.948597949754403 24.9485979497544,14.948597949754403\" style=\"fill:#ECB172A0;stroke-width:0\"/>\n",
       "\n",
       "  <!-- Horizontal lines -->\n",
       "  <line x1=\"24\" y1=\"14\" x2=\"144\" y2=\"14\" style=\"stroke-width:2\" />\n",
       "  <line x1=\"24\" y1=\"57\" x2=\"144\" y2=\"57\" />\n",
       "  <line x1=\"24\" y1=\"99\" x2=\"144\" y2=\"99\" />\n",
       "  <line x1=\"24\" y1=\"102\" x2=\"144\" y2=\"102\" style=\"stroke-width:2\" />\n",
       "\n",
       "  <!-- Vertical lines -->\n",
       "  <line x1=\"24\" y1=\"14\" x2=\"24\" y2=\"102\" style=\"stroke-width:2\" />\n",
       "  <line x1=\"67\" y1=\"14\" x2=\"67\" y2=\"102\" />\n",
       "  <line x1=\"109\" y1=\"14\" x2=\"109\" y2=\"102\" />\n",
       "  <line x1=\"144\" y1=\"14\" x2=\"144\" y2=\"102\" style=\"stroke-width:2\" />\n",
       "\n",
       "  <!-- Colored Rectangle -->\n",
       "  <polygon points=\"24.9485979497544,14.948597949754403 144.9485979497544,14.948597949754403 144.9485979497544,102.49896910563987 24.9485979497544,102.49896910563987\" style=\"fill:#ECB172A0;stroke-width:0\"/>\n",
       "\n",
       "  <!-- Text -->\n",
       "  <text x=\"84.948598\" y=\"122.498969\" font-size=\"1.0rem\" font-weight=\"100\" text-anchor=\"middle\" >2829</text>\n",
       "  <text x=\"164.948598\" y=\"58.723784\" font-size=\"1.0rem\" font-weight=\"100\" text-anchor=\"middle\" transform=\"rotate(-90,164.948598,58.723784)\">2064</text>\n",
       "  <text x=\"7.474299\" y=\"115.024670\" font-size=\"1.0rem\" font-weight=\"100\" text-anchor=\"middle\" transform=\"rotate(45,7.474299,115.024670)\">28</text>\n",
       "</svg>\n",
       "        </td>\n",
       "    </tr>\n",
       "</table></div></li><li class='xr-var-item'><div class='xr-var-name'><span>dlr_likelihood</span></div><div class='xr-var-dims'>(time, y, x)</div><div class='xr-var-dtype'>uint8</div><div class='xr-var-preview xr-preview'>dask.array&lt;chunksize=(28, 1000, 1000), meta=np.ndarray&gt;</div><input id='attrs-da84b476-154d-4191-a627-8d52d8cac9a8' class='xr-var-attrs-in' type='checkbox' ><label for='attrs-da84b476-154d-4191-a627-8d52d8cac9a8' title='Show/Hide attributes'><svg class='icon xr-icon-file-text2'><use xlink:href='#icon-file-text2'></use></svg></label><input id='data-12049f3a-5f89-406f-a986-2e30d81247c0' class='xr-var-data-in' type='checkbox'><label for='data-12049f3a-5f89-406f-a986-2e30d81247c0' title='Show/Hide data repr'><svg class='icon xr-icon-database'><use xlink:href='#icon-database'></use></svg></label><div class='xr-var-attrs'><dl class='xr-attrs'><dt><span>nodata :</span></dt><dd>255</dd></dl></div><div class='xr-var-data'><table>\n",
       "    <tr>\n",
       "        <td>\n",
       "            <table style=\"border-collapse: collapse;\">\n",
       "                <thead>\n",
       "                    <tr>\n",
       "                        <td> </td>\n",
       "                        <th> Array </th>\n",
       "                        <th> Chunk </th>\n",
       "                    </tr>\n",
       "                </thead>\n",
       "                <tbody>\n",
       "                    \n",
       "                    <tr>\n",
       "                        <th> Bytes </th>\n",
       "                        <td> 155.92 MiB </td>\n",
       "                        <td> 26.70 MiB </td>\n",
       "                    </tr>\n",
       "                    \n",
       "                    <tr>\n",
       "                        <th> Shape </th>\n",
       "                        <td> (28, 2064, 2829) </td>\n",
       "                        <td> (28, 1000, 1000) </td>\n",
       "                    </tr>\n",
       "                    <tr>\n",
       "                        <th> Dask graph </th>\n",
       "                        <td colspan=\"2\"> 9 chunks in 1 graph layer </td>\n",
       "                    </tr>\n",
       "                    <tr>\n",
       "                        <th> Data type </th>\n",
       "                        <td colspan=\"2\"> uint8 numpy.ndarray </td>\n",
       "                    </tr>\n",
       "                </tbody>\n",
       "            </table>\n",
       "        </td>\n",
       "        <td>\n",
       "        <svg width=\"194\" height=\"152\" style=\"stroke:rgb(0,0,0);stroke-width:1\" >\n",
       "\n",
       "  <!-- Horizontal lines -->\n",
       "  <line x1=\"10\" y1=\"0\" x2=\"24\" y2=\"14\" style=\"stroke-width:2\" />\n",
       "  <line x1=\"10\" y1=\"42\" x2=\"24\" y2=\"57\" />\n",
       "  <line x1=\"10\" y1=\"84\" x2=\"24\" y2=\"99\" />\n",
       "  <line x1=\"10\" y1=\"87\" x2=\"24\" y2=\"102\" style=\"stroke-width:2\" />\n",
       "\n",
       "  <!-- Vertical lines -->\n",
       "  <line x1=\"10\" y1=\"0\" x2=\"10\" y2=\"87\" style=\"stroke-width:2\" />\n",
       "  <line x1=\"24\" y1=\"14\" x2=\"24\" y2=\"102\" style=\"stroke-width:2\" />\n",
       "\n",
       "  <!-- Colored Rectangle -->\n",
       "  <polygon points=\"10.0,0.0 24.9485979497544,14.948597949754403 24.9485979497544,102.49896910563987 10.0,87.55037115588547\" style=\"fill:#ECB172A0;stroke-width:0\"/>\n",
       "\n",
       "  <!-- Horizontal lines -->\n",
       "  <line x1=\"10\" y1=\"0\" x2=\"130\" y2=\"0\" style=\"stroke-width:2\" />\n",
       "  <line x1=\"24\" y1=\"14\" x2=\"144\" y2=\"14\" style=\"stroke-width:2\" />\n",
       "\n",
       "  <!-- Vertical lines -->\n",
       "  <line x1=\"10\" y1=\"0\" x2=\"24\" y2=\"14\" style=\"stroke-width:2\" />\n",
       "  <line x1=\"52\" y1=\"0\" x2=\"67\" y2=\"14\" />\n",
       "  <line x1=\"94\" y1=\"0\" x2=\"109\" y2=\"14\" />\n",
       "  <line x1=\"130\" y1=\"0\" x2=\"144\" y2=\"14\" style=\"stroke-width:2\" />\n",
       "\n",
       "  <!-- Colored Rectangle -->\n",
       "  <polygon points=\"10.0,0.0 130.0,0.0 144.9485979497544,14.948597949754403 24.9485979497544,14.948597949754403\" style=\"fill:#ECB172A0;stroke-width:0\"/>\n",
       "\n",
       "  <!-- Horizontal lines -->\n",
       "  <line x1=\"24\" y1=\"14\" x2=\"144\" y2=\"14\" style=\"stroke-width:2\" />\n",
       "  <line x1=\"24\" y1=\"57\" x2=\"144\" y2=\"57\" />\n",
       "  <line x1=\"24\" y1=\"99\" x2=\"144\" y2=\"99\" />\n",
       "  <line x1=\"24\" y1=\"102\" x2=\"144\" y2=\"102\" style=\"stroke-width:2\" />\n",
       "\n",
       "  <!-- Vertical lines -->\n",
       "  <line x1=\"24\" y1=\"14\" x2=\"24\" y2=\"102\" style=\"stroke-width:2\" />\n",
       "  <line x1=\"67\" y1=\"14\" x2=\"67\" y2=\"102\" />\n",
       "  <line x1=\"109\" y1=\"14\" x2=\"109\" y2=\"102\" />\n",
       "  <line x1=\"144\" y1=\"14\" x2=\"144\" y2=\"102\" style=\"stroke-width:2\" />\n",
       "\n",
       "  <!-- Colored Rectangle -->\n",
       "  <polygon points=\"24.9485979497544,14.948597949754403 144.9485979497544,14.948597949754403 144.9485979497544,102.49896910563987 24.9485979497544,102.49896910563987\" style=\"fill:#ECB172A0;stroke-width:0\"/>\n",
       "\n",
       "  <!-- Text -->\n",
       "  <text x=\"84.948598\" y=\"122.498969\" font-size=\"1.0rem\" font-weight=\"100\" text-anchor=\"middle\" >2829</text>\n",
       "  <text x=\"164.948598\" y=\"58.723784\" font-size=\"1.0rem\" font-weight=\"100\" text-anchor=\"middle\" transform=\"rotate(-90,164.948598,58.723784)\">2064</text>\n",
       "  <text x=\"7.474299\" y=\"115.024670\" font-size=\"1.0rem\" font-weight=\"100\" text-anchor=\"middle\" transform=\"rotate(45,7.474299,115.024670)\">28</text>\n",
       "</svg>\n",
       "        </td>\n",
       "    </tr>\n",
       "</table></div></li><li class='xr-var-item'><div class='xr-var-name'><span>exclusion_mask</span></div><div class='xr-var-dims'>(time, y, x)</div><div class='xr-var-dtype'>uint8</div><div class='xr-var-preview xr-preview'>dask.array&lt;chunksize=(28, 1000, 1000), meta=np.ndarray&gt;</div><input id='attrs-1f1a7271-b19a-4e07-9681-63f522b098a0' class='xr-var-attrs-in' type='checkbox' ><label for='attrs-1f1a7271-b19a-4e07-9681-63f522b098a0' title='Show/Hide attributes'><svg class='icon xr-icon-file-text2'><use xlink:href='#icon-file-text2'></use></svg></label><input id='data-3b18429b-8bc5-4eb9-bfbd-ece48067beef' class='xr-var-data-in' type='checkbox'><label for='data-3b18429b-8bc5-4eb9-bfbd-ece48067beef' title='Show/Hide data repr'><svg class='icon xr-icon-database'><use xlink:href='#icon-database'></use></svg></label><div class='xr-var-attrs'><dl class='xr-attrs'><dt><span>nodata :</span></dt><dd>255</dd></dl></div><div class='xr-var-data'><table>\n",
       "    <tr>\n",
       "        <td>\n",
       "            <table style=\"border-collapse: collapse;\">\n",
       "                <thead>\n",
       "                    <tr>\n",
       "                        <td> </td>\n",
       "                        <th> Array </th>\n",
       "                        <th> Chunk </th>\n",
       "                    </tr>\n",
       "                </thead>\n",
       "                <tbody>\n",
       "                    \n",
       "                    <tr>\n",
       "                        <th> Bytes </th>\n",
       "                        <td> 155.92 MiB </td>\n",
       "                        <td> 26.70 MiB </td>\n",
       "                    </tr>\n",
       "                    \n",
       "                    <tr>\n",
       "                        <th> Shape </th>\n",
       "                        <td> (28, 2064, 2829) </td>\n",
       "                        <td> (28, 1000, 1000) </td>\n",
       "                    </tr>\n",
       "                    <tr>\n",
       "                        <th> Dask graph </th>\n",
       "                        <td colspan=\"2\"> 9 chunks in 1 graph layer </td>\n",
       "                    </tr>\n",
       "                    <tr>\n",
       "                        <th> Data type </th>\n",
       "                        <td colspan=\"2\"> uint8 numpy.ndarray </td>\n",
       "                    </tr>\n",
       "                </tbody>\n",
       "            </table>\n",
       "        </td>\n",
       "        <td>\n",
       "        <svg width=\"194\" height=\"152\" style=\"stroke:rgb(0,0,0);stroke-width:1\" >\n",
       "\n",
       "  <!-- Horizontal lines -->\n",
       "  <line x1=\"10\" y1=\"0\" x2=\"24\" y2=\"14\" style=\"stroke-width:2\" />\n",
       "  <line x1=\"10\" y1=\"42\" x2=\"24\" y2=\"57\" />\n",
       "  <line x1=\"10\" y1=\"84\" x2=\"24\" y2=\"99\" />\n",
       "  <line x1=\"10\" y1=\"87\" x2=\"24\" y2=\"102\" style=\"stroke-width:2\" />\n",
       "\n",
       "  <!-- Vertical lines -->\n",
       "  <line x1=\"10\" y1=\"0\" x2=\"10\" y2=\"87\" style=\"stroke-width:2\" />\n",
       "  <line x1=\"24\" y1=\"14\" x2=\"24\" y2=\"102\" style=\"stroke-width:2\" />\n",
       "\n",
       "  <!-- Colored Rectangle -->\n",
       "  <polygon points=\"10.0,0.0 24.9485979497544,14.948597949754403 24.9485979497544,102.49896910563987 10.0,87.55037115588547\" style=\"fill:#ECB172A0;stroke-width:0\"/>\n",
       "\n",
       "  <!-- Horizontal lines -->\n",
       "  <line x1=\"10\" y1=\"0\" x2=\"130\" y2=\"0\" style=\"stroke-width:2\" />\n",
       "  <line x1=\"24\" y1=\"14\" x2=\"144\" y2=\"14\" style=\"stroke-width:2\" />\n",
       "\n",
       "  <!-- Vertical lines -->\n",
       "  <line x1=\"10\" y1=\"0\" x2=\"24\" y2=\"14\" style=\"stroke-width:2\" />\n",
       "  <line x1=\"52\" y1=\"0\" x2=\"67\" y2=\"14\" />\n",
       "  <line x1=\"94\" y1=\"0\" x2=\"109\" y2=\"14\" />\n",
       "  <line x1=\"130\" y1=\"0\" x2=\"144\" y2=\"14\" style=\"stroke-width:2\" />\n",
       "\n",
       "  <!-- Colored Rectangle -->\n",
       "  <polygon points=\"10.0,0.0 130.0,0.0 144.9485979497544,14.948597949754403 24.9485979497544,14.948597949754403\" style=\"fill:#ECB172A0;stroke-width:0\"/>\n",
       "\n",
       "  <!-- Horizontal lines -->\n",
       "  <line x1=\"24\" y1=\"14\" x2=\"144\" y2=\"14\" style=\"stroke-width:2\" />\n",
       "  <line x1=\"24\" y1=\"57\" x2=\"144\" y2=\"57\" />\n",
       "  <line x1=\"24\" y1=\"99\" x2=\"144\" y2=\"99\" />\n",
       "  <line x1=\"24\" y1=\"102\" x2=\"144\" y2=\"102\" style=\"stroke-width:2\" />\n",
       "\n",
       "  <!-- Vertical lines -->\n",
       "  <line x1=\"24\" y1=\"14\" x2=\"24\" y2=\"102\" style=\"stroke-width:2\" />\n",
       "  <line x1=\"67\" y1=\"14\" x2=\"67\" y2=\"102\" />\n",
       "  <line x1=\"109\" y1=\"14\" x2=\"109\" y2=\"102\" />\n",
       "  <line x1=\"144\" y1=\"14\" x2=\"144\" y2=\"102\" style=\"stroke-width:2\" />\n",
       "\n",
       "  <!-- Colored Rectangle -->\n",
       "  <polygon points=\"24.9485979497544,14.948597949754403 144.9485979497544,14.948597949754403 144.9485979497544,102.49896910563987 24.9485979497544,102.49896910563987\" style=\"fill:#ECB172A0;stroke-width:0\"/>\n",
       "\n",
       "  <!-- Text -->\n",
       "  <text x=\"84.948598\" y=\"122.498969\" font-size=\"1.0rem\" font-weight=\"100\" text-anchor=\"middle\" >2829</text>\n",
       "  <text x=\"164.948598\" y=\"58.723784\" font-size=\"1.0rem\" font-weight=\"100\" text-anchor=\"middle\" transform=\"rotate(-90,164.948598,58.723784)\">2064</text>\n",
       "  <text x=\"7.474299\" y=\"115.024670\" font-size=\"1.0rem\" font-weight=\"100\" text-anchor=\"middle\" transform=\"rotate(45,7.474299,115.024670)\">28</text>\n",
       "</svg>\n",
       "        </td>\n",
       "    </tr>\n",
       "</table></div></li><li class='xr-var-item'><div class='xr-var-name'><span>tuw_likelihood</span></div><div class='xr-var-dims'>(time, y, x)</div><div class='xr-var-dtype'>uint8</div><div class='xr-var-preview xr-preview'>dask.array&lt;chunksize=(28, 1000, 1000), meta=np.ndarray&gt;</div><input id='attrs-8beed215-09f5-47de-ac0b-ace18ebdc92b' class='xr-var-attrs-in' type='checkbox' ><label for='attrs-8beed215-09f5-47de-ac0b-ace18ebdc92b' title='Show/Hide attributes'><svg class='icon xr-icon-file-text2'><use xlink:href='#icon-file-text2'></use></svg></label><input id='data-dd651564-0deb-4ae1-9e00-e9ca678a3a95' class='xr-var-data-in' type='checkbox'><label for='data-dd651564-0deb-4ae1-9e00-e9ca678a3a95' title='Show/Hide data repr'><svg class='icon xr-icon-database'><use xlink:href='#icon-database'></use></svg></label><div class='xr-var-attrs'><dl class='xr-attrs'><dt><span>nodata :</span></dt><dd>255</dd></dl></div><div class='xr-var-data'><table>\n",
       "    <tr>\n",
       "        <td>\n",
       "            <table style=\"border-collapse: collapse;\">\n",
       "                <thead>\n",
       "                    <tr>\n",
       "                        <td> </td>\n",
       "                        <th> Array </th>\n",
       "                        <th> Chunk </th>\n",
       "                    </tr>\n",
       "                </thead>\n",
       "                <tbody>\n",
       "                    \n",
       "                    <tr>\n",
       "                        <th> Bytes </th>\n",
       "                        <td> 155.92 MiB </td>\n",
       "                        <td> 26.70 MiB </td>\n",
       "                    </tr>\n",
       "                    \n",
       "                    <tr>\n",
       "                        <th> Shape </th>\n",
       "                        <td> (28, 2064, 2829) </td>\n",
       "                        <td> (28, 1000, 1000) </td>\n",
       "                    </tr>\n",
       "                    <tr>\n",
       "                        <th> Dask graph </th>\n",
       "                        <td colspan=\"2\"> 9 chunks in 1 graph layer </td>\n",
       "                    </tr>\n",
       "                    <tr>\n",
       "                        <th> Data type </th>\n",
       "                        <td colspan=\"2\"> uint8 numpy.ndarray </td>\n",
       "                    </tr>\n",
       "                </tbody>\n",
       "            </table>\n",
       "        </td>\n",
       "        <td>\n",
       "        <svg width=\"194\" height=\"152\" style=\"stroke:rgb(0,0,0);stroke-width:1\" >\n",
       "\n",
       "  <!-- Horizontal lines -->\n",
       "  <line x1=\"10\" y1=\"0\" x2=\"24\" y2=\"14\" style=\"stroke-width:2\" />\n",
       "  <line x1=\"10\" y1=\"42\" x2=\"24\" y2=\"57\" />\n",
       "  <line x1=\"10\" y1=\"84\" x2=\"24\" y2=\"99\" />\n",
       "  <line x1=\"10\" y1=\"87\" x2=\"24\" y2=\"102\" style=\"stroke-width:2\" />\n",
       "\n",
       "  <!-- Vertical lines -->\n",
       "  <line x1=\"10\" y1=\"0\" x2=\"10\" y2=\"87\" style=\"stroke-width:2\" />\n",
       "  <line x1=\"24\" y1=\"14\" x2=\"24\" y2=\"102\" style=\"stroke-width:2\" />\n",
       "\n",
       "  <!-- Colored Rectangle -->\n",
       "  <polygon points=\"10.0,0.0 24.9485979497544,14.948597949754403 24.9485979497544,102.49896910563987 10.0,87.55037115588547\" style=\"fill:#ECB172A0;stroke-width:0\"/>\n",
       "\n",
       "  <!-- Horizontal lines -->\n",
       "  <line x1=\"10\" y1=\"0\" x2=\"130\" y2=\"0\" style=\"stroke-width:2\" />\n",
       "  <line x1=\"24\" y1=\"14\" x2=\"144\" y2=\"14\" style=\"stroke-width:2\" />\n",
       "\n",
       "  <!-- Vertical lines -->\n",
       "  <line x1=\"10\" y1=\"0\" x2=\"24\" y2=\"14\" style=\"stroke-width:2\" />\n",
       "  <line x1=\"52\" y1=\"0\" x2=\"67\" y2=\"14\" />\n",
       "  <line x1=\"94\" y1=\"0\" x2=\"109\" y2=\"14\" />\n",
       "  <line x1=\"130\" y1=\"0\" x2=\"144\" y2=\"14\" style=\"stroke-width:2\" />\n",
       "\n",
       "  <!-- Colored Rectangle -->\n",
       "  <polygon points=\"10.0,0.0 130.0,0.0 144.9485979497544,14.948597949754403 24.9485979497544,14.948597949754403\" style=\"fill:#ECB172A0;stroke-width:0\"/>\n",
       "\n",
       "  <!-- Horizontal lines -->\n",
       "  <line x1=\"24\" y1=\"14\" x2=\"144\" y2=\"14\" style=\"stroke-width:2\" />\n",
       "  <line x1=\"24\" y1=\"57\" x2=\"144\" y2=\"57\" />\n",
       "  <line x1=\"24\" y1=\"99\" x2=\"144\" y2=\"99\" />\n",
       "  <line x1=\"24\" y1=\"102\" x2=\"144\" y2=\"102\" style=\"stroke-width:2\" />\n",
       "\n",
       "  <!-- Vertical lines -->\n",
       "  <line x1=\"24\" y1=\"14\" x2=\"24\" y2=\"102\" style=\"stroke-width:2\" />\n",
       "  <line x1=\"67\" y1=\"14\" x2=\"67\" y2=\"102\" />\n",
       "  <line x1=\"109\" y1=\"14\" x2=\"109\" y2=\"102\" />\n",
       "  <line x1=\"144\" y1=\"14\" x2=\"144\" y2=\"102\" style=\"stroke-width:2\" />\n",
       "\n",
       "  <!-- Colored Rectangle -->\n",
       "  <polygon points=\"24.9485979497544,14.948597949754403 144.9485979497544,14.948597949754403 144.9485979497544,102.49896910563987 24.9485979497544,102.49896910563987\" style=\"fill:#ECB172A0;stroke-width:0\"/>\n",
       "\n",
       "  <!-- Text -->\n",
       "  <text x=\"84.948598\" y=\"122.498969\" font-size=\"1.0rem\" font-weight=\"100\" text-anchor=\"middle\" >2829</text>\n",
       "  <text x=\"164.948598\" y=\"58.723784\" font-size=\"1.0rem\" font-weight=\"100\" text-anchor=\"middle\" transform=\"rotate(-90,164.948598,58.723784)\">2064</text>\n",
       "  <text x=\"7.474299\" y=\"115.024670\" font-size=\"1.0rem\" font-weight=\"100\" text-anchor=\"middle\" transform=\"rotate(45,7.474299,115.024670)\">28</text>\n",
       "</svg>\n",
       "        </td>\n",
       "    </tr>\n",
       "</table></div></li><li class='xr-var-item'><div class='xr-var-name'><span>list_likelihood</span></div><div class='xr-var-dims'>(time, y, x)</div><div class='xr-var-dtype'>uint8</div><div class='xr-var-preview xr-preview'>dask.array&lt;chunksize=(28, 1000, 1000), meta=np.ndarray&gt;</div><input id='attrs-44ac319c-c133-468d-8b10-070083117feb' class='xr-var-attrs-in' type='checkbox' ><label for='attrs-44ac319c-c133-468d-8b10-070083117feb' title='Show/Hide attributes'><svg class='icon xr-icon-file-text2'><use xlink:href='#icon-file-text2'></use></svg></label><input id='data-ab17d311-9233-4f2d-937a-22a7f023c9cb' class='xr-var-data-in' type='checkbox'><label for='data-ab17d311-9233-4f2d-937a-22a7f023c9cb' title='Show/Hide data repr'><svg class='icon xr-icon-database'><use xlink:href='#icon-database'></use></svg></label><div class='xr-var-attrs'><dl class='xr-attrs'><dt><span>nodata :</span></dt><dd>255</dd></dl></div><div class='xr-var-data'><table>\n",
       "    <tr>\n",
       "        <td>\n",
       "            <table style=\"border-collapse: collapse;\">\n",
       "                <thead>\n",
       "                    <tr>\n",
       "                        <td> </td>\n",
       "                        <th> Array </th>\n",
       "                        <th> Chunk </th>\n",
       "                    </tr>\n",
       "                </thead>\n",
       "                <tbody>\n",
       "                    \n",
       "                    <tr>\n",
       "                        <th> Bytes </th>\n",
       "                        <td> 155.92 MiB </td>\n",
       "                        <td> 26.70 MiB </td>\n",
       "                    </tr>\n",
       "                    \n",
       "                    <tr>\n",
       "                        <th> Shape </th>\n",
       "                        <td> (28, 2064, 2829) </td>\n",
       "                        <td> (28, 1000, 1000) </td>\n",
       "                    </tr>\n",
       "                    <tr>\n",
       "                        <th> Dask graph </th>\n",
       "                        <td colspan=\"2\"> 9 chunks in 1 graph layer </td>\n",
       "                    </tr>\n",
       "                    <tr>\n",
       "                        <th> Data type </th>\n",
       "                        <td colspan=\"2\"> uint8 numpy.ndarray </td>\n",
       "                    </tr>\n",
       "                </tbody>\n",
       "            </table>\n",
       "        </td>\n",
       "        <td>\n",
       "        <svg width=\"194\" height=\"152\" style=\"stroke:rgb(0,0,0);stroke-width:1\" >\n",
       "\n",
       "  <!-- Horizontal lines -->\n",
       "  <line x1=\"10\" y1=\"0\" x2=\"24\" y2=\"14\" style=\"stroke-width:2\" />\n",
       "  <line x1=\"10\" y1=\"42\" x2=\"24\" y2=\"57\" />\n",
       "  <line x1=\"10\" y1=\"84\" x2=\"24\" y2=\"99\" />\n",
       "  <line x1=\"10\" y1=\"87\" x2=\"24\" y2=\"102\" style=\"stroke-width:2\" />\n",
       "\n",
       "  <!-- Vertical lines -->\n",
       "  <line x1=\"10\" y1=\"0\" x2=\"10\" y2=\"87\" style=\"stroke-width:2\" />\n",
       "  <line x1=\"24\" y1=\"14\" x2=\"24\" y2=\"102\" style=\"stroke-width:2\" />\n",
       "\n",
       "  <!-- Colored Rectangle -->\n",
       "  <polygon points=\"10.0,0.0 24.9485979497544,14.948597949754403 24.9485979497544,102.49896910563987 10.0,87.55037115588547\" style=\"fill:#ECB172A0;stroke-width:0\"/>\n",
       "\n",
       "  <!-- Horizontal lines -->\n",
       "  <line x1=\"10\" y1=\"0\" x2=\"130\" y2=\"0\" style=\"stroke-width:2\" />\n",
       "  <line x1=\"24\" y1=\"14\" x2=\"144\" y2=\"14\" style=\"stroke-width:2\" />\n",
       "\n",
       "  <!-- Vertical lines -->\n",
       "  <line x1=\"10\" y1=\"0\" x2=\"24\" y2=\"14\" style=\"stroke-width:2\" />\n",
       "  <line x1=\"52\" y1=\"0\" x2=\"67\" y2=\"14\" />\n",
       "  <line x1=\"94\" y1=\"0\" x2=\"109\" y2=\"14\" />\n",
       "  <line x1=\"130\" y1=\"0\" x2=\"144\" y2=\"14\" style=\"stroke-width:2\" />\n",
       "\n",
       "  <!-- Colored Rectangle -->\n",
       "  <polygon points=\"10.0,0.0 130.0,0.0 144.9485979497544,14.948597949754403 24.9485979497544,14.948597949754403\" style=\"fill:#ECB172A0;stroke-width:0\"/>\n",
       "\n",
       "  <!-- Horizontal lines -->\n",
       "  <line x1=\"24\" y1=\"14\" x2=\"144\" y2=\"14\" style=\"stroke-width:2\" />\n",
       "  <line x1=\"24\" y1=\"57\" x2=\"144\" y2=\"57\" />\n",
       "  <line x1=\"24\" y1=\"99\" x2=\"144\" y2=\"99\" />\n",
       "  <line x1=\"24\" y1=\"102\" x2=\"144\" y2=\"102\" style=\"stroke-width:2\" />\n",
       "\n",
       "  <!-- Vertical lines -->\n",
       "  <line x1=\"24\" y1=\"14\" x2=\"24\" y2=\"102\" style=\"stroke-width:2\" />\n",
       "  <line x1=\"67\" y1=\"14\" x2=\"67\" y2=\"102\" />\n",
       "  <line x1=\"109\" y1=\"14\" x2=\"109\" y2=\"102\" />\n",
       "  <line x1=\"144\" y1=\"14\" x2=\"144\" y2=\"102\" style=\"stroke-width:2\" />\n",
       "\n",
       "  <!-- Colored Rectangle -->\n",
       "  <polygon points=\"24.9485979497544,14.948597949754403 144.9485979497544,14.948597949754403 144.9485979497544,102.49896910563987 24.9485979497544,102.49896910563987\" style=\"fill:#ECB172A0;stroke-width:0\"/>\n",
       "\n",
       "  <!-- Text -->\n",
       "  <text x=\"84.948598\" y=\"122.498969\" font-size=\"1.0rem\" font-weight=\"100\" text-anchor=\"middle\" >2829</text>\n",
       "  <text x=\"164.948598\" y=\"58.723784\" font-size=\"1.0rem\" font-weight=\"100\" text-anchor=\"middle\" transform=\"rotate(-90,164.948598,58.723784)\">2064</text>\n",
       "  <text x=\"7.474299\" y=\"115.024670\" font-size=\"1.0rem\" font-weight=\"100\" text-anchor=\"middle\" transform=\"rotate(45,7.474299,115.024670)\">28</text>\n",
       "</svg>\n",
       "        </td>\n",
       "    </tr>\n",
       "</table></div></li><li class='xr-var-item'><div class='xr-var-name'><span>dlr_flood_extent</span></div><div class='xr-var-dims'>(time, y, x)</div><div class='xr-var-dtype'>uint8</div><div class='xr-var-preview xr-preview'>dask.array&lt;chunksize=(28, 1000, 1000), meta=np.ndarray&gt;</div><input id='attrs-fb6b6cee-b506-40d1-a4e0-9cdac56d9341' class='xr-var-attrs-in' type='checkbox' ><label for='attrs-fb6b6cee-b506-40d1-a4e0-9cdac56d9341' title='Show/Hide attributes'><svg class='icon xr-icon-file-text2'><use xlink:href='#icon-file-text2'></use></svg></label><input id='data-df5c1bb3-c89e-47bc-bc31-a1f7bcadbd21' class='xr-var-data-in' type='checkbox'><label for='data-df5c1bb3-c89e-47bc-bc31-a1f7bcadbd21' title='Show/Hide data repr'><svg class='icon xr-icon-database'><use xlink:href='#icon-database'></use></svg></label><div class='xr-var-attrs'><dl class='xr-attrs'><dt><span>nodata :</span></dt><dd>255</dd></dl></div><div class='xr-var-data'><table>\n",
       "    <tr>\n",
       "        <td>\n",
       "            <table style=\"border-collapse: collapse;\">\n",
       "                <thead>\n",
       "                    <tr>\n",
       "                        <td> </td>\n",
       "                        <th> Array </th>\n",
       "                        <th> Chunk </th>\n",
       "                    </tr>\n",
       "                </thead>\n",
       "                <tbody>\n",
       "                    \n",
       "                    <tr>\n",
       "                        <th> Bytes </th>\n",
       "                        <td> 155.92 MiB </td>\n",
       "                        <td> 26.70 MiB </td>\n",
       "                    </tr>\n",
       "                    \n",
       "                    <tr>\n",
       "                        <th> Shape </th>\n",
       "                        <td> (28, 2064, 2829) </td>\n",
       "                        <td> (28, 1000, 1000) </td>\n",
       "                    </tr>\n",
       "                    <tr>\n",
       "                        <th> Dask graph </th>\n",
       "                        <td colspan=\"2\"> 9 chunks in 1 graph layer </td>\n",
       "                    </tr>\n",
       "                    <tr>\n",
       "                        <th> Data type </th>\n",
       "                        <td colspan=\"2\"> uint8 numpy.ndarray </td>\n",
       "                    </tr>\n",
       "                </tbody>\n",
       "            </table>\n",
       "        </td>\n",
       "        <td>\n",
       "        <svg width=\"194\" height=\"152\" style=\"stroke:rgb(0,0,0);stroke-width:1\" >\n",
       "\n",
       "  <!-- Horizontal lines -->\n",
       "  <line x1=\"10\" y1=\"0\" x2=\"24\" y2=\"14\" style=\"stroke-width:2\" />\n",
       "  <line x1=\"10\" y1=\"42\" x2=\"24\" y2=\"57\" />\n",
       "  <line x1=\"10\" y1=\"84\" x2=\"24\" y2=\"99\" />\n",
       "  <line x1=\"10\" y1=\"87\" x2=\"24\" y2=\"102\" style=\"stroke-width:2\" />\n",
       "\n",
       "  <!-- Vertical lines -->\n",
       "  <line x1=\"10\" y1=\"0\" x2=\"10\" y2=\"87\" style=\"stroke-width:2\" />\n",
       "  <line x1=\"24\" y1=\"14\" x2=\"24\" y2=\"102\" style=\"stroke-width:2\" />\n",
       "\n",
       "  <!-- Colored Rectangle -->\n",
       "  <polygon points=\"10.0,0.0 24.9485979497544,14.948597949754403 24.9485979497544,102.49896910563987 10.0,87.55037115588547\" style=\"fill:#ECB172A0;stroke-width:0\"/>\n",
       "\n",
       "  <!-- Horizontal lines -->\n",
       "  <line x1=\"10\" y1=\"0\" x2=\"130\" y2=\"0\" style=\"stroke-width:2\" />\n",
       "  <line x1=\"24\" y1=\"14\" x2=\"144\" y2=\"14\" style=\"stroke-width:2\" />\n",
       "\n",
       "  <!-- Vertical lines -->\n",
       "  <line x1=\"10\" y1=\"0\" x2=\"24\" y2=\"14\" style=\"stroke-width:2\" />\n",
       "  <line x1=\"52\" y1=\"0\" x2=\"67\" y2=\"14\" />\n",
       "  <line x1=\"94\" y1=\"0\" x2=\"109\" y2=\"14\" />\n",
       "  <line x1=\"130\" y1=\"0\" x2=\"144\" y2=\"14\" style=\"stroke-width:2\" />\n",
       "\n",
       "  <!-- Colored Rectangle -->\n",
       "  <polygon points=\"10.0,0.0 130.0,0.0 144.9485979497544,14.948597949754403 24.9485979497544,14.948597949754403\" style=\"fill:#ECB172A0;stroke-width:0\"/>\n",
       "\n",
       "  <!-- Horizontal lines -->\n",
       "  <line x1=\"24\" y1=\"14\" x2=\"144\" y2=\"14\" style=\"stroke-width:2\" />\n",
       "  <line x1=\"24\" y1=\"57\" x2=\"144\" y2=\"57\" />\n",
       "  <line x1=\"24\" y1=\"99\" x2=\"144\" y2=\"99\" />\n",
       "  <line x1=\"24\" y1=\"102\" x2=\"144\" y2=\"102\" style=\"stroke-width:2\" />\n",
       "\n",
       "  <!-- Vertical lines -->\n",
       "  <line x1=\"24\" y1=\"14\" x2=\"24\" y2=\"102\" style=\"stroke-width:2\" />\n",
       "  <line x1=\"67\" y1=\"14\" x2=\"67\" y2=\"102\" />\n",
       "  <line x1=\"109\" y1=\"14\" x2=\"109\" y2=\"102\" />\n",
       "  <line x1=\"144\" y1=\"14\" x2=\"144\" y2=\"102\" style=\"stroke-width:2\" />\n",
       "\n",
       "  <!-- Colored Rectangle -->\n",
       "  <polygon points=\"24.9485979497544,14.948597949754403 144.9485979497544,14.948597949754403 144.9485979497544,102.49896910563987 24.9485979497544,102.49896910563987\" style=\"fill:#ECB172A0;stroke-width:0\"/>\n",
       "\n",
       "  <!-- Text -->\n",
       "  <text x=\"84.948598\" y=\"122.498969\" font-size=\"1.0rem\" font-weight=\"100\" text-anchor=\"middle\" >2829</text>\n",
       "  <text x=\"164.948598\" y=\"58.723784\" font-size=\"1.0rem\" font-weight=\"100\" text-anchor=\"middle\" transform=\"rotate(-90,164.948598,58.723784)\">2064</text>\n",
       "  <text x=\"7.474299\" y=\"115.024670\" font-size=\"1.0rem\" font-weight=\"100\" text-anchor=\"middle\" transform=\"rotate(45,7.474299,115.024670)\">28</text>\n",
       "</svg>\n",
       "        </td>\n",
       "    </tr>\n",
       "</table></div></li><li class='xr-var-item'><div class='xr-var-name'><span>tuw_flood_extent</span></div><div class='xr-var-dims'>(time, y, x)</div><div class='xr-var-dtype'>uint8</div><div class='xr-var-preview xr-preview'>dask.array&lt;chunksize=(28, 1000, 1000), meta=np.ndarray&gt;</div><input id='attrs-bc6c6a25-6c14-41ca-9b29-3aea6d4a2c62' class='xr-var-attrs-in' type='checkbox' ><label for='attrs-bc6c6a25-6c14-41ca-9b29-3aea6d4a2c62' title='Show/Hide attributes'><svg class='icon xr-icon-file-text2'><use xlink:href='#icon-file-text2'></use></svg></label><input id='data-56e7dde6-ea5d-47ba-a7e9-b730c5bad34a' class='xr-var-data-in' type='checkbox'><label for='data-56e7dde6-ea5d-47ba-a7e9-b730c5bad34a' title='Show/Hide data repr'><svg class='icon xr-icon-database'><use xlink:href='#icon-database'></use></svg></label><div class='xr-var-attrs'><dl class='xr-attrs'><dt><span>nodata :</span></dt><dd>255</dd></dl></div><div class='xr-var-data'><table>\n",
       "    <tr>\n",
       "        <td>\n",
       "            <table style=\"border-collapse: collapse;\">\n",
       "                <thead>\n",
       "                    <tr>\n",
       "                        <td> </td>\n",
       "                        <th> Array </th>\n",
       "                        <th> Chunk </th>\n",
       "                    </tr>\n",
       "                </thead>\n",
       "                <tbody>\n",
       "                    \n",
       "                    <tr>\n",
       "                        <th> Bytes </th>\n",
       "                        <td> 155.92 MiB </td>\n",
       "                        <td> 26.70 MiB </td>\n",
       "                    </tr>\n",
       "                    \n",
       "                    <tr>\n",
       "                        <th> Shape </th>\n",
       "                        <td> (28, 2064, 2829) </td>\n",
       "                        <td> (28, 1000, 1000) </td>\n",
       "                    </tr>\n",
       "                    <tr>\n",
       "                        <th> Dask graph </th>\n",
       "                        <td colspan=\"2\"> 9 chunks in 1 graph layer </td>\n",
       "                    </tr>\n",
       "                    <tr>\n",
       "                        <th> Data type </th>\n",
       "                        <td colspan=\"2\"> uint8 numpy.ndarray </td>\n",
       "                    </tr>\n",
       "                </tbody>\n",
       "            </table>\n",
       "        </td>\n",
       "        <td>\n",
       "        <svg width=\"194\" height=\"152\" style=\"stroke:rgb(0,0,0);stroke-width:1\" >\n",
       "\n",
       "  <!-- Horizontal lines -->\n",
       "  <line x1=\"10\" y1=\"0\" x2=\"24\" y2=\"14\" style=\"stroke-width:2\" />\n",
       "  <line x1=\"10\" y1=\"42\" x2=\"24\" y2=\"57\" />\n",
       "  <line x1=\"10\" y1=\"84\" x2=\"24\" y2=\"99\" />\n",
       "  <line x1=\"10\" y1=\"87\" x2=\"24\" y2=\"102\" style=\"stroke-width:2\" />\n",
       "\n",
       "  <!-- Vertical lines -->\n",
       "  <line x1=\"10\" y1=\"0\" x2=\"10\" y2=\"87\" style=\"stroke-width:2\" />\n",
       "  <line x1=\"24\" y1=\"14\" x2=\"24\" y2=\"102\" style=\"stroke-width:2\" />\n",
       "\n",
       "  <!-- Colored Rectangle -->\n",
       "  <polygon points=\"10.0,0.0 24.9485979497544,14.948597949754403 24.9485979497544,102.49896910563987 10.0,87.55037115588547\" style=\"fill:#ECB172A0;stroke-width:0\"/>\n",
       "\n",
       "  <!-- Horizontal lines -->\n",
       "  <line x1=\"10\" y1=\"0\" x2=\"130\" y2=\"0\" style=\"stroke-width:2\" />\n",
       "  <line x1=\"24\" y1=\"14\" x2=\"144\" y2=\"14\" style=\"stroke-width:2\" />\n",
       "\n",
       "  <!-- Vertical lines -->\n",
       "  <line x1=\"10\" y1=\"0\" x2=\"24\" y2=\"14\" style=\"stroke-width:2\" />\n",
       "  <line x1=\"52\" y1=\"0\" x2=\"67\" y2=\"14\" />\n",
       "  <line x1=\"94\" y1=\"0\" x2=\"109\" y2=\"14\" />\n",
       "  <line x1=\"130\" y1=\"0\" x2=\"144\" y2=\"14\" style=\"stroke-width:2\" />\n",
       "\n",
       "  <!-- Colored Rectangle -->\n",
       "  <polygon points=\"10.0,0.0 130.0,0.0 144.9485979497544,14.948597949754403 24.9485979497544,14.948597949754403\" style=\"fill:#ECB172A0;stroke-width:0\"/>\n",
       "\n",
       "  <!-- Horizontal lines -->\n",
       "  <line x1=\"24\" y1=\"14\" x2=\"144\" y2=\"14\" style=\"stroke-width:2\" />\n",
       "  <line x1=\"24\" y1=\"57\" x2=\"144\" y2=\"57\" />\n",
       "  <line x1=\"24\" y1=\"99\" x2=\"144\" y2=\"99\" />\n",
       "  <line x1=\"24\" y1=\"102\" x2=\"144\" y2=\"102\" style=\"stroke-width:2\" />\n",
       "\n",
       "  <!-- Vertical lines -->\n",
       "  <line x1=\"24\" y1=\"14\" x2=\"24\" y2=\"102\" style=\"stroke-width:2\" />\n",
       "  <line x1=\"67\" y1=\"14\" x2=\"67\" y2=\"102\" />\n",
       "  <line x1=\"109\" y1=\"14\" x2=\"109\" y2=\"102\" />\n",
       "  <line x1=\"144\" y1=\"14\" x2=\"144\" y2=\"102\" style=\"stroke-width:2\" />\n",
       "\n",
       "  <!-- Colored Rectangle -->\n",
       "  <polygon points=\"24.9485979497544,14.948597949754403 144.9485979497544,14.948597949754403 144.9485979497544,102.49896910563987 24.9485979497544,102.49896910563987\" style=\"fill:#ECB172A0;stroke-width:0\"/>\n",
       "\n",
       "  <!-- Text -->\n",
       "  <text x=\"84.948598\" y=\"122.498969\" font-size=\"1.0rem\" font-weight=\"100\" text-anchor=\"middle\" >2829</text>\n",
       "  <text x=\"164.948598\" y=\"58.723784\" font-size=\"1.0rem\" font-weight=\"100\" text-anchor=\"middle\" transform=\"rotate(-90,164.948598,58.723784)\">2064</text>\n",
       "  <text x=\"7.474299\" y=\"115.024670\" font-size=\"1.0rem\" font-weight=\"100\" text-anchor=\"middle\" transform=\"rotate(45,7.474299,115.024670)\">28</text>\n",
       "</svg>\n",
       "        </td>\n",
       "    </tr>\n",
       "</table></div></li><li class='xr-var-item'><div class='xr-var-name'><span>list_flood_extent</span></div><div class='xr-var-dims'>(time, y, x)</div><div class='xr-var-dtype'>uint8</div><div class='xr-var-preview xr-preview'>dask.array&lt;chunksize=(28, 1000, 1000), meta=np.ndarray&gt;</div><input id='attrs-44e8d0da-b327-4ff8-b05d-446dc02a4ca3' class='xr-var-attrs-in' type='checkbox' ><label for='attrs-44e8d0da-b327-4ff8-b05d-446dc02a4ca3' title='Show/Hide attributes'><svg class='icon xr-icon-file-text2'><use xlink:href='#icon-file-text2'></use></svg></label><input id='data-8acea368-56fb-4f9a-902b-c80b6f2e3195' class='xr-var-data-in' type='checkbox'><label for='data-8acea368-56fb-4f9a-902b-c80b6f2e3195' title='Show/Hide data repr'><svg class='icon xr-icon-database'><use xlink:href='#icon-database'></use></svg></label><div class='xr-var-attrs'><dl class='xr-attrs'><dt><span>nodata :</span></dt><dd>255</dd></dl></div><div class='xr-var-data'><table>\n",
       "    <tr>\n",
       "        <td>\n",
       "            <table style=\"border-collapse: collapse;\">\n",
       "                <thead>\n",
       "                    <tr>\n",
       "                        <td> </td>\n",
       "                        <th> Array </th>\n",
       "                        <th> Chunk </th>\n",
       "                    </tr>\n",
       "                </thead>\n",
       "                <tbody>\n",
       "                    \n",
       "                    <tr>\n",
       "                        <th> Bytes </th>\n",
       "                        <td> 155.92 MiB </td>\n",
       "                        <td> 26.70 MiB </td>\n",
       "                    </tr>\n",
       "                    \n",
       "                    <tr>\n",
       "                        <th> Shape </th>\n",
       "                        <td> (28, 2064, 2829) </td>\n",
       "                        <td> (28, 1000, 1000) </td>\n",
       "                    </tr>\n",
       "                    <tr>\n",
       "                        <th> Dask graph </th>\n",
       "                        <td colspan=\"2\"> 9 chunks in 1 graph layer </td>\n",
       "                    </tr>\n",
       "                    <tr>\n",
       "                        <th> Data type </th>\n",
       "                        <td colspan=\"2\"> uint8 numpy.ndarray </td>\n",
       "                    </tr>\n",
       "                </tbody>\n",
       "            </table>\n",
       "        </td>\n",
       "        <td>\n",
       "        <svg width=\"194\" height=\"152\" style=\"stroke:rgb(0,0,0);stroke-width:1\" >\n",
       "\n",
       "  <!-- Horizontal lines -->\n",
       "  <line x1=\"10\" y1=\"0\" x2=\"24\" y2=\"14\" style=\"stroke-width:2\" />\n",
       "  <line x1=\"10\" y1=\"42\" x2=\"24\" y2=\"57\" />\n",
       "  <line x1=\"10\" y1=\"84\" x2=\"24\" y2=\"99\" />\n",
       "  <line x1=\"10\" y1=\"87\" x2=\"24\" y2=\"102\" style=\"stroke-width:2\" />\n",
       "\n",
       "  <!-- Vertical lines -->\n",
       "  <line x1=\"10\" y1=\"0\" x2=\"10\" y2=\"87\" style=\"stroke-width:2\" />\n",
       "  <line x1=\"24\" y1=\"14\" x2=\"24\" y2=\"102\" style=\"stroke-width:2\" />\n",
       "\n",
       "  <!-- Colored Rectangle -->\n",
       "  <polygon points=\"10.0,0.0 24.9485979497544,14.948597949754403 24.9485979497544,102.49896910563987 10.0,87.55037115588547\" style=\"fill:#ECB172A0;stroke-width:0\"/>\n",
       "\n",
       "  <!-- Horizontal lines -->\n",
       "  <line x1=\"10\" y1=\"0\" x2=\"130\" y2=\"0\" style=\"stroke-width:2\" />\n",
       "  <line x1=\"24\" y1=\"14\" x2=\"144\" y2=\"14\" style=\"stroke-width:2\" />\n",
       "\n",
       "  <!-- Vertical lines -->\n",
       "  <line x1=\"10\" y1=\"0\" x2=\"24\" y2=\"14\" style=\"stroke-width:2\" />\n",
       "  <line x1=\"52\" y1=\"0\" x2=\"67\" y2=\"14\" />\n",
       "  <line x1=\"94\" y1=\"0\" x2=\"109\" y2=\"14\" />\n",
       "  <line x1=\"130\" y1=\"0\" x2=\"144\" y2=\"14\" style=\"stroke-width:2\" />\n",
       "\n",
       "  <!-- Colored Rectangle -->\n",
       "  <polygon points=\"10.0,0.0 130.0,0.0 144.9485979497544,14.948597949754403 24.9485979497544,14.948597949754403\" style=\"fill:#ECB172A0;stroke-width:0\"/>\n",
       "\n",
       "  <!-- Horizontal lines -->\n",
       "  <line x1=\"24\" y1=\"14\" x2=\"144\" y2=\"14\" style=\"stroke-width:2\" />\n",
       "  <line x1=\"24\" y1=\"57\" x2=\"144\" y2=\"57\" />\n",
       "  <line x1=\"24\" y1=\"99\" x2=\"144\" y2=\"99\" />\n",
       "  <line x1=\"24\" y1=\"102\" x2=\"144\" y2=\"102\" style=\"stroke-width:2\" />\n",
       "\n",
       "  <!-- Vertical lines -->\n",
       "  <line x1=\"24\" y1=\"14\" x2=\"24\" y2=\"102\" style=\"stroke-width:2\" />\n",
       "  <line x1=\"67\" y1=\"14\" x2=\"67\" y2=\"102\" />\n",
       "  <line x1=\"109\" y1=\"14\" x2=\"109\" y2=\"102\" />\n",
       "  <line x1=\"144\" y1=\"14\" x2=\"144\" y2=\"102\" style=\"stroke-width:2\" />\n",
       "\n",
       "  <!-- Colored Rectangle -->\n",
       "  <polygon points=\"24.9485979497544,14.948597949754403 144.9485979497544,14.948597949754403 144.9485979497544,102.49896910563987 24.9485979497544,102.49896910563987\" style=\"fill:#ECB172A0;stroke-width:0\"/>\n",
       "\n",
       "  <!-- Text -->\n",
       "  <text x=\"84.948598\" y=\"122.498969\" font-size=\"1.0rem\" font-weight=\"100\" text-anchor=\"middle\" >2829</text>\n",
       "  <text x=\"164.948598\" y=\"58.723784\" font-size=\"1.0rem\" font-weight=\"100\" text-anchor=\"middle\" transform=\"rotate(-90,164.948598,58.723784)\">2064</text>\n",
       "  <text x=\"7.474299\" y=\"115.024670\" font-size=\"1.0rem\" font-weight=\"100\" text-anchor=\"middle\" transform=\"rotate(45,7.474299,115.024670)\">28</text>\n",
       "</svg>\n",
       "        </td>\n",
       "    </tr>\n",
       "</table></div></li><li class='xr-var-item'><div class='xr-var-name'><span>ensemble_likelihood</span></div><div class='xr-var-dims'>(time, y, x)</div><div class='xr-var-dtype'>uint8</div><div class='xr-var-preview xr-preview'>dask.array&lt;chunksize=(28, 1000, 1000), meta=np.ndarray&gt;</div><input id='attrs-86587550-5c28-48e7-bbe5-491b93f9734c' class='xr-var-attrs-in' type='checkbox' ><label for='attrs-86587550-5c28-48e7-bbe5-491b93f9734c' title='Show/Hide attributes'><svg class='icon xr-icon-file-text2'><use xlink:href='#icon-file-text2'></use></svg></label><input id='data-8fbfbe26-aa4e-4030-8dd1-c892e3b7144e' class='xr-var-data-in' type='checkbox'><label for='data-8fbfbe26-aa4e-4030-8dd1-c892e3b7144e' title='Show/Hide data repr'><svg class='icon xr-icon-database'><use xlink:href='#icon-database'></use></svg></label><div class='xr-var-attrs'><dl class='xr-attrs'><dt><span>nodata :</span></dt><dd>255</dd></dl></div><div class='xr-var-data'><table>\n",
       "    <tr>\n",
       "        <td>\n",
       "            <table style=\"border-collapse: collapse;\">\n",
       "                <thead>\n",
       "                    <tr>\n",
       "                        <td> </td>\n",
       "                        <th> Array </th>\n",
       "                        <th> Chunk </th>\n",
       "                    </tr>\n",
       "                </thead>\n",
       "                <tbody>\n",
       "                    \n",
       "                    <tr>\n",
       "                        <th> Bytes </th>\n",
       "                        <td> 155.92 MiB </td>\n",
       "                        <td> 26.70 MiB </td>\n",
       "                    </tr>\n",
       "                    \n",
       "                    <tr>\n",
       "                        <th> Shape </th>\n",
       "                        <td> (28, 2064, 2829) </td>\n",
       "                        <td> (28, 1000, 1000) </td>\n",
       "                    </tr>\n",
       "                    <tr>\n",
       "                        <th> Dask graph </th>\n",
       "                        <td colspan=\"2\"> 9 chunks in 1 graph layer </td>\n",
       "                    </tr>\n",
       "                    <tr>\n",
       "                        <th> Data type </th>\n",
       "                        <td colspan=\"2\"> uint8 numpy.ndarray </td>\n",
       "                    </tr>\n",
       "                </tbody>\n",
       "            </table>\n",
       "        </td>\n",
       "        <td>\n",
       "        <svg width=\"194\" height=\"152\" style=\"stroke:rgb(0,0,0);stroke-width:1\" >\n",
       "\n",
       "  <!-- Horizontal lines -->\n",
       "  <line x1=\"10\" y1=\"0\" x2=\"24\" y2=\"14\" style=\"stroke-width:2\" />\n",
       "  <line x1=\"10\" y1=\"42\" x2=\"24\" y2=\"57\" />\n",
       "  <line x1=\"10\" y1=\"84\" x2=\"24\" y2=\"99\" />\n",
       "  <line x1=\"10\" y1=\"87\" x2=\"24\" y2=\"102\" style=\"stroke-width:2\" />\n",
       "\n",
       "  <!-- Vertical lines -->\n",
       "  <line x1=\"10\" y1=\"0\" x2=\"10\" y2=\"87\" style=\"stroke-width:2\" />\n",
       "  <line x1=\"24\" y1=\"14\" x2=\"24\" y2=\"102\" style=\"stroke-width:2\" />\n",
       "\n",
       "  <!-- Colored Rectangle -->\n",
       "  <polygon points=\"10.0,0.0 24.9485979497544,14.948597949754403 24.9485979497544,102.49896910563987 10.0,87.55037115588547\" style=\"fill:#ECB172A0;stroke-width:0\"/>\n",
       "\n",
       "  <!-- Horizontal lines -->\n",
       "  <line x1=\"10\" y1=\"0\" x2=\"130\" y2=\"0\" style=\"stroke-width:2\" />\n",
       "  <line x1=\"24\" y1=\"14\" x2=\"144\" y2=\"14\" style=\"stroke-width:2\" />\n",
       "\n",
       "  <!-- Vertical lines -->\n",
       "  <line x1=\"10\" y1=\"0\" x2=\"24\" y2=\"14\" style=\"stroke-width:2\" />\n",
       "  <line x1=\"52\" y1=\"0\" x2=\"67\" y2=\"14\" />\n",
       "  <line x1=\"94\" y1=\"0\" x2=\"109\" y2=\"14\" />\n",
       "  <line x1=\"130\" y1=\"0\" x2=\"144\" y2=\"14\" style=\"stroke-width:2\" />\n",
       "\n",
       "  <!-- Colored Rectangle -->\n",
       "  <polygon points=\"10.0,0.0 130.0,0.0 144.9485979497544,14.948597949754403 24.9485979497544,14.948597949754403\" style=\"fill:#ECB172A0;stroke-width:0\"/>\n",
       "\n",
       "  <!-- Horizontal lines -->\n",
       "  <line x1=\"24\" y1=\"14\" x2=\"144\" y2=\"14\" style=\"stroke-width:2\" />\n",
       "  <line x1=\"24\" y1=\"57\" x2=\"144\" y2=\"57\" />\n",
       "  <line x1=\"24\" y1=\"99\" x2=\"144\" y2=\"99\" />\n",
       "  <line x1=\"24\" y1=\"102\" x2=\"144\" y2=\"102\" style=\"stroke-width:2\" />\n",
       "\n",
       "  <!-- Vertical lines -->\n",
       "  <line x1=\"24\" y1=\"14\" x2=\"24\" y2=\"102\" style=\"stroke-width:2\" />\n",
       "  <line x1=\"67\" y1=\"14\" x2=\"67\" y2=\"102\" />\n",
       "  <line x1=\"109\" y1=\"14\" x2=\"109\" y2=\"102\" />\n",
       "  <line x1=\"144\" y1=\"14\" x2=\"144\" y2=\"102\" style=\"stroke-width:2\" />\n",
       "\n",
       "  <!-- Colored Rectangle -->\n",
       "  <polygon points=\"24.9485979497544,14.948597949754403 144.9485979497544,14.948597949754403 144.9485979497544,102.49896910563987 24.9485979497544,102.49896910563987\" style=\"fill:#ECB172A0;stroke-width:0\"/>\n",
       "\n",
       "  <!-- Text -->\n",
       "  <text x=\"84.948598\" y=\"122.498969\" font-size=\"1.0rem\" font-weight=\"100\" text-anchor=\"middle\" >2829</text>\n",
       "  <text x=\"164.948598\" y=\"58.723784\" font-size=\"1.0rem\" font-weight=\"100\" text-anchor=\"middle\" transform=\"rotate(-90,164.948598,58.723784)\">2064</text>\n",
       "  <text x=\"7.474299\" y=\"115.024670\" font-size=\"1.0rem\" font-weight=\"100\" text-anchor=\"middle\" transform=\"rotate(45,7.474299,115.024670)\">28</text>\n",
       "</svg>\n",
       "        </td>\n",
       "    </tr>\n",
       "</table></div></li><li class='xr-var-item'><div class='xr-var-name'><span>reference_water_mask</span></div><div class='xr-var-dims'>(time, y, x)</div><div class='xr-var-dtype'>uint8</div><div class='xr-var-preview xr-preview'>dask.array&lt;chunksize=(28, 1000, 1000), meta=np.ndarray&gt;</div><input id='attrs-a0dadb3f-6748-49ea-bc9b-627098529bca' class='xr-var-attrs-in' type='checkbox' ><label for='attrs-a0dadb3f-6748-49ea-bc9b-627098529bca' title='Show/Hide attributes'><svg class='icon xr-icon-file-text2'><use xlink:href='#icon-file-text2'></use></svg></label><input id='data-3bd7abbb-a00c-412d-81bb-e06a6f8d2848' class='xr-var-data-in' type='checkbox'><label for='data-3bd7abbb-a00c-412d-81bb-e06a6f8d2848' title='Show/Hide data repr'><svg class='icon xr-icon-database'><use xlink:href='#icon-database'></use></svg></label><div class='xr-var-attrs'><dl class='xr-attrs'><dt><span>nodata :</span></dt><dd>255</dd></dl></div><div class='xr-var-data'><table>\n",
       "    <tr>\n",
       "        <td>\n",
       "            <table style=\"border-collapse: collapse;\">\n",
       "                <thead>\n",
       "                    <tr>\n",
       "                        <td> </td>\n",
       "                        <th> Array </th>\n",
       "                        <th> Chunk </th>\n",
       "                    </tr>\n",
       "                </thead>\n",
       "                <tbody>\n",
       "                    \n",
       "                    <tr>\n",
       "                        <th> Bytes </th>\n",
       "                        <td> 155.92 MiB </td>\n",
       "                        <td> 26.70 MiB </td>\n",
       "                    </tr>\n",
       "                    \n",
       "                    <tr>\n",
       "                        <th> Shape </th>\n",
       "                        <td> (28, 2064, 2829) </td>\n",
       "                        <td> (28, 1000, 1000) </td>\n",
       "                    </tr>\n",
       "                    <tr>\n",
       "                        <th> Dask graph </th>\n",
       "                        <td colspan=\"2\"> 9 chunks in 1 graph layer </td>\n",
       "                    </tr>\n",
       "                    <tr>\n",
       "                        <th> Data type </th>\n",
       "                        <td colspan=\"2\"> uint8 numpy.ndarray </td>\n",
       "                    </tr>\n",
       "                </tbody>\n",
       "            </table>\n",
       "        </td>\n",
       "        <td>\n",
       "        <svg width=\"194\" height=\"152\" style=\"stroke:rgb(0,0,0);stroke-width:1\" >\n",
       "\n",
       "  <!-- Horizontal lines -->\n",
       "  <line x1=\"10\" y1=\"0\" x2=\"24\" y2=\"14\" style=\"stroke-width:2\" />\n",
       "  <line x1=\"10\" y1=\"42\" x2=\"24\" y2=\"57\" />\n",
       "  <line x1=\"10\" y1=\"84\" x2=\"24\" y2=\"99\" />\n",
       "  <line x1=\"10\" y1=\"87\" x2=\"24\" y2=\"102\" style=\"stroke-width:2\" />\n",
       "\n",
       "  <!-- Vertical lines -->\n",
       "  <line x1=\"10\" y1=\"0\" x2=\"10\" y2=\"87\" style=\"stroke-width:2\" />\n",
       "  <line x1=\"24\" y1=\"14\" x2=\"24\" y2=\"102\" style=\"stroke-width:2\" />\n",
       "\n",
       "  <!-- Colored Rectangle -->\n",
       "  <polygon points=\"10.0,0.0 24.9485979497544,14.948597949754403 24.9485979497544,102.49896910563987 10.0,87.55037115588547\" style=\"fill:#ECB172A0;stroke-width:0\"/>\n",
       "\n",
       "  <!-- Horizontal lines -->\n",
       "  <line x1=\"10\" y1=\"0\" x2=\"130\" y2=\"0\" style=\"stroke-width:2\" />\n",
       "  <line x1=\"24\" y1=\"14\" x2=\"144\" y2=\"14\" style=\"stroke-width:2\" />\n",
       "\n",
       "  <!-- Vertical lines -->\n",
       "  <line x1=\"10\" y1=\"0\" x2=\"24\" y2=\"14\" style=\"stroke-width:2\" />\n",
       "  <line x1=\"52\" y1=\"0\" x2=\"67\" y2=\"14\" />\n",
       "  <line x1=\"94\" y1=\"0\" x2=\"109\" y2=\"14\" />\n",
       "  <line x1=\"130\" y1=\"0\" x2=\"144\" y2=\"14\" style=\"stroke-width:2\" />\n",
       "\n",
       "  <!-- Colored Rectangle -->\n",
       "  <polygon points=\"10.0,0.0 130.0,0.0 144.9485979497544,14.948597949754403 24.9485979497544,14.948597949754403\" style=\"fill:#ECB172A0;stroke-width:0\"/>\n",
       "\n",
       "  <!-- Horizontal lines -->\n",
       "  <line x1=\"24\" y1=\"14\" x2=\"144\" y2=\"14\" style=\"stroke-width:2\" />\n",
       "  <line x1=\"24\" y1=\"57\" x2=\"144\" y2=\"57\" />\n",
       "  <line x1=\"24\" y1=\"99\" x2=\"144\" y2=\"99\" />\n",
       "  <line x1=\"24\" y1=\"102\" x2=\"144\" y2=\"102\" style=\"stroke-width:2\" />\n",
       "\n",
       "  <!-- Vertical lines -->\n",
       "  <line x1=\"24\" y1=\"14\" x2=\"24\" y2=\"102\" style=\"stroke-width:2\" />\n",
       "  <line x1=\"67\" y1=\"14\" x2=\"67\" y2=\"102\" />\n",
       "  <line x1=\"109\" y1=\"14\" x2=\"109\" y2=\"102\" />\n",
       "  <line x1=\"144\" y1=\"14\" x2=\"144\" y2=\"102\" style=\"stroke-width:2\" />\n",
       "\n",
       "  <!-- Colored Rectangle -->\n",
       "  <polygon points=\"24.9485979497544,14.948597949754403 144.9485979497544,14.948597949754403 144.9485979497544,102.49896910563987 24.9485979497544,102.49896910563987\" style=\"fill:#ECB172A0;stroke-width:0\"/>\n",
       "\n",
       "  <!-- Text -->\n",
       "  <text x=\"84.948598\" y=\"122.498969\" font-size=\"1.0rem\" font-weight=\"100\" text-anchor=\"middle\" >2829</text>\n",
       "  <text x=\"164.948598\" y=\"58.723784\" font-size=\"1.0rem\" font-weight=\"100\" text-anchor=\"middle\" transform=\"rotate(-90,164.948598,58.723784)\">2064</text>\n",
       "  <text x=\"7.474299\" y=\"115.024670\" font-size=\"1.0rem\" font-weight=\"100\" text-anchor=\"middle\" transform=\"rotate(45,7.474299,115.024670)\">28</text>\n",
       "</svg>\n",
       "        </td>\n",
       "    </tr>\n",
       "</table></div></li><li class='xr-var-item'><div class='xr-var-name'><span>ensemble_flood_extent</span></div><div class='xr-var-dims'>(time, y, x)</div><div class='xr-var-dtype'>uint8</div><div class='xr-var-preview xr-preview'>dask.array&lt;chunksize=(28, 1000, 1000), meta=np.ndarray&gt;</div><input id='attrs-cfc1b67b-8739-477a-9f8e-3da8287b09e8' class='xr-var-attrs-in' type='checkbox' ><label for='attrs-cfc1b67b-8739-477a-9f8e-3da8287b09e8' title='Show/Hide attributes'><svg class='icon xr-icon-file-text2'><use xlink:href='#icon-file-text2'></use></svg></label><input id='data-fa98fb29-ca56-417d-845d-18c8895df8e5' class='xr-var-data-in' type='checkbox'><label for='data-fa98fb29-ca56-417d-845d-18c8895df8e5' title='Show/Hide data repr'><svg class='icon xr-icon-database'><use xlink:href='#icon-database'></use></svg></label><div class='xr-var-attrs'><dl class='xr-attrs'><dt><span>nodata :</span></dt><dd>255</dd></dl></div><div class='xr-var-data'><table>\n",
       "    <tr>\n",
       "        <td>\n",
       "            <table style=\"border-collapse: collapse;\">\n",
       "                <thead>\n",
       "                    <tr>\n",
       "                        <td> </td>\n",
       "                        <th> Array </th>\n",
       "                        <th> Chunk </th>\n",
       "                    </tr>\n",
       "                </thead>\n",
       "                <tbody>\n",
       "                    \n",
       "                    <tr>\n",
       "                        <th> Bytes </th>\n",
       "                        <td> 155.92 MiB </td>\n",
       "                        <td> 26.70 MiB </td>\n",
       "                    </tr>\n",
       "                    \n",
       "                    <tr>\n",
       "                        <th> Shape </th>\n",
       "                        <td> (28, 2064, 2829) </td>\n",
       "                        <td> (28, 1000, 1000) </td>\n",
       "                    </tr>\n",
       "                    <tr>\n",
       "                        <th> Dask graph </th>\n",
       "                        <td colspan=\"2\"> 9 chunks in 1 graph layer </td>\n",
       "                    </tr>\n",
       "                    <tr>\n",
       "                        <th> Data type </th>\n",
       "                        <td colspan=\"2\"> uint8 numpy.ndarray </td>\n",
       "                    </tr>\n",
       "                </tbody>\n",
       "            </table>\n",
       "        </td>\n",
       "        <td>\n",
       "        <svg width=\"194\" height=\"152\" style=\"stroke:rgb(0,0,0);stroke-width:1\" >\n",
       "\n",
       "  <!-- Horizontal lines -->\n",
       "  <line x1=\"10\" y1=\"0\" x2=\"24\" y2=\"14\" style=\"stroke-width:2\" />\n",
       "  <line x1=\"10\" y1=\"42\" x2=\"24\" y2=\"57\" />\n",
       "  <line x1=\"10\" y1=\"84\" x2=\"24\" y2=\"99\" />\n",
       "  <line x1=\"10\" y1=\"87\" x2=\"24\" y2=\"102\" style=\"stroke-width:2\" />\n",
       "\n",
       "  <!-- Vertical lines -->\n",
       "  <line x1=\"10\" y1=\"0\" x2=\"10\" y2=\"87\" style=\"stroke-width:2\" />\n",
       "  <line x1=\"24\" y1=\"14\" x2=\"24\" y2=\"102\" style=\"stroke-width:2\" />\n",
       "\n",
       "  <!-- Colored Rectangle -->\n",
       "  <polygon points=\"10.0,0.0 24.9485979497544,14.948597949754403 24.9485979497544,102.49896910563987 10.0,87.55037115588547\" style=\"fill:#ECB172A0;stroke-width:0\"/>\n",
       "\n",
       "  <!-- Horizontal lines -->\n",
       "  <line x1=\"10\" y1=\"0\" x2=\"130\" y2=\"0\" style=\"stroke-width:2\" />\n",
       "  <line x1=\"24\" y1=\"14\" x2=\"144\" y2=\"14\" style=\"stroke-width:2\" />\n",
       "\n",
       "  <!-- Vertical lines -->\n",
       "  <line x1=\"10\" y1=\"0\" x2=\"24\" y2=\"14\" style=\"stroke-width:2\" />\n",
       "  <line x1=\"52\" y1=\"0\" x2=\"67\" y2=\"14\" />\n",
       "  <line x1=\"94\" y1=\"0\" x2=\"109\" y2=\"14\" />\n",
       "  <line x1=\"130\" y1=\"0\" x2=\"144\" y2=\"14\" style=\"stroke-width:2\" />\n",
       "\n",
       "  <!-- Colored Rectangle -->\n",
       "  <polygon points=\"10.0,0.0 130.0,0.0 144.9485979497544,14.948597949754403 24.9485979497544,14.948597949754403\" style=\"fill:#ECB172A0;stroke-width:0\"/>\n",
       "\n",
       "  <!-- Horizontal lines -->\n",
       "  <line x1=\"24\" y1=\"14\" x2=\"144\" y2=\"14\" style=\"stroke-width:2\" />\n",
       "  <line x1=\"24\" y1=\"57\" x2=\"144\" y2=\"57\" />\n",
       "  <line x1=\"24\" y1=\"99\" x2=\"144\" y2=\"99\" />\n",
       "  <line x1=\"24\" y1=\"102\" x2=\"144\" y2=\"102\" style=\"stroke-width:2\" />\n",
       "\n",
       "  <!-- Vertical lines -->\n",
       "  <line x1=\"24\" y1=\"14\" x2=\"24\" y2=\"102\" style=\"stroke-width:2\" />\n",
       "  <line x1=\"67\" y1=\"14\" x2=\"67\" y2=\"102\" />\n",
       "  <line x1=\"109\" y1=\"14\" x2=\"109\" y2=\"102\" />\n",
       "  <line x1=\"144\" y1=\"14\" x2=\"144\" y2=\"102\" style=\"stroke-width:2\" />\n",
       "\n",
       "  <!-- Colored Rectangle -->\n",
       "  <polygon points=\"24.9485979497544,14.948597949754403 144.9485979497544,14.948597949754403 144.9485979497544,102.49896910563987 24.9485979497544,102.49896910563987\" style=\"fill:#ECB172A0;stroke-width:0\"/>\n",
       "\n",
       "  <!-- Text -->\n",
       "  <text x=\"84.948598\" y=\"122.498969\" font-size=\"1.0rem\" font-weight=\"100\" text-anchor=\"middle\" >2829</text>\n",
       "  <text x=\"164.948598\" y=\"58.723784\" font-size=\"1.0rem\" font-weight=\"100\" text-anchor=\"middle\" transform=\"rotate(-90,164.948598,58.723784)\">2064</text>\n",
       "  <text x=\"7.474299\" y=\"115.024670\" font-size=\"1.0rem\" font-weight=\"100\" text-anchor=\"middle\" transform=\"rotate(45,7.474299,115.024670)\">28</text>\n",
       "</svg>\n",
       "        </td>\n",
       "    </tr>\n",
       "</table></div></li><li class='xr-var-item'><div class='xr-var-name'><span>ensemble_water_extent</span></div><div class='xr-var-dims'>(time, y, x)</div><div class='xr-var-dtype'>uint8</div><div class='xr-var-preview xr-preview'>dask.array&lt;chunksize=(28, 1000, 1000), meta=np.ndarray&gt;</div><input id='attrs-0423b510-4241-4d97-b0de-3cd241c271e8' class='xr-var-attrs-in' type='checkbox' ><label for='attrs-0423b510-4241-4d97-b0de-3cd241c271e8' title='Show/Hide attributes'><svg class='icon xr-icon-file-text2'><use xlink:href='#icon-file-text2'></use></svg></label><input id='data-6d8a5400-a904-408a-b436-afe5022f8c0a' class='xr-var-data-in' type='checkbox'><label for='data-6d8a5400-a904-408a-b436-afe5022f8c0a' title='Show/Hide data repr'><svg class='icon xr-icon-database'><use xlink:href='#icon-database'></use></svg></label><div class='xr-var-attrs'><dl class='xr-attrs'><dt><span>nodata :</span></dt><dd>255</dd></dl></div><div class='xr-var-data'><table>\n",
       "    <tr>\n",
       "        <td>\n",
       "            <table style=\"border-collapse: collapse;\">\n",
       "                <thead>\n",
       "                    <tr>\n",
       "                        <td> </td>\n",
       "                        <th> Array </th>\n",
       "                        <th> Chunk </th>\n",
       "                    </tr>\n",
       "                </thead>\n",
       "                <tbody>\n",
       "                    \n",
       "                    <tr>\n",
       "                        <th> Bytes </th>\n",
       "                        <td> 155.92 MiB </td>\n",
       "                        <td> 26.70 MiB </td>\n",
       "                    </tr>\n",
       "                    \n",
       "                    <tr>\n",
       "                        <th> Shape </th>\n",
       "                        <td> (28, 2064, 2829) </td>\n",
       "                        <td> (28, 1000, 1000) </td>\n",
       "                    </tr>\n",
       "                    <tr>\n",
       "                        <th> Dask graph </th>\n",
       "                        <td colspan=\"2\"> 9 chunks in 1 graph layer </td>\n",
       "                    </tr>\n",
       "                    <tr>\n",
       "                        <th> Data type </th>\n",
       "                        <td colspan=\"2\"> uint8 numpy.ndarray </td>\n",
       "                    </tr>\n",
       "                </tbody>\n",
       "            </table>\n",
       "        </td>\n",
       "        <td>\n",
       "        <svg width=\"194\" height=\"152\" style=\"stroke:rgb(0,0,0);stroke-width:1\" >\n",
       "\n",
       "  <!-- Horizontal lines -->\n",
       "  <line x1=\"10\" y1=\"0\" x2=\"24\" y2=\"14\" style=\"stroke-width:2\" />\n",
       "  <line x1=\"10\" y1=\"42\" x2=\"24\" y2=\"57\" />\n",
       "  <line x1=\"10\" y1=\"84\" x2=\"24\" y2=\"99\" />\n",
       "  <line x1=\"10\" y1=\"87\" x2=\"24\" y2=\"102\" style=\"stroke-width:2\" />\n",
       "\n",
       "  <!-- Vertical lines -->\n",
       "  <line x1=\"10\" y1=\"0\" x2=\"10\" y2=\"87\" style=\"stroke-width:2\" />\n",
       "  <line x1=\"24\" y1=\"14\" x2=\"24\" y2=\"102\" style=\"stroke-width:2\" />\n",
       "\n",
       "  <!-- Colored Rectangle -->\n",
       "  <polygon points=\"10.0,0.0 24.9485979497544,14.948597949754403 24.9485979497544,102.49896910563987 10.0,87.55037115588547\" style=\"fill:#ECB172A0;stroke-width:0\"/>\n",
       "\n",
       "  <!-- Horizontal lines -->\n",
       "  <line x1=\"10\" y1=\"0\" x2=\"130\" y2=\"0\" style=\"stroke-width:2\" />\n",
       "  <line x1=\"24\" y1=\"14\" x2=\"144\" y2=\"14\" style=\"stroke-width:2\" />\n",
       "\n",
       "  <!-- Vertical lines -->\n",
       "  <line x1=\"10\" y1=\"0\" x2=\"24\" y2=\"14\" style=\"stroke-width:2\" />\n",
       "  <line x1=\"52\" y1=\"0\" x2=\"67\" y2=\"14\" />\n",
       "  <line x1=\"94\" y1=\"0\" x2=\"109\" y2=\"14\" />\n",
       "  <line x1=\"130\" y1=\"0\" x2=\"144\" y2=\"14\" style=\"stroke-width:2\" />\n",
       "\n",
       "  <!-- Colored Rectangle -->\n",
       "  <polygon points=\"10.0,0.0 130.0,0.0 144.9485979497544,14.948597949754403 24.9485979497544,14.948597949754403\" style=\"fill:#ECB172A0;stroke-width:0\"/>\n",
       "\n",
       "  <!-- Horizontal lines -->\n",
       "  <line x1=\"24\" y1=\"14\" x2=\"144\" y2=\"14\" style=\"stroke-width:2\" />\n",
       "  <line x1=\"24\" y1=\"57\" x2=\"144\" y2=\"57\" />\n",
       "  <line x1=\"24\" y1=\"99\" x2=\"144\" y2=\"99\" />\n",
       "  <line x1=\"24\" y1=\"102\" x2=\"144\" y2=\"102\" style=\"stroke-width:2\" />\n",
       "\n",
       "  <!-- Vertical lines -->\n",
       "  <line x1=\"24\" y1=\"14\" x2=\"24\" y2=\"102\" style=\"stroke-width:2\" />\n",
       "  <line x1=\"67\" y1=\"14\" x2=\"67\" y2=\"102\" />\n",
       "  <line x1=\"109\" y1=\"14\" x2=\"109\" y2=\"102\" />\n",
       "  <line x1=\"144\" y1=\"14\" x2=\"144\" y2=\"102\" style=\"stroke-width:2\" />\n",
       "\n",
       "  <!-- Colored Rectangle -->\n",
       "  <polygon points=\"24.9485979497544,14.948597949754403 144.9485979497544,14.948597949754403 144.9485979497544,102.49896910563987 24.9485979497544,102.49896910563987\" style=\"fill:#ECB172A0;stroke-width:0\"/>\n",
       "\n",
       "  <!-- Text -->\n",
       "  <text x=\"84.948598\" y=\"122.498969\" font-size=\"1.0rem\" font-weight=\"100\" text-anchor=\"middle\" >2829</text>\n",
       "  <text x=\"164.948598\" y=\"58.723784\" font-size=\"1.0rem\" font-weight=\"100\" text-anchor=\"middle\" transform=\"rotate(-90,164.948598,58.723784)\">2064</text>\n",
       "  <text x=\"7.474299\" y=\"115.024670\" font-size=\"1.0rem\" font-weight=\"100\" text-anchor=\"middle\" transform=\"rotate(45,7.474299,115.024670)\">28</text>\n",
       "</svg>\n",
       "        </td>\n",
       "    </tr>\n",
       "</table></div></li></ul></div></li><li class='xr-section-item'><input id='section-e37e4019-170c-4b69-ad3a-cae20d9e73c1' class='xr-section-summary-in' type='checkbox'  ><label for='section-e37e4019-170c-4b69-ad3a-cae20d9e73c1' class='xr-section-summary' >Indexes: <span>(3)</span></label><div class='xr-section-inline-details'></div><div class='xr-section-details'><ul class='xr-var-list'><li class='xr-var-item'><div class='xr-index-name'><div>y</div></div><div class='xr-index-preview'>PandasIndex</div><input type='checkbox' disabled/><label></label><input id='index-b2bad615-3e56-4192-975b-ffef34015603' class='xr-index-data-in' type='checkbox'/><label for='index-b2bad615-3e56-4192-975b-ffef34015603' title='Show/Hide index repr'><svg class='icon xr-icon-database'><use xlink:href='#icon-database'></use></svg></label><div class='xr-index-data'><pre>PandasIndex(Index([2361530.0, 2361510.0, 2361490.0, 2361470.0, 2361450.0, 2361430.0,\n",
       "       2361410.0, 2361390.0, 2361370.0, 2361350.0,\n",
       "       ...\n",
       "       2320450.0, 2320430.0, 2320410.0, 2320390.0, 2320370.0, 2320350.0,\n",
       "       2320330.0, 2320310.0, 2320290.0, 2320270.0],\n",
       "      dtype=&#x27;float64&#x27;, name=&#x27;y&#x27;, length=2064))</pre></div></li><li class='xr-var-item'><div class='xr-index-name'><div>x</div></div><div class='xr-index-preview'>PandasIndex</div><input type='checkbox' disabled/><label></label><input id='index-194dad3a-2de4-4b51-91d1-632cb32229ae' class='xr-index-data-in' type='checkbox'/><label for='index-194dad3a-2de4-4b51-91d1-632cb32229ae' title='Show/Hide index repr'><svg class='icon xr-icon-database'><use xlink:href='#icon-database'></use></svg></label><div class='xr-index-data'><pre>PandasIndex(Index([5078950.0, 5078970.0, 5078990.0, 5079010.0, 5079030.0, 5079050.0,\n",
       "       5079070.0, 5079090.0, 5079110.0, 5079130.0,\n",
       "       ...\n",
       "       5135330.0, 5135350.0, 5135370.0, 5135390.0, 5135410.0, 5135430.0,\n",
       "       5135450.0, 5135470.0, 5135490.0, 5135510.0],\n",
       "      dtype=&#x27;float64&#x27;, name=&#x27;x&#x27;, length=2829))</pre></div></li><li class='xr-var-item'><div class='xr-index-name'><div>time</div></div><div class='xr-index-preview'>PandasIndex</div><input type='checkbox' disabled/><label></label><input id='index-1b19e15c-1779-47bb-8e5d-bdad57d3ddce' class='xr-index-data-in' type='checkbox'/><label for='index-1b19e15c-1779-47bb-8e5d-bdad57d3ddce' title='Show/Hide index repr'><svg class='icon xr-icon-database'><use xlink:href='#icon-database'></use></svg></label><div class='xr-index-data'><pre>PandasIndex(DatetimeIndex([&#x27;2023-10-11 05:33:18&#x27;, &#x27;2023-10-11 05:33:43&#x27;,\n",
       "               &#x27;2023-10-11 05:34:08&#x27;, &#x27;2023-10-11 16:44:35&#x27;,\n",
       "               &#x27;2023-10-11 16:45:00&#x27;, &#x27;2023-10-13 05:16:57&#x27;,\n",
       "               &#x27;2023-10-13 05:17:22&#x27;, &#x27;2023-10-13 05:17:47&#x27;,\n",
       "               &#x27;2023-10-14 17:09:06&#x27;, &#x27;2023-10-14 17:09:31&#x27;,\n",
       "               &#x27;2023-10-14 17:09:56&#x27;, &#x27;2023-10-16 05:41:42&#x27;,\n",
       "               &#x27;2023-10-16 05:42:07&#x27;, &#x27;2023-10-16 05:42:32&#x27;,\n",
       "               &#x27;2023-10-16 16:52:39&#x27;, &#x27;2023-10-16 16:53:04&#x27;,\n",
       "               &#x27;2023-10-16 16:53:29&#x27;, &#x27;2023-10-19 17:17:02&#x27;,\n",
       "               &#x27;2023-10-19 17:17:27&#x27;, &#x27;2023-10-19 17:17:52&#x27;,\n",
       "               &#x27;2023-10-23 05:33:19&#x27;, &#x27;2023-10-23 05:33:44&#x27;,\n",
       "               &#x27;2023-10-23 05:34:09&#x27;, &#x27;2023-10-23 16:44:36&#x27;,\n",
       "               &#x27;2023-10-23 16:45:01&#x27;, &#x27;2023-10-25 05:16:57&#x27;,\n",
       "               &#x27;2023-10-25 05:17:22&#x27;, &#x27;2023-10-25 05:17:47&#x27;],\n",
       "              dtype=&#x27;datetime64[ns]&#x27;, name=&#x27;time&#x27;, freq=None))</pre></div></li></ul></div></li><li class='xr-section-item'><input id='section-ebe9335f-fd0e-40cf-a1f8-d90853ba9c30' class='xr-section-summary-in' type='checkbox' disabled ><label for='section-ebe9335f-fd0e-40cf-a1f8-d90853ba9c30' class='xr-section-summary'  title='Expand/collapse section'>Attributes: <span>(0)</span></label><div class='xr-section-inline-details'></div><div class='xr-section-details'><dl class='xr-attrs'></dl></div></li></ul></div></div>"
      ],
      "text/plain": [
       "<xarray.Dataset> Size: 2GB\n",
       "Dimensions:                (y: 2064, x: 2829, time: 28)\n",
       "Coordinates:\n",
       "  * y                      (y) float64 17kB 2.362e+06 2.362e+06 ... 2.32e+06\n",
       "  * x                      (x) float64 23kB 5.079e+06 5.079e+06 ... 5.136e+06\n",
       "    spatial_ref            int32 4B 27704\n",
       "  * time                   (time) datetime64[ns] 224B 2023-10-11T05:33:18 ......\n",
       "Data variables:\n",
       "    advisory_flags         (time, y, x) uint8 163MB dask.array<chunksize=(28, 1000, 1000), meta=np.ndarray>\n",
       "    dlr_likelihood         (time, y, x) uint8 163MB dask.array<chunksize=(28, 1000, 1000), meta=np.ndarray>\n",
       "    exclusion_mask         (time, y, x) uint8 163MB dask.array<chunksize=(28, 1000, 1000), meta=np.ndarray>\n",
       "    tuw_likelihood         (time, y, x) uint8 163MB dask.array<chunksize=(28, 1000, 1000), meta=np.ndarray>\n",
       "    list_likelihood        (time, y, x) uint8 163MB dask.array<chunksize=(28, 1000, 1000), meta=np.ndarray>\n",
       "    dlr_flood_extent       (time, y, x) uint8 163MB dask.array<chunksize=(28, 1000, 1000), meta=np.ndarray>\n",
       "    tuw_flood_extent       (time, y, x) uint8 163MB dask.array<chunksize=(28, 1000, 1000), meta=np.ndarray>\n",
       "    list_flood_extent      (time, y, x) uint8 163MB dask.array<chunksize=(28, 1000, 1000), meta=np.ndarray>\n",
       "    ensemble_likelihood    (time, y, x) uint8 163MB dask.array<chunksize=(28, 1000, 1000), meta=np.ndarray>\n",
       "    reference_water_mask   (time, y, x) uint8 163MB dask.array<chunksize=(28, 1000, 1000), meta=np.ndarray>\n",
       "    ensemble_flood_extent  (time, y, x) uint8 163MB dask.array<chunksize=(28, 1000, 1000), meta=np.ndarray>\n",
       "    ensemble_water_extent  (time, y, x) uint8 163MB dask.array<chunksize=(28, 1000, 1000), meta=np.ndarray>"
      ]
     },
     "execution_count": 6,
     "metadata": {},
     "output_type": "execute_result"
    }
   ],
   "source": [
    "import pyproj\n",
    "crs = pyproj.CRS.from_wkt(items_GFM[0].properties[\"proj:wkt2\"])\n",
    "\n",
    "# Set the resolution of the data\n",
    "resolution = items_GFM[0].properties['gsd']\n",
    "\n",
    "GFM_dc= odc_stac.load(\n",
    "    items_GFM, \n",
    "    bbox=bounding_box,   # Define the bounding box for the area of interest\n",
    "    crs=crs,   # Set the coordinate reference system\n",
    "    #bands=[\"tuw_likelihood\",\"tuw_flood_extent\"],   # Specify the bands to load, comment to load all bands\n",
    "    resolution=resolution,   # Set the resolution of the data\n",
    "    dtype='uint8',   # Define the data type\n",
    "    chunks={\"x\": 1000, \"y\": 1000, \"time\": -1},  # Set the chunk size for Dask\n",
    ")\n",
    "\n",
    "GFM_dc = GFM_dc.persist()\n",
    "wait(GFM_dc)\n",
    "\n",
    "GFM_dc"
   ]
  },
  {
   "cell_type": "code",
   "execution_count": 7,
   "metadata": {},
   "outputs": [
    {
     "name": "stdout",
     "output_type": "stream",
     "text": [
      "advisory_flags: min=0, max=255\n",
      "dlr_likelihood: min=0, max=255\n",
      "exclusion_mask: min=0, max=255\n",
      "tuw_likelihood: min=0, max=255\n",
      "list_likelihood: min=0, max=255\n",
      "dlr_flood_extent: min=0, max=255\n",
      "tuw_flood_extent: min=0, max=255\n",
      "list_flood_extent: min=0, max=255\n",
      "ensemble_likelihood: min=0, max=255\n",
      "reference_water_mask: min=0, max=255\n",
      "ensemble_flood_extent: min=0, max=255\n",
      "ensemble_water_extent: min=0, max=255\n"
     ]
    }
   ],
   "source": [
    "# Describe the range of values for each data variable in GFM_dc\n",
    "import numpy as np\n",
    "for var in GFM_dc.data_vars:\n",
    "    data = GFM_dc[var].values\n",
    "    valid_data = data[~np.isnan(data)]\n",
    "    min_val = np.nanmin(valid_data)\n",
    "    max_val = np.nanmax(valid_data)\n",
    "    print(f\"{var}: min={min_val}, max={max_val}\")"
   ]
  },
  {
   "cell_type": "code",
   "execution_count": 8,
   "metadata": {},
   "outputs": [],
   "source": [
    "import seaborn as sns\n",
    "import matplotlib.pyplot as plt\n",
    "import pandas as pd\n",
    "\n",
    "def plot_variable_distributions(data_cube):\n",
    "    # Set up the figure size\n",
    "    n_vars = len(data_cube.data_vars)\n",
    "    fig, axes = plt.subplots(n_vars, 1, figsize=(12, 4*n_vars))\n",
    "    fig.suptitle('Distribution of Variables in GFM Dataset', fontsize=16)\n",
    "    \n",
    "    # Plot distribution for each variable\n",
    "    for idx, (var_name, ax) in enumerate(zip(data_cube.data_vars, axes)):\n",
    "        # Get data and remove 255 values (no data)\n",
    "        data = data_cube[var_name].values.flatten()\n",
    "        data = data[data != 255]\n",
    "        \n",
    "        # Create distribution plot\n",
    "        sns.histplot(data, bins=50, ax=ax)\n",
    "        ax.set_title(f'{var_name} Distribution')\n",
    "        ax.set_xlabel('Value')\n",
    "        ax.set_ylabel('Count')\n",
    "        \n",
    "        # Add statistical information\n",
    "        stats = f'Mean: {np.mean(data):.2f}\\nStd: {np.std(data):.2f}'\n",
    "        ax.text(0.95, 0.95, stats,\n",
    "                transform=ax.transAxes,\n",
    "                verticalalignment='top',\n",
    "                horizontalalignment='right',\n",
    "                bbox=dict(boxstyle='round', facecolor='white', alpha=0.8))\n",
    "    \n",
    "    plt.tight_layout()\n",
    "    return fig\n",
    "\n",
    "# Create and display the distribution plots\n",
    "#distribution_plot = plot_variable_distributions(GFM_dc)\n",
    "#plt.show()"
   ]
  },
  {
   "cell_type": "code",
   "execution_count": 9,
   "metadata": {},
   "outputs": [
    {
     "name": "stdout",
     "output_type": "stream",
     "text": [
      "Generating distribution plots...\n"
     ]
    },
    {
     "data": {
      "image/png": "[encoded data removed]",
      "text/plain": [
       "<Figure size 1200x4800 with 12 Axes>"
      ]
     },
     "metadata": {},
     "output_type": "display_data"
    }
   ],
   "source": [
    "def plot_variable_distributions_optimized(data_cube):\n",
    "    n_vars = len(data_cube.data_vars)\n",
    "    fig, axes = plt.subplots(n_vars, 1, figsize=(12, 4*n_vars))\n",
    "    fig.suptitle('Distribution of Variables in GFM Dataset', fontsize=16)\n",
    "    \n",
    "    # Make axes iterable if there's only one variable\n",
    "    if n_vars == 1:\n",
    "        axes = [axes]\n",
    "    \n",
    "    for idx, (var_name, ax) in enumerate(zip(data_cube.data_vars, axes)):\n",
    "        # Use dask computation\n",
    "        data = data_cube[var_name].data\n",
    "        \n",
    "        # Compute statistics using dask\n",
    "        valid_data = data[data != 255]\n",
    "        mean = float(valid_data.mean().compute())\n",
    "        std = float(valid_data.std().compute())\n",
    "        \n",
    "        # Sample data for histogram (faster)\n",
    "        sample_size = min(100000, valid_data.size)\n",
    "        sample_data = valid_data.map_blocks(lambda x: np.random.choice(x.flatten(), \n",
    "                                          size=min(sample_size, x.size))).compute()\n",
    "        \n",
    "        # Plot\n",
    "        sns.histplot(sample_data, bins=50, ax=ax)\n",
    "        ax.set_title(f'{var_name} Distribution')\n",
    "        ax.set_xlabel('Value')\n",
    "        ax.set_ylabel('Count')\n",
    "        \n",
    "        # Add stats\n",
    "        stats = f'Mean: {mean:.2f}\\nStd: {std:.2f}'\n",
    "        ax.text(0.95, 0.95, stats,\n",
    "                transform=ax.transAxes,\n",
    "                verticalalignment='top',\n",
    "                horizontalalignment='right',\n",
    "                bbox=dict(boxstyle='round', facecolor='white', alpha=0.8))\n",
    "    \n",
    "    plt.tight_layout()\n",
    "    return fig\n",
    "\n",
    "# Create and display the plots with progress indication\n",
    "print(\"Generating distribution plots...\")\n",
    "distribution_plot = plot_variable_distributions_optimized(GFM_dc)\n",
    "plt.show()"
   ]
  },
  {
   "cell_type": "code",
   "execution_count": 47,
   "metadata": {},
   "outputs": [
    {
     "name": "stdout",
     "output_type": "stream",
     "text": [
      "['advisory_flags', 'dlr_likelihood', 'exclusion_mask', 'tuw_likelihood', 'list_likelihood', 'dlr_flood_extent', 'tuw_flood_extent', 'list_flood_extent', 'ensemble_likelihood', 'reference_water_mask', 'ensemble_flood_extent', 'ensemble_water_extent']\n",
      "Duplicate variables: ['advisory_flags']\n",
      "The duplicate variable 'advisory_flags' is identical to the reference variable:\n",
      "<xarray.DataArray 'advisory_flags' (time: 28, y: 2064, x: 2829)> Size: 163MB\n",
      "dask.array<advisory_flags, shape=(28, 2064, 2829), dtype=uint8, chunksize=(28, 1000, 1000), chunktype=numpy.ndarray>\n",
      "Coordinates:\n",
      "  * y            (y) float64 17kB 2.362e+06 2.362e+06 ... 2.32e+06 2.32e+06\n",
      "  * x            (x) float64 23kB 5.079e+06 5.079e+06 ... 5.135e+06 5.136e+06\n",
      "    spatial_ref  int32 4B 27704\n",
      "  * time         (time) datetime64[ns] 224B 2023-10-11T05:33:18 ... 2023-10-2...\n",
      "Attributes:\n",
      "    nodata:   255\n"
     ]
    }
   ],
   "source": [
    "data_variable_names = list(GFM_dc.data_vars)\n",
    "print(data_variable_names)\n",
    "duplicate_variables = [var for var in data_variable_names if GFM_dc[var].equals(GFM_dc[data_variable_names[0]])]\n",
    "print(f\"Duplicate variables: {duplicate_variables}\")\n",
    "if duplicate_variables:\n",
    "    duplicate_reference = GFM_dc[duplicate_variables[0]]\n",
    "    print(f\"The duplicate variable '{duplicate_variables[0]}' is identical to the reference variable:\\n{duplicate_reference}\")\n",
    "else:\n",
    "    print(\"No duplicates found.\")\n"
   ]
  },
  {
   "cell_type": "code",
   "execution_count": 48,
   "metadata": {},
   "outputs": [
    {
     "name": "stderr",
     "output_type": "stream",
     "text": [
      "C:\\Users\\jonas\\AppData\\Local\\Temp\\ipykernel_1820\\1774254466.py:21: ConstantInputWarning: An input array is constant; the correlation coefficient is not defined.\n",
      "  corr, _ = pearsonr(ext_flat[mask], lik_flat[mask])\n"
     ]
    },
    {
     "name": "stdout",
     "output_type": "stream",
     "text": [
      "Pearson correlation (similarity) for each time step: [-0.035059996, nan, nan, nan, nan, 0.010943129, nan, nan, nan, nan, nan, nan, nan, nan, nan, 0.006512488, nan, nan, nan, nan, -0.08038394, nan, nan, nan, nan, 0.022443155, nan, nan]\n"
     ]
    }
   ],
   "source": [
    "from scipy.stats import pearsonr\n",
    "import numpy as np\n",
    "\n",
    "# Pre-processing\n",
    "# Substitute 255 for NaNs\n",
    "GFM_dc[\"tuw_flood_extent\"] = GFM_dc.tuw_flood_extent.where(GFM_dc.tuw_flood_extent!=255).compute()\n",
    "GFM_dc[\"tuw_likelihood\"] = GFM_dc.tuw_likelihood.where(GFM_dc.tuw_likelihood!=255).compute()\n",
    "\n",
    "# Compute similarity between flood extent and likelihood for each time step\n",
    "\n",
    "# Flatten the arrays and mask NaNs for valid comparison\n",
    "extent = GFM_dc[\"tuw_flood_extent\"].values\n",
    "likelihood = GFM_dc[\"tuw_likelihood\"].values\n",
    "\n",
    "similarities = []\n",
    "for t in range(extent.shape[0]):\n",
    "    ext_flat = extent[t].flatten()\n",
    "    lik_flat = likelihood[t].flatten()\n",
    "    mask = ~np.isnan(ext_flat) & ~np.isnan(lik_flat)\n",
    "    if np.any(mask):\n",
    "        corr, _ = pearsonr(ext_flat[mask], lik_flat[mask])\n",
    "        similarities.append(corr)\n",
    "    else:\n",
    "        similarities.append(np.nan)\n",
    "\n",
    "print(\"Pearson correlation (similarity) for each time step:\", similarities)"
   ]
  },
  {
   "cell_type": "markdown",
   "metadata": {},
   "source": [
    "### Visulize the data\n",
    "\n"
   ]
  },
  {
   "cell_type": "markdown",
   "metadata": {},
   "source": [
    "### Import the color scheme"
   ]
  },
  {
   "cell_type": "code",
   "execution_count": 10,
   "metadata": {},
   "outputs": [
    {
     "name": "stdout",
     "output_type": "stream",
     "text": [
      "Available color schemes:\n",
      "['blue_to_red', 'green_to_brown', 'white_to_blue', 'purple_to_yellow', 'red_to_blue_diverging', 'solid_black', 'blue_to_red_extended', 'light_to_strong_blue']\n"
     ]
    }
   ],
   "source": [
    "import sys\n",
    "sys.path.append('c:/Users/jonas/Desktop/Tu-Wien/Semester_4/Project/RemoteSensing-InterdisciplinaryProject/dynamic-flood-visualization/src')\n",
    "from color_schemes import get_color_scheme, list_available_schemes\n",
    "\n",
    "print(\"Available color schemes:\")\n",
    "schemes = list_available_schemes()\n",
    "print(schemes)"
   ]
  },
  {
   "cell_type": "code",
   "execution_count": 11,
   "metadata": {},
   "outputs": [
    {
     "name": "stdout",
     "output_type": "stream",
     "text": [
      "Visualizing band: reference_water_mask\n"
     ]
    },
    {
     "data": {
      "application/vnd.jupyter.widget-view+json": {
       "model_id": "e4e9692120b74343924e9f3987cffac8",
       "version_major": 2,
       "version_minor": 0
      },
      "text/plain": [
       "BokehModel(combine_events=True, render_bundle={'docs_json': {'07489aeb-b3f7-4eae-9157-9ecefbe9ba3c': {'version…"
      ]
     },
     "execution_count": 11,
     "metadata": {},
     "output_type": "execute_result"
    }
   ],
   "source": [
    "band_name = \"reference_water_mask\"\n",
    "print(f\"Visualizing band: {band_name}\")\n",
    "\n",
    "colors = get_color_scheme('blue_to_red')\n",
    "GFM_dc[band_name].hvplot.image(\n",
    "    x=\"x\", \n",
    "    y=\"y\", \n",
    "    title=f\"{band_name}\",\n",
    "    cmap=colors,\n",
    "    clim=(0, 100),\n",
    "    width=800,\n",
    "    height=600,\n",
    "    colorbar=True\n",
    ")"
   ]
  },
  {
   "cell_type": "code",
   "execution_count": 14,
   "metadata": {},
   "outputs": [
    {
     "name": "stdout",
     "output_type": "stream",
     "text": [
      "Visualizing band: tuw_flood_extent\n"
     ]
    },
    {
     "data": {
      "application/vnd.jupyter.widget-view+json": {
       "model_id": "4c8d2bc3720e48be8bb8c871a8d50883",
       "version_major": 2,
       "version_minor": 0
      },
      "text/plain": [
       "BokehModel(combine_events=True, render_bundle={'docs_json': {'3ece4311-7f0f-4b3a-818d-0f6388101a9a': {'version…"
      ]
     },
     "execution_count": 14,
     "metadata": {},
     "output_type": "execute_result"
    }
   ],
   "source": [
    "band_name = \"tuw_flood_extent\"\n",
    "print(f\"Visualizing band: {band_name}\")\n",
    "\n",
    "colors = get_color_scheme('green_to_brown')\n",
    "GFM_dc[band_name].hvplot.image(\n",
    "    x=\"x\", \n",
    "    y=\"y\", \n",
    "    title=f\"{band_name}\",\n",
    "    cmap=colors,\n",
    "    clim=(0, 100),\n",
    "    width=800,\n",
    "    height=600,\n",
    "    colorbar=True\n",
    ")"
   ]
  },
  {
   "cell_type": "code",
   "execution_count": 15,
   "metadata": {},
   "outputs": [
    {
     "name": "stdout",
     "output_type": "stream",
     "text": [
      "Visualizing band: tuw_flood_extent\n"
     ]
    },
    {
     "data": {
      "application/vnd.jupyter.widget-view+json": {
       "model_id": "647101d6bff24332a8f03b95b20fb5f8",
       "version_major": 2,
       "version_minor": 0
      },
      "text/plain": [
       "BokehModel(combine_events=True, render_bundle={'docs_json': {'df08f81a-aab3-4a20-857b-6e3bde82d1b0': {'version…"
      ]
     },
     "execution_count": 15,
     "metadata": {},
     "output_type": "execute_result"
    }
   ],
   "source": [
    "band_name = \"tuw_flood_extent\"\n",
    "print(f\"Visualizing band: {band_name}\")\n",
    "\n",
    "colors = get_color_scheme('white_to_blue')\n",
    "GFM_dc[band_name].hvplot.image(\n",
    "    x=\"x\", \n",
    "    y=\"y\", \n",
    "    title=f\"{band_name}\",\n",
    "    cmap=colors,\n",
    "    clim=(0, 100),\n",
    "    width=800,\n",
    "    height=600,\n",
    "    colorbar=True\n",
    ")"
   ]
  },
  {
   "cell_type": "code",
   "execution_count": 16,
   "metadata": {},
   "outputs": [
    {
     "name": "stdout",
     "output_type": "stream",
     "text": [
      "Visualizing band: tuw_flood_extent\n"
     ]
    },
    {
     "data": {
      "application/vnd.jupyter.widget-view+json": {
       "model_id": "773b75c98b2149a58e80d6fbec70ce02",
       "version_major": 2,
       "version_minor": 0
      },
      "text/plain": [
       "BokehModel(combine_events=True, render_bundle={'docs_json': {'05a288fb-e901-4454-9ab0-9cbd39dd0c66': {'version…"
      ]
     },
     "execution_count": 16,
     "metadata": {},
     "output_type": "execute_result"
    }
   ],
   "source": [
    "band_name = \"tuw_flood_extent\"\n",
    "print(f\"Visualizing band: {band_name}\")\n",
    "\n",
    "colors = get_color_scheme('purple_to_yellow')\n",
    "GFM_dc[band_name].hvplot.image(\n",
    "    x=\"x\", \n",
    "    y=\"y\", \n",
    "    title=f\"{band_name}\",\n",
    "    cmap=colors,\n",
    "    clim=(0, 100),\n",
    "    width=800,\n",
    "    height=600,\n",
    "    colorbar=True\n",
    ")"
   ]
  },
  {
   "cell_type": "code",
   "execution_count": 17,
   "metadata": {},
   "outputs": [
    {
     "name": "stdout",
     "output_type": "stream",
     "text": [
      "Visualizing band: tuw_flood_extent\n"
     ]
    },
    {
     "data": {
      "application/vnd.jupyter.widget-view+json": {
       "model_id": "bd80208185a44e4bb56b53e78b538799",
       "version_major": 2,
       "version_minor": 0
      },
      "text/plain": [
       "BokehModel(combine_events=True, render_bundle={'docs_json': {'9c9fb3dd-b712-4e38-958c-20c3e25eac8a': {'version…"
      ]
     },
     "execution_count": 17,
     "metadata": {},
     "output_type": "execute_result"
    }
   ],
   "source": [
    "band_name = \"tuw_flood_extent\"\n",
    "print(f\"Visualizing band: {band_name}\")\n",
    "\n",
    "colors = get_color_scheme('red_to_blue_diverging')\n",
    "GFM_dc[band_name].hvplot.image(\n",
    "    x=\"x\", \n",
    "    y=\"y\", \n",
    "    title=f\"{band_name}\",\n",
    "    cmap=colors,\n",
    "    clim=(0, 100),\n",
    "    width=800,\n",
    "    height=600,\n",
    "    colorbar=True\n",
    ")"
   ]
  },
  {
   "cell_type": "code",
   "execution_count": 18,
   "metadata": {},
   "outputs": [
    {
     "name": "stdout",
     "output_type": "stream",
     "text": [
      "Visualizing band: tuw_flood_extent\n"
     ]
    },
    {
     "data": {
      "application/vnd.jupyter.widget-view+json": {
       "model_id": "aef2ae31b20c4a328e0bc0b5ae541f0e",
       "version_major": 2,
       "version_minor": 0
      },
      "text/plain": [
       "BokehModel(combine_events=True, render_bundle={'docs_json': {'96cdd7d2-b2e3-4beb-862a-fdaba2ea7813': {'version…"
      ]
     },
     "execution_count": 18,
     "metadata": {},
     "output_type": "execute_result"
    }
   ],
   "source": [
    "band_name = \"tuw_flood_extent\"\n",
    "print(f\"Visualizing band: {band_name}\")\n",
    "\n",
    "colors = get_color_scheme('solid_black')\n",
    "GFM_dc[band_name].hvplot.image(\n",
    "    x=\"x\", \n",
    "    y=\"y\", \n",
    "    title=f\"{band_name}\",\n",
    "    cmap=colors,\n",
    "    clim=(0, 100),\n",
    "    width=800,\n",
    "    height=600,\n",
    "    colorbar=True\n",
    ")"
   ]
  },
  {
   "cell_type": "code",
   "execution_count": 19,
   "metadata": {},
   "outputs": [
    {
     "name": "stdout",
     "output_type": "stream",
     "text": [
      "Visualizing band: tuw_flood_extent\n"
     ]
    },
    {
     "data": {
      "application/vnd.jupyter.widget-view+json": {
       "model_id": "595a821062534a60a2672ce2d735e496",
       "version_major": 2,
       "version_minor": 0
      },
      "text/plain": [
       "BokehModel(combine_events=True, render_bundle={'docs_json': {'eb8ea1ae-665f-44b9-a5b1-2441eee3ef8a': {'version…"
      ]
     },
     "execution_count": 19,
     "metadata": {},
     "output_type": "execute_result"
    }
   ],
   "source": [
    "band_name = \"tuw_flood_extent\"\n",
    "print(f\"Visualizing band: {band_name}\")\n",
    "\n",
    "colors = get_color_scheme('blue_to_red_extended')\n",
    "GFM_dc[band_name].hvplot.image(\n",
    "    x=\"x\", \n",
    "    y=\"y\", \n",
    "    title=f\"{band_name}\",\n",
    "    cmap=colors,\n",
    "    clim=(0, 100),\n",
    "    width=800,\n",
    "    height=600,\n",
    "    colorbar=True\n",
    ")"
   ]
  },
  {
   "cell_type": "code",
   "execution_count": 36,
   "metadata": {},
   "outputs": [
    {
     "name": "stdout",
     "output_type": "stream",
     "text": [
      "Visualizing band: tuw_likelihood\n"
     ]
    },
    {
     "data": {
      "application/vnd.jupyter.widget-view+json": {
       "model_id": "89b83713749b445ba651310540359acb",
       "version_major": 2,
       "version_minor": 0
      },
      "text/plain": [
       "BokehModel(combine_events=True, render_bundle={'docs_json': {'cea1b7b3-6a2c-442f-8d3c-a77bf3188e2d': {'version…"
      ]
     },
     "execution_count": 36,
     "metadata": {},
     "output_type": "execute_result"
    }
   ],
   "source": [
    "band_name = \"\"\n",
    "print(f\"Visualizing band: {band_name}\")\n",
    "\n",
    "colors = get_color_scheme('light_to_strong_blue')\n",
    "GFM_dc[band_name].hvplot.image(\n",
    "    x=\"x\", \n",
    "    y=\"y\", \n",
    "    title=f\"{band_name}\",\n",
    "    cmap=colors,\n",
    "    clim=(0, 100),\n",
    "    width=800,\n",
    "    height=600,\n",
    "    colorbar=True,\n",
    "    #geo=True\n",
    ")"
   ]
  },
  {
   "cell_type": "markdown",
   "metadata": {},
   "source": [
    "## Test combinations of output measure of algorithms"
   ]
  },
  {
   "cell_type": "code",
   "execution_count": 21,
   "metadata": {},
   "outputs": [
    {
     "name": "stdout",
     "output_type": "stream",
     "text": [
      "Algorithm categorization:\n",
      "TUW: ['tuw_likelihood', 'tuw_flood_extent']\n",
      "Ensemble: ['ensemble_likelihood', 'ensemble_flood_extent', 'ensemble_water_extent']\n",
      "DLR: ['dlr_likelihood', 'dlr_flood_extent']\n",
      "LIS: ['list_likelihood', 'list_flood_extent']\n",
      "Other: ['advisory_flags', 'exclusion_mask', 'reference_water_mask']\n"
     ]
    }
   ],
   "source": [
    "# Categorize bands by algorithm\n",
    "def categorize_algorithm_bands(data_cube):\n",
    "    \"\"\"Categorize bands by algorithm type\"\"\"\n",
    "    algorithms = {\n",
    "        'TUW': [],\n",
    "        'Ensemble': [],\n",
    "        'DLR': [],\n",
    "        'LIS': [],\n",
    "        'Other': []\n",
    "    }\n",
    "    \n",
    "    for band in data_cube.data_vars:\n",
    "        band_lower = band.lower()\n",
    "        if 'tuw' in band_lower:\n",
    "            algorithms['TUW'].append(band)\n",
    "        elif 'ensemble' in band_lower:\n",
    "            algorithms['Ensemble'].append(band)\n",
    "        elif 'dlr' in band_lower:\n",
    "            algorithms['DLR'].append(band)\n",
    "        elif 'lis' in band_lower:\n",
    "            algorithms['LIS'].append(band)\n",
    "        else:\n",
    "            algorithms['Other'].append(band)\n",
    "    \n",
    "    return algorithms\n",
    "\n",
    "# Categorize available bands\n",
    "algorithm_bands = categorize_algorithm_bands(GFM_dc)\n",
    "\n",
    "print(\"Algorithm categorization:\")\n",
    "for alg, bands in algorithm_bands.items():\n",
    "    if bands:\n",
    "        print(f\"{alg}: {bands}\")"
   ]
  },
  {
   "cell_type": "markdown",
   "metadata": {},
   "source": [
    "## TUW Algorithm"
   ]
  },
  {
   "cell_type": "code",
   "execution_count": 22,
   "metadata": {},
   "outputs": [
    {
     "data": {
      "application/vnd.jupyter.widget-view+json": {
       "model_id": "da490b79b77e45f99176b47df6864b27",
       "version_major": 2,
       "version_minor": 0
      },
      "text/plain": [
       "BokehModel(combine_events=True, render_bundle={'docs_json': {'d1dc5dde-394b-4f7a-a3d7-0d1ae9123a85': {'version…"
      ]
     },
     "metadata": {},
     "output_type": "display_data"
    }
   ],
   "source": [
    "# Algorithm Output Comparison\n",
    "def plot_algorithm_bands(algorithm_bands, data_cube, algorithm_name):\n",
    "    \"\"\"Create plots for a specific algorithm's bands\"\"\"\n",
    "    if not algorithm_bands:\n",
    "        return None\n",
    "    \n",
    "    plots = [GFM_dc[band].hvplot.image(x=\"x\", y=\"y\", title=f\"{algorithm_name}: {band}\", \n",
    "                                       width=350, height=250) for band in algorithm_bands]\n",
    "    \n",
    "    if len(plots) == 1:\n",
    "        return plots[0]\n",
    "    elif len(plots) == 2:\n",
    "        return (plots[0] + plots[1]).cols(2)\n",
    "    else:\n",
    "        return sum(plots[1:], plots[0]).cols(2)\n",
    "\n",
    "display(plot_algorithm_bands(algorithm_bands['TUW'], GFM_dc, 'TUW'))"
   ]
  },
  {
   "cell_type": "markdown",
   "metadata": {},
   "source": [
    "## Ensemble Algorithm"
   ]
  },
  {
   "cell_type": "code",
   "execution_count": 23,
   "metadata": {},
   "outputs": [
    {
     "data": {
      "application/vnd.jupyter.widget-view+json": {
       "model_id": "1ccd449890ac44178dd5257f1b6f9521",
       "version_major": 2,
       "version_minor": 0
      },
      "text/plain": [
       "BokehModel(combine_events=True, render_bundle={'docs_json': {'a49e7ec5-09ef-43a4-8146-abc07baab369': {'version…"
      ]
     },
     "metadata": {},
     "output_type": "display_data"
    }
   ],
   "source": [
    "display(plot_algorithm_bands(algorithm_bands['Ensemble'], GFM_dc, 'Ensemble'))"
   ]
  },
  {
   "cell_type": "markdown",
   "metadata": {},
   "source": [
    "## DLR Algorithm"
   ]
  },
  {
   "cell_type": "code",
   "execution_count": 24,
   "metadata": {},
   "outputs": [
    {
     "data": {
      "application/vnd.jupyter.widget-view+json": {
       "model_id": "ba3ffa26996840028cd15183ad35cde4",
       "version_major": 2,
       "version_minor": 0
      },
      "text/plain": [
       "BokehModel(combine_events=True, render_bundle={'docs_json': {'70ae2df0-e858-4768-95fe-172b7b429520': {'version…"
      ]
     },
     "metadata": {},
     "output_type": "display_data"
    }
   ],
   "source": [
    "display(plot_algorithm_bands(algorithm_bands['DLR'], GFM_dc, 'DLR'))"
   ]
  },
  {
   "cell_type": "markdown",
   "metadata": {},
   "source": [
    "## Likelihood Comparison"
   ]
  },
  {
   "cell_type": "code",
   "execution_count": 25,
   "metadata": {},
   "outputs": [
    {
     "data": {
      "application/vnd.jupyter.widget-view+json": {
       "model_id": "ef5beaaa05f347199e7b6ec755eb568b",
       "version_major": 2,
       "version_minor": 0
      },
      "text/plain": [
       "BokehModel(combine_events=True, render_bundle={'docs_json': {'b3cad3f6-5b67-425b-bc0f-e85b9c0ad268': {'version…"
      ]
     },
     "metadata": {},
     "output_type": "display_data"
    }
   ],
   "source": [
    "likelihood_bands = [(alg, band) for alg, bands in algorithm_bands.items() \n",
    "                    for band in bands if 'likelihood' in band.lower()]\n",
    "\n",
    "likelihood_plots = [GFM_dc[band].hvplot.image(x=\"x\", y=\"y\", title=f\"{alg}: {band}\", \n",
    "                                               width=300, height=220) \n",
    "                    for alg, band in likelihood_bands]\n",
    "\n",
    "if likelihood_plots:\n",
    "    display(sum(likelihood_plots[1:], likelihood_plots[0]).cols(2))"
   ]
  },
  {
   "cell_type": "markdown",
   "metadata": {},
   "source": [
    "## Water Extent Comparison"
   ]
  },
  {
   "cell_type": "code",
   "execution_count": 26,
   "metadata": {},
   "outputs": [
    {
     "data": {
      "application/vnd.jupyter.widget-view+json": {
       "model_id": "91abcb34b2d5492a97c6d7f91eff15c9",
       "version_major": 2,
       "version_minor": 0
      },
      "text/plain": [
       "BokehModel(combine_events=True, render_bundle={'docs_json': {'a07cdec2-7bbf-4c29-b19d-9fa5b171d6c0': {'version…"
      ]
     },
     "metadata": {},
     "output_type": "display_data"
    }
   ],
   "source": [
    "water_bands = [(alg, band) for alg, bands in algorithm_bands.items() \n",
    "               for band in bands if 'water_extent' in band.lower()]\n",
    "\n",
    "water_plots = [GFM_dc[band].hvplot.image(x=\"x\", y=\"y\", title=f\"{alg}: {band}\", \n",
    "                                          width=300, height=220) \n",
    "               for alg, band in water_bands]\n",
    "\n",
    "if water_plots:\n",
    "    display(sum(water_plots[1:], water_plots[0]))"
   ]
  },
  {
   "cell_type": "markdown",
   "metadata": {},
   "source": [
    "## All Algorithm Matrix"
   ]
  },
  {
   "cell_type": "code",
   "execution_count": 27,
   "metadata": {},
   "outputs": [
    {
     "data": {
      "application/vnd.jupyter.widget-view+json": {
       "model_id": "ae42d03eb3484530aa1b832e68f03036",
       "version_major": 2,
       "version_minor": 0
      },
      "text/plain": [
       "BokehModel(combine_events=True, render_bundle={'docs_json': {'66566eeb-8a74-4a06-9a3c-34741a5894fe': {'version…"
      ]
     },
     "metadata": {},
     "output_type": "display_data"
    }
   ],
   "source": [
    "all_algorithm_plots = [GFM_dc[band].hvplot.image(x=\"x\", y=\"y\", title=f\"{alg}: {band}\", \n",
    "                                                  width=250, height=180)\n",
    "                      for alg, bands in algorithm_bands.items() if alg != 'Other'\n",
    "                      for band in bands[:2]]\n",
    "\n",
    "if all_algorithm_plots:\n",
    "    display(sum(all_algorithm_plots[1:6], all_algorithm_plots[0]).cols(3))"
   ]
  },
  {
   "cell_type": "markdown",
   "metadata": {},
   "source": [
    "## Statistical Summary"
   ]
  },
  {
   "cell_type": "code",
   "execution_count": 28,
   "metadata": {},
   "outputs": [
    {
     "name": "stdout",
     "output_type": "stream",
     "text": [
      "   Algorithm                   Band   Mean    Std  Min    Max  Non-zero %\n",
      "0        TUW         tuw_likelihood   7.61  11.71  0.0   40.0       98.69\n",
      "1        TUW       tuw_flood_extent   0.00   0.07  0.0    1.0       97.17\n",
      "2   Ensemble    ensemble_likelihood   9.49   8.13  0.0  100.0       80.43\n",
      "3   Ensemble  ensemble_flood_extent   0.00   0.07  0.0    1.0        0.48\n",
      "4   Ensemble  ensemble_water_extent   0.69   0.46  0.0    1.0       68.86\n",
      "5        DLR         dlr_likelihood  50.42  27.09  0.0  100.0       95.53\n",
      "6        DLR       dlr_flood_extent   0.00   0.06  0.0    1.0        0.35\n",
      "7        LIS        list_likelihood   1.33   8.67  0.0   99.0       13.12\n",
      "8        LIS      list_flood_extent   0.01   0.08  0.0    1.0        0.67\n",
      "9      Other         advisory_flags   0.00   0.00  0.0    0.0        0.00\n",
      "10     Other         exclusion_mask   0.10   0.30  0.0    1.0       10.11\n",
      "11     Other   reference_water_mask   0.69   0.46  0.0    2.0       68.61\n"
     ]
    }
   ],
   "source": [
    "stats_data = []\n",
    "for alg, bands in algorithm_bands.items():\n",
    "    for band in bands:\n",
    "        if band in GFM_dc.data_vars:\n",
    "            data = GFM_dc[band].values\n",
    "            valid_data = data[data != 255]\n",
    "            if len(valid_data) > 0:\n",
    "                stats_data.append({\n",
    "                    'Algorithm': alg, 'Band': band, 'Mean': np.nanmean(valid_data),\n",
    "                    'Std': np.nanstd(valid_data), 'Min': np.nanmin(valid_data),\n",
    "                    'Max': np.nanmax(valid_data), \n",
    "                    'Non-zero %': (np.count_nonzero(valid_data) / len(valid_data)) * 100\n",
    "                })\n",
    "\n",
    "import pandas as pd\n",
    "if stats_data:\n",
    "    print(pd.DataFrame(stats_data).round(2))"
   ]
  },
  {
   "cell_type": "markdown",
   "metadata": {},
   "source": [
    "## Two-Algorithm Comparison"
   ]
  },
  {
   "cell_type": "code",
   "execution_count": 29,
   "metadata": {},
   "outputs": [
    {
     "name": "stdout",
     "output_type": "stream",
     "text": [
      "=== TUW vs Ensemble Comparison ===\n"
     ]
    },
    {
     "data": {
      "application/vnd.jupyter.widget-view+json": {
       "model_id": "ab1a9ef1d472462b8a784b970242a0d3",
       "version_major": 2,
       "version_minor": 0
      },
      "text/plain": [
       "BokehModel(combine_events=True, render_bundle={'docs_json': {'35db3541-374c-45cd-96ba-ec13aad66f54': {'version…"
      ]
     },
     "metadata": {},
     "output_type": "display_data"
    },
    {
     "data": {
      "application/vnd.jupyter.widget-view+json": {
       "model_id": "e7a325648e2a4762a5e82103ff66b5e5",
       "version_major": 2,
       "version_minor": 0
      },
      "text/plain": [
       "BokehModel(combine_events=True, render_bundle={'docs_json': {'b2e28b0d-192d-4807-a667-69ac4486fe84': {'version…"
      ]
     },
     "metadata": {},
     "output_type": "display_data"
    },
    {
     "data": {
      "application/vnd.jupyter.widget-view+json": {
       "model_id": "e38f60da68554caab64dee5f2f86b99c",
       "version_major": 2,
       "version_minor": 0
      },
      "text/plain": [
       "BokehModel(combine_events=True, render_bundle={'docs_json': {'cdc31df0-7d40-46b4-a7d0-70b7f9c1f585': {'version…"
      ]
     },
     "metadata": {},
     "output_type": "display_data"
    },
    {
     "name": "stdout",
     "output_type": "stream",
     "text": [
      "=== TUW vs DLR Comparison ===\n"
     ]
    },
    {
     "data": {
      "application/vnd.jupyter.widget-view+json": {
       "model_id": "9b4d566205474a53853dfd6cde3763e0",
       "version_major": 2,
       "version_minor": 0
      },
      "text/plain": [
       "BokehModel(combine_events=True, render_bundle={'docs_json': {'7076704e-2161-45c5-a7f2-fcfd59bdb1bc': {'version…"
      ]
     },
     "metadata": {},
     "output_type": "display_data"
    },
    {
     "data": {
      "application/vnd.jupyter.widget-view+json": {
       "model_id": "baf9864251aa44899d2b401486544910",
       "version_major": 2,
       "version_minor": 0
      },
      "text/plain": [
       "BokehModel(combine_events=True, render_bundle={'docs_json': {'88cd7a07-da9a-401b-a596-945518d0421e': {'version…"
      ]
     },
     "metadata": {},
     "output_type": "display_data"
    },
    {
     "name": "stdout",
     "output_type": "stream",
     "text": [
      "=== Ensemble vs DLR Comparison ===\n"
     ]
    },
    {
     "data": {
      "application/vnd.jupyter.widget-view+json": {
       "model_id": "c5393d560624419380f4f04a130dde07",
       "version_major": 2,
       "version_minor": 0
      },
      "text/plain": [
       "BokehModel(combine_events=True, render_bundle={'docs_json': {'0909d59f-541f-4611-92f9-490361b71c69': {'version…"
      ]
     },
     "metadata": {},
     "output_type": "display_data"
    },
    {
     "data": {
      "application/vnd.jupyter.widget-view+json": {
       "model_id": "95dae30895e4463384e80dd16efc0985",
       "version_major": 2,
       "version_minor": 0
      },
      "text/plain": [
       "BokehModel(combine_events=True, render_bundle={'docs_json': {'5ec9a9e4-8f2d-495f-b73c-1302e3092ba0': {'version…"
      ]
     },
     "metadata": {},
     "output_type": "display_data"
    },
    {
     "data": {
      "application/vnd.jupyter.widget-view+json": {
       "model_id": "fc4818a3273f46c199bd9e5ee889e1e7",
       "version_major": 2,
       "version_minor": 0
      },
      "text/plain": [
       "BokehModel(combine_events=True, render_bundle={'docs_json': {'d88f1ce8-3da6-4b77-9a9f-db5c3cfcca46': {'version…"
      ]
     },
     "metadata": {},
     "output_type": "display_data"
    }
   ],
   "source": [
    "def plot_algorithm_pair_comparison(algorithm_bands, data_cube, alg1_name, alg2_name):\n",
    "    \"\"\"Create side-by-side comparison plots for two algorithms\"\"\"\n",
    "    alg1_bands = algorithm_bands.get(alg1_name, [])\n",
    "    alg2_bands = algorithm_bands.get(alg2_name, [])\n",
    "    \n",
    "    if not alg1_bands or not alg2_bands:\n",
    "        print(f\"One or both algorithms have no available bands: {alg1_name}: {len(alg1_bands)}, {alg2_name}: {len(alg2_bands)}\")\n",
    "        return None\n",
    "    \n",
    "    comparison_plots = []\n",
    "    \n",
    "    for band1 in alg1_bands:\n",
    "        for band2 in alg2_bands:\n",
    "            # Check if bands are of similar type\n",
    "            band1_type = band1.lower().split('_')[-1] if '_' in band1 else band1.lower()\n",
    "            band2_type = band2.lower().split('_')[-1] if '_' in band2 else band2.lower()\n",
    "            \n",
    "            if band1_type == band2_type or 'likelihood' in band1.lower() and 'likelihood' in band2.lower():\n",
    "                plot1 = data_cube[band1].hvplot.image(x=\"x\", y=\"y\", \n",
    "                                                      title=f\"{alg1_name}: {band1}\", \n",
    "                                                      width=350, height=250)\n",
    "                plot2 = data_cube[band2].hvplot.image(x=\"x\", y=\"y\", \n",
    "                                                      title=f\"{alg2_name}: {band2}\", \n",
    "                                                      width=350, height=250)\n",
    "                comparison_plots.append((plot1 + plot2).cols(2))\n",
    "    \n",
    "    return comparison_plots\n",
    "\n",
    "# Display TUW vs Ensemble comparison\n",
    "print(\"=== TUW vs Ensemble Comparison ===\")\n",
    "tuw_ensemble_comparison = plot_algorithm_pair_comparison(algorithm_bands, GFM_dc, 'TUW', 'Ensemble')\n",
    "if tuw_ensemble_comparison:\n",
    "    for comparison in tuw_ensemble_comparison:\n",
    "        display(comparison)\n",
    "\n",
    "# Display TUW vs DLR comparison\n",
    "print(\"=== TUW vs DLR Comparison ===\")\n",
    "tuw_dlr_comparison = plot_algorithm_pair_comparison(algorithm_bands, GFM_dc, 'TUW', 'DLR')\n",
    "if tuw_dlr_comparison:\n",
    "    for comparison in tuw_dlr_comparison:\n",
    "        display(comparison)\n",
    "\n",
    "# Display Ensemble vs DLR comparison\n",
    "print(\"=== Ensemble vs DLR Comparison ===\")\n",
    "ensemble_dlr_comparison = plot_algorithm_pair_comparison(algorithm_bands, GFM_dc, 'Ensemble', 'DLR')\n",
    "if ensemble_dlr_comparison:\n",
    "    for comparison in ensemble_dlr_comparison:\n",
    "        display(comparison)"
   ]
  },
  {
   "cell_type": "code",
   "execution_count": 30,
   "metadata": {},
   "outputs": [
    {
     "name": "stdout",
     "output_type": "stream",
     "text": [
      "=== Algorithm Weighted Comparison Examples ===\n",
      "Equal weights (0.5 each):\n"
     ]
    },
    {
     "name": "stderr",
     "output_type": "stream",
     "text": [
      "c:\\Users\\jonas\\anaconda3\\envs\\earth_oberservations\\Lib\\site-packages\\distributed\\client.py:3245: UserWarning: Sending large graph of size 623.68 MiB.\n",
      "This may cause some slowdown.\n",
      "Consider scattering data ahead of time and using futures.\n",
      "  warnings.warn(\n",
      "c:\\Users\\jonas\\anaconda3\\envs\\earth_oberservations\\Lib\\site-packages\\distributed\\client.py:3245: UserWarning: Sending large graph of size 623.68 MiB.\n",
      "This may cause some slowdown.\n",
      "Consider scattering data ahead of time and using futures.\n",
      "  warnings.warn(\n",
      "c:\\Users\\jonas\\anaconda3\\envs\\earth_oberservations\\Lib\\site-packages\\distributed\\client.py:3245: UserWarning: Sending large graph of size 623.68 MiB.\n",
      "This may cause some slowdown.\n",
      "Consider scattering data ahead of time and using futures.\n",
      "  warnings.warn(\n",
      "c:\\Users\\jonas\\anaconda3\\envs\\earth_oberservations\\Lib\\site-packages\\distributed\\client.py:3245: UserWarning: Sending large graph of size 623.68 MiB.\n",
      "This may cause some slowdown.\n",
      "Consider scattering data ahead of time and using futures.\n",
      "  warnings.warn(\n",
      "c:\\Users\\jonas\\anaconda3\\envs\\earth_oberservations\\Lib\\site-packages\\distributed\\client.py:3245: UserWarning: Sending large graph of size 623.68 MiB.\n",
      "This may cause some slowdown.\n",
      "Consider scattering data ahead of time and using futures.\n",
      "  warnings.warn(\n",
      "c:\\Users\\jonas\\anaconda3\\envs\\earth_oberservations\\Lib\\site-packages\\distributed\\client.py:3245: UserWarning: Sending large graph of size 623.68 MiB.\n",
      "This may cause some slowdown.\n",
      "Consider scattering data ahead of time and using futures.\n",
      "  warnings.warn(\n"
     ]
    },
    {
     "data": {
      "application/vnd.jupyter.widget-view+json": {
       "model_id": "1eca409828b140d89d3967e9dabdcc27",
       "version_major": 2,
       "version_minor": 0
      },
      "text/plain": [
       "BokehModel(combine_events=True, render_bundle={'docs_json': {'98f06e6b-9b20-4aa5-8064-bf26bde7c904': {'version…"
      ]
     },
     "metadata": {},
     "output_type": "display_data"
    },
    {
     "name": "stdout",
     "output_type": "stream",
     "text": [
      "TUW dominant (0.7 vs 0.3):\n"
     ]
    },
    {
     "name": "stderr",
     "output_type": "stream",
     "text": [
      "c:\\Users\\jonas\\anaconda3\\envs\\earth_oberservations\\Lib\\site-packages\\distributed\\client.py:3245: UserWarning: Sending large graph of size 623.68 MiB.\n",
      "This may cause some slowdown.\n",
      "Consider scattering data ahead of time and using futures.\n",
      "  warnings.warn(\n",
      "c:\\Users\\jonas\\anaconda3\\envs\\earth_oberservations\\Lib\\site-packages\\distributed\\client.py:3245: UserWarning: Sending large graph of size 623.68 MiB.\n",
      "This may cause some slowdown.\n",
      "Consider scattering data ahead of time and using futures.\n",
      "  warnings.warn(\n",
      "c:\\Users\\jonas\\anaconda3\\envs\\earth_oberservations\\Lib\\site-packages\\distributed\\client.py:3245: UserWarning: Sending large graph of size 623.68 MiB.\n",
      "This may cause some slowdown.\n",
      "Consider scattering data ahead of time and using futures.\n",
      "  warnings.warn(\n",
      "c:\\Users\\jonas\\anaconda3\\envs\\earth_oberservations\\Lib\\site-packages\\distributed\\client.py:3245: UserWarning: Sending large graph of size 623.68 MiB.\n",
      "This may cause some slowdown.\n",
      "Consider scattering data ahead of time and using futures.\n",
      "  warnings.warn(\n",
      "c:\\Users\\jonas\\anaconda3\\envs\\earth_oberservations\\Lib\\site-packages\\distributed\\client.py:3245: UserWarning: Sending large graph of size 623.68 MiB.\n",
      "This may cause some slowdown.\n",
      "Consider scattering data ahead of time and using futures.\n",
      "  warnings.warn(\n",
      "c:\\Users\\jonas\\anaconda3\\envs\\earth_oberservations\\Lib\\site-packages\\distributed\\client.py:3245: UserWarning: Sending large graph of size 623.68 MiB.\n",
      "This may cause some slowdown.\n",
      "Consider scattering data ahead of time and using futures.\n",
      "  warnings.warn(\n"
     ]
    },
    {
     "data": {
      "application/vnd.jupyter.widget-view+json": {
       "model_id": "4335eb70179343f2beacf01783fee296",
       "version_major": 2,
       "version_minor": 0
      },
      "text/plain": [
       "BokehModel(combine_events=True, render_bundle={'docs_json': {'97fd4ed4-f247-406b-ac10-449e20f6b624': {'version…"
      ]
     },
     "metadata": {},
     "output_type": "display_data"
    },
    {
     "name": "stdout",
     "output_type": "stream",
     "text": [
      "Ensemble dominant (0.3 vs 0.7):\n"
     ]
    },
    {
     "name": "stderr",
     "output_type": "stream",
     "text": [
      "c:\\Users\\jonas\\anaconda3\\envs\\earth_oberservations\\Lib\\site-packages\\distributed\\client.py:3245: UserWarning: Sending large graph of size 623.68 MiB.\n",
      "This may cause some slowdown.\n",
      "Consider scattering data ahead of time and using futures.\n",
      "  warnings.warn(\n",
      "c:\\Users\\jonas\\anaconda3\\envs\\earth_oberservations\\Lib\\site-packages\\distributed\\client.py:3245: UserWarning: Sending large graph of size 623.68 MiB.\n",
      "This may cause some slowdown.\n",
      "Consider scattering data ahead of time and using futures.\n",
      "  warnings.warn(\n",
      "c:\\Users\\jonas\\anaconda3\\envs\\earth_oberservations\\Lib\\site-packages\\distributed\\client.py:3245: UserWarning: Sending large graph of size 623.68 MiB.\n",
      "This may cause some slowdown.\n",
      "Consider scattering data ahead of time and using futures.\n",
      "  warnings.warn(\n",
      "c:\\Users\\jonas\\anaconda3\\envs\\earth_oberservations\\Lib\\site-packages\\distributed\\client.py:3245: UserWarning: Sending large graph of size 623.68 MiB.\n",
      "This may cause some slowdown.\n",
      "Consider scattering data ahead of time and using futures.\n",
      "  warnings.warn(\n",
      "c:\\Users\\jonas\\anaconda3\\envs\\earth_oberservations\\Lib\\site-packages\\distributed\\client.py:3245: UserWarning: Sending large graph of size 623.68 MiB.\n",
      "This may cause some slowdown.\n",
      "Consider scattering data ahead of time and using futures.\n",
      "  warnings.warn(\n",
      "c:\\Users\\jonas\\anaconda3\\envs\\earth_oberservations\\Lib\\site-packages\\distributed\\client.py:3245: UserWarning: Sending large graph of size 623.68 MiB.\n",
      "This may cause some slowdown.\n",
      "Consider scattering data ahead of time and using futures.\n",
      "  warnings.warn(\n"
     ]
    },
    {
     "data": {
      "application/vnd.jupyter.widget-view+json": {
       "model_id": "803c4d05f2264c5e9a421d0743377906",
       "version_major": 2,
       "version_minor": 0
      },
      "text/plain": [
       "BokehModel(combine_events=True, render_bundle={'docs_json': {'b6b8cd26-f603-468d-a079-407e0b69820e': {'version…"
      ]
     },
     "metadata": {},
     "output_type": "display_data"
    }
   ],
   "source": [
    "def plot_algorithm_weighted_comparison(algorithm_bands, data_cube, alg1_name, alg2_name, \n",
    "                                     weight_alg1=0.5, weight_alg2=0.5, band_type='likelihood'):\n",
    "    \"\"\"\n",
    "    Display two algorithms and their weighted combination in one row\n",
    "    \n",
    "    Parameters:\n",
    "    - algorithm_bands: dict of algorithm bands\n",
    "    - data_cube: xarray dataset\n",
    "    - alg1_name: name of first algorithm\n",
    "    - alg2_name: name of second algorithm  \n",
    "    - weight_alg1: weight for first algorithm (0-1)\n",
    "    - weight_alg2: weight for second algorithm (0-1)\n",
    "    - band_type: type of band to compare ('likelihood', 'extent', 'water_extent')\n",
    "    \"\"\"\n",
    "    \n",
    "    # Get bands for each algorithm\n",
    "    alg1_bands = algorithm_bands.get(alg1_name, [])\n",
    "    alg2_bands = algorithm_bands.get(alg2_name, [])\n",
    "    \n",
    "    if not alg1_bands or not alg2_bands:\n",
    "        print(f\"One or both algorithms have no available bands: {alg1_name}: {len(alg1_bands)}, {alg2_name}: {len(alg2_bands)}\")\n",
    "        return None\n",
    "    \n",
    "    # Find matching band type\n",
    "    alg1_band = None\n",
    "    alg2_band = None\n",
    "    \n",
    "    for band in alg1_bands:\n",
    "        if band_type in band.lower():\n",
    "            alg1_band = band\n",
    "            break\n",
    "    \n",
    "    for band in alg2_bands:\n",
    "        if band_type in band.lower():\n",
    "            alg2_band = band\n",
    "            break\n",
    "    \n",
    "    if not alg1_band or not alg2_band:\n",
    "        print(f\"Could not find matching '{band_type}' bands for both algorithms\")\n",
    "        print(f\"{alg1_name} bands: {alg1_bands}\")\n",
    "        print(f\"{alg2_name} bands: {alg2_bands}\")\n",
    "        return None\n",
    "    \n",
    "    # Normalize weights\n",
    "    total_weight = weight_alg1 + weight_alg2\n",
    "    if total_weight > 0:\n",
    "        weight_alg1 = weight_alg1 / total_weight\n",
    "        weight_alg2 = weight_alg2 / total_weight\n",
    "    else:\n",
    "        weight_alg1 = weight_alg2 = 0.5\n",
    "    \n",
    "    # Create weighted combination\n",
    "    alg1_data = data_cube[alg1_band]\n",
    "    alg2_data = data_cube[alg2_band]\n",
    "    \n",
    "    # Handle NaN values and create combination\n",
    "    combined_data = (alg1_data * weight_alg1 + alg2_data * weight_alg2)\n",
    "    \n",
    "    # Create plots\n",
    "    plot1 = alg1_data.hvplot.image(\n",
    "        x=\"x\", y=\"y\", \n",
    "        title=f\"{alg1_name}: {alg1_band}\",\n",
    "        width=300, height=250\n",
    "    )\n",
    "    \n",
    "    plot2 = alg2_data.hvplot.image(\n",
    "        x=\"x\", y=\"y\",\n",
    "        title=f\"{alg2_name}: {alg2_band}\", \n",
    "        width=300, height=250\n",
    "    )\n",
    "    \n",
    "    plot_combined = combined_data.hvplot.image(\n",
    "        x=\"x\", y=\"y\",\n",
    "        title=f\"Combined: {weight_alg1:.1f}×{alg1_name} + {weight_alg2:.1f}×{alg2_name}\",\n",
    "        width=300, height=250\n",
    "    )\n",
    "    \n",
    "    # Display all three in one row\n",
    "    return (plot1 + plot2 + plot_combined).cols(3)\n",
    "\n",
    "# Example usage with different weight combinations\n",
    "print(\"=== Algorithm Weighted Comparison Examples ===\")\n",
    "\n",
    "# Equal weights (50-50)\n",
    "print(\"Equal weights (0.5 each):\")\n",
    "equal_weight_plot = plot_algorithm_weighted_comparison(\n",
    "    algorithm_bands, GFM_dc, 'TUW', 'Ensemble', \n",
    "    weight_alg1=0.5, weight_alg2=0.5, band_type='likelihood'\n",
    ")\n",
    "if equal_weight_plot:\n",
    "    display(equal_weight_plot)\n",
    "\n",
    "# TUW dominant (70-30)\n",
    "print(\"TUW dominant (0.7 vs 0.3):\")\n",
    "tuw_dominant_plot = plot_algorithm_weighted_comparison(\n",
    "    algorithm_bands, GFM_dc, 'TUW', 'Ensemble',\n",
    "    weight_alg1=0.7, weight_alg2=0.3, band_type='likelihood'\n",
    ")\n",
    "if tuw_dominant_plot:\n",
    "    display(tuw_dominant_plot)\n",
    "\n",
    "# Ensemble dominant (30-70)\n",
    "print(\"Ensemble dominant (0.3 vs 0.7):\")\n",
    "ensemble_dominant_plot = plot_algorithm_weighted_comparison(\n",
    "    algorithm_bands, GFM_dc, 'TUW', 'Ensemble',\n",
    "    weight_alg1=0.3, weight_alg2=0.7, band_type='likelihood'\n",
    ")\n",
    "if ensemble_dominant_plot:\n",
    "    display(ensemble_dominant_plot)"
   ]
  },
  {
   "cell_type": "markdown",
   "metadata": {},
   "source": [
    "# Old Plots"
   ]
  },
  {
   "cell_type": "code",
   "execution_count": 31,
   "metadata": {},
   "outputs": [
    {
     "name": "stdout",
     "output_type": "stream",
     "text": [
      "Visualizing band: tuw_flood_extent\n"
     ]
    },
    {
     "name": "stderr",
     "output_type": "stream",
     "text": [
      "WARNING:param.Image07508: Image dimension(s) x and y are not evenly sampled to relative tolerance of 0.001. Please use the QuadMesh element for irregularly sampled data or set a higher tolerance on hv.config.image_rtol or the rtol parameter in the Image constructor.\n"
     ]
    },
    {
     "ename": "ValueError",
     "evalue": "cannot convert float NaN to integer",
     "output_type": "error",
     "traceback": [
      "\u001b[31m---------------------------------------------------------------------------\u001b[39m",
      "\u001b[31mValueError\u001b[39m                                Traceback (most recent call last)",
      "\u001b[36mFile \u001b[39m\u001b[32mc:\\Users\\jonas\\anaconda3\\envs\\earth_oberservations\\Lib\\site-packages\\IPython\\core\\formatters.py:1036\u001b[39m, in \u001b[36mMimeBundleFormatter.__call__\u001b[39m\u001b[34m(self, obj, include, exclude)\u001b[39m\n\u001b[32m   1033\u001b[39m     method = get_real_method(obj, \u001b[38;5;28mself\u001b[39m.print_method)\n\u001b[32m   1035\u001b[39m     \u001b[38;5;28;01mif\u001b[39;00m method \u001b[38;5;129;01mis\u001b[39;00m \u001b[38;5;129;01mnot\u001b[39;00m \u001b[38;5;28;01mNone\u001b[39;00m:\n\u001b[32m-> \u001b[39m\u001b[32m1036\u001b[39m         \u001b[38;5;28;01mreturn\u001b[39;00m \u001b[43mmethod\u001b[49m\u001b[43m(\u001b[49m\u001b[43minclude\u001b[49m\u001b[43m=\u001b[49m\u001b[43minclude\u001b[49m\u001b[43m,\u001b[49m\u001b[43m \u001b[49m\u001b[43mexclude\u001b[49m\u001b[43m=\u001b[49m\u001b[43mexclude\u001b[49m\u001b[43m)\u001b[49m\n\u001b[32m   1037\u001b[39m     \u001b[38;5;28;01mreturn\u001b[39;00m \u001b[38;5;28;01mNone\u001b[39;00m\n\u001b[32m   1038\u001b[39m \u001b[38;5;28;01melse\u001b[39;00m:\n",
      "\u001b[36mFile \u001b[39m\u001b[32mc:\\Users\\jonas\\anaconda3\\envs\\earth_oberservations\\Lib\\site-packages\\holoviews\\core\\dimension.py:1277\u001b[39m, in \u001b[36mDimensioned._repr_mimebundle_\u001b[39m\u001b[34m(self, include, exclude)\u001b[39m\n\u001b[32m   1270\u001b[39m \u001b[38;5;28;01mdef\u001b[39;00m\u001b[38;5;250m \u001b[39m\u001b[34m_repr_mimebundle_\u001b[39m(\u001b[38;5;28mself\u001b[39m, include=\u001b[38;5;28;01mNone\u001b[39;00m, exclude=\u001b[38;5;28;01mNone\u001b[39;00m):\n\u001b[32m   1271\u001b[39m \u001b[38;5;250m    \u001b[39m\u001b[33;03m\"\"\"\u001b[39;00m\n\u001b[32m   1272\u001b[39m \u001b[33;03m    Resolves the class hierarchy for the class rendering the\u001b[39;00m\n\u001b[32m   1273\u001b[39m \u001b[33;03m    object using any display hooks registered on Store.display\u001b[39;00m\n\u001b[32m   1274\u001b[39m \u001b[33;03m    hooks.  The output of all registered display_hooks is then\u001b[39;00m\n\u001b[32m   1275\u001b[39m \u001b[33;03m    combined and returned.\u001b[39;00m\n\u001b[32m   1276\u001b[39m \u001b[33;03m    \"\"\"\u001b[39;00m\n\u001b[32m-> \u001b[39m\u001b[32m1277\u001b[39m     \u001b[38;5;28;01mreturn\u001b[39;00m \u001b[43mStore\u001b[49m\u001b[43m.\u001b[49m\u001b[43mrender\u001b[49m\u001b[43m(\u001b[49m\u001b[38;5;28;43mself\u001b[39;49m\u001b[43m)\u001b[49m\n",
      "\u001b[36mFile \u001b[39m\u001b[32mc:\\Users\\jonas\\anaconda3\\envs\\earth_oberservations\\Lib\\site-packages\\holoviews\\core\\options.py:1423\u001b[39m, in \u001b[36mStore.render\u001b[39m\u001b[34m(cls, obj)\u001b[39m\n\u001b[32m   1421\u001b[39m data, metadata = {}, {}\n\u001b[32m   1422\u001b[39m \u001b[38;5;28;01mfor\u001b[39;00m hook \u001b[38;5;129;01min\u001b[39;00m hooks:\n\u001b[32m-> \u001b[39m\u001b[32m1423\u001b[39m     ret = \u001b[43mhook\u001b[49m\u001b[43m(\u001b[49m\u001b[43mobj\u001b[49m\u001b[43m)\u001b[49m\n\u001b[32m   1424\u001b[39m     \u001b[38;5;28;01mif\u001b[39;00m ret \u001b[38;5;129;01mis\u001b[39;00m \u001b[38;5;28;01mNone\u001b[39;00m:\n\u001b[32m   1425\u001b[39m         \u001b[38;5;28;01mcontinue\u001b[39;00m\n",
      "\u001b[36mFile \u001b[39m\u001b[32mc:\\Users\\jonas\\anaconda3\\envs\\earth_oberservations\\Lib\\site-packages\\holoviews\\ipython\\display_hooks.py:287\u001b[39m, in \u001b[36mpprint_display\u001b[39m\u001b[34m(obj)\u001b[39m\n\u001b[32m    285\u001b[39m \u001b[38;5;28;01mif\u001b[39;00m \u001b[38;5;129;01mnot\u001b[39;00m ip.display_formatter.formatters[\u001b[33m'\u001b[39m\u001b[33mtext/plain\u001b[39m\u001b[33m'\u001b[39m].pprint:\n\u001b[32m    286\u001b[39m     \u001b[38;5;28;01mreturn\u001b[39;00m \u001b[38;5;28;01mNone\u001b[39;00m\n\u001b[32m--> \u001b[39m\u001b[32m287\u001b[39m \u001b[38;5;28;01mreturn\u001b[39;00m \u001b[43mdisplay\u001b[49m\u001b[43m(\u001b[49m\u001b[43mobj\u001b[49m\u001b[43m,\u001b[49m\u001b[43m \u001b[49m\u001b[43mraw_output\u001b[49m\u001b[43m=\u001b[49m\u001b[38;5;28;43;01mTrue\u001b[39;49;00m\u001b[43m)\u001b[49m\n",
      "\u001b[36mFile \u001b[39m\u001b[32mc:\\Users\\jonas\\anaconda3\\envs\\earth_oberservations\\Lib\\site-packages\\holoviews\\ipython\\display_hooks.py:261\u001b[39m, in \u001b[36mdisplay\u001b[39m\u001b[34m(obj, raw_output, **kwargs)\u001b[39m\n\u001b[32m    259\u001b[39m \u001b[38;5;28;01melif\u001b[39;00m \u001b[38;5;28misinstance\u001b[39m(obj, (HoloMap, DynamicMap)):\n\u001b[32m    260\u001b[39m     \u001b[38;5;28;01mwith\u001b[39;00m option_state(obj):\n\u001b[32m--> \u001b[39m\u001b[32m261\u001b[39m         output = \u001b[43mmap_display\u001b[49m\u001b[43m(\u001b[49m\u001b[43mobj\u001b[49m\u001b[43m)\u001b[49m\n\u001b[32m    262\u001b[39m \u001b[38;5;28;01melif\u001b[39;00m \u001b[38;5;28misinstance\u001b[39m(obj, Plot):\n\u001b[32m    263\u001b[39m     output = render(obj)\n",
      "\u001b[36mFile \u001b[39m\u001b[32mc:\\Users\\jonas\\anaconda3\\envs\\earth_oberservations\\Lib\\site-packages\\holoviews\\ipython\\display_hooks.py:149\u001b[39m, in \u001b[36mdisplay_hook.<locals>.wrapped\u001b[39m\u001b[34m(element)\u001b[39m\n\u001b[32m    147\u001b[39m \u001b[38;5;28;01mtry\u001b[39;00m:\n\u001b[32m    148\u001b[39m     max_frames = OutputSettings.options[\u001b[33m'\u001b[39m\u001b[33mmax_frames\u001b[39m\u001b[33m'\u001b[39m]\n\u001b[32m--> \u001b[39m\u001b[32m149\u001b[39m     mimebundle = \u001b[43mfn\u001b[49m\u001b[43m(\u001b[49m\u001b[43melement\u001b[49m\u001b[43m,\u001b[49m\u001b[43m \u001b[49m\u001b[43mmax_frames\u001b[49m\u001b[43m=\u001b[49m\u001b[43mmax_frames\u001b[49m\u001b[43m)\u001b[49m\n\u001b[32m    150\u001b[39m     \u001b[38;5;28;01mif\u001b[39;00m mimebundle \u001b[38;5;129;01mis\u001b[39;00m \u001b[38;5;28;01mNone\u001b[39;00m:\n\u001b[32m    151\u001b[39m         \u001b[38;5;28;01mreturn\u001b[39;00m {}, {}\n",
      "\u001b[36mFile \u001b[39m\u001b[32mc:\\Users\\jonas\\anaconda3\\envs\\earth_oberservations\\Lib\\site-packages\\holoviews\\ipython\\display_hooks.py:209\u001b[39m, in \u001b[36mmap_display\u001b[39m\u001b[34m(vmap, max_frames)\u001b[39m\n\u001b[32m    206\u001b[39m     max_frame_warning(max_frames)\n\u001b[32m    207\u001b[39m     \u001b[38;5;28;01mreturn\u001b[39;00m \u001b[38;5;28;01mNone\u001b[39;00m\n\u001b[32m--> \u001b[39m\u001b[32m209\u001b[39m \u001b[38;5;28;01mreturn\u001b[39;00m \u001b[43mrender\u001b[49m\u001b[43m(\u001b[49m\u001b[43mvmap\u001b[49m\u001b[43m)\u001b[49m\n",
      "\u001b[36mFile \u001b[39m\u001b[32mc:\\Users\\jonas\\anaconda3\\envs\\earth_oberservations\\Lib\\site-packages\\holoviews\\ipython\\display_hooks.py:76\u001b[39m, in \u001b[36mrender\u001b[39m\u001b[34m(obj, **kwargs)\u001b[39m\n\u001b[32m     73\u001b[39m \u001b[38;5;28;01mif\u001b[39;00m renderer.fig == \u001b[33m'\u001b[39m\u001b[33mpdf\u001b[39m\u001b[33m'\u001b[39m:\n\u001b[32m     74\u001b[39m     renderer = renderer.instance(fig=\u001b[33m'\u001b[39m\u001b[33mpng\u001b[39m\u001b[33m'\u001b[39m)\n\u001b[32m---> \u001b[39m\u001b[32m76\u001b[39m \u001b[38;5;28;01mreturn\u001b[39;00m \u001b[43mrenderer\u001b[49m\u001b[43m.\u001b[49m\u001b[43mcomponents\u001b[49m\u001b[43m(\u001b[49m\u001b[43mobj\u001b[49m\u001b[43m,\u001b[49m\u001b[43m \u001b[49m\u001b[43m*\u001b[49m\u001b[43m*\u001b[49m\u001b[43mkwargs\u001b[49m\u001b[43m)\u001b[49m\n",
      "\u001b[36mFile \u001b[39m\u001b[32mc:\\Users\\jonas\\anaconda3\\envs\\earth_oberservations\\Lib\\site-packages\\holoviews\\plotting\\renderer.py:397\u001b[39m, in \u001b[36mRenderer.components\u001b[39m\u001b[34m(self, obj, fmt, comm, **kwargs)\u001b[39m\n\u001b[32m    395\u001b[39m \u001b[38;5;28;01mif\u001b[39;00m embed \u001b[38;5;129;01mor\u001b[39;00m config.comms == \u001b[33m'\u001b[39m\u001b[33mdefault\u001b[39m\u001b[33m'\u001b[39m:\n\u001b[32m    396\u001b[39m     \u001b[38;5;28;01mreturn\u001b[39;00m \u001b[38;5;28mself\u001b[39m._render_panel(plot, embed, comm)\n\u001b[32m--> \u001b[39m\u001b[32m397\u001b[39m \u001b[38;5;28;01mreturn\u001b[39;00m \u001b[38;5;28;43mself\u001b[39;49m\u001b[43m.\u001b[49m\u001b[43m_render_ipywidget\u001b[49m\u001b[43m(\u001b[49m\u001b[43mplot\u001b[49m\u001b[43m)\u001b[49m\n",
      "\u001b[36mFile \u001b[39m\u001b[32mc:\\Users\\jonas\\anaconda3\\envs\\earth_oberservations\\Lib\\site-packages\\holoviews\\plotting\\renderer.py:419\u001b[39m, in \u001b[36mRenderer._render_ipywidget\u001b[39m\u001b[34m(self, plot)\u001b[39m\n\u001b[32m    417\u001b[39m \u001b[38;5;28;01mdef\u001b[39;00m\u001b[38;5;250m \u001b[39m\u001b[34m_render_ipywidget\u001b[39m(\u001b[38;5;28mself\u001b[39m, plot):\n\u001b[32m    418\u001b[39m     \u001b[38;5;66;03m# Handle rendering object as ipywidget\u001b[39;00m\n\u001b[32m--> \u001b[39m\u001b[32m419\u001b[39m     widget = \u001b[43mipywidget\u001b[49m\u001b[43m(\u001b[49m\u001b[43mplot\u001b[49m\u001b[43m,\u001b[49m\u001b[43m \u001b[49m\u001b[43mcombine_events\u001b[49m\u001b[43m=\u001b[49m\u001b[38;5;28;43;01mTrue\u001b[39;49;00m\u001b[43m)\u001b[49m\n\u001b[32m    420\u001b[39m     \u001b[38;5;28;01mif\u001b[39;00m \u001b[38;5;28mhasattr\u001b[39m(widget, \u001b[33m'\u001b[39m\u001b[33m_repr_mimebundle_\u001b[39m\u001b[33m'\u001b[39m):\n\u001b[32m    421\u001b[39m         \u001b[38;5;28;01mreturn\u001b[39;00m widget._repr_mimebundle_(), {}\n",
      "\u001b[36mFile \u001b[39m\u001b[32mc:\\Users\\jonas\\anaconda3\\envs\\earth_oberservations\\Lib\\site-packages\\panel\\io\\notebook.py:574\u001b[39m, in \u001b[36mipywidget\u001b[39m\u001b[34m(obj, doc, **kwargs)\u001b[39m\n\u001b[32m    572\u001b[39m \u001b[38;5;28;01mfrom\u001b[39;00m\u001b[38;5;250m \u001b[39m\u001b[34;01m.\u001b[39;00m\u001b[34;01m.\u001b[39;00m\u001b[34;01mpane\u001b[39;00m\u001b[38;5;250m \u001b[39m\u001b[38;5;28;01mimport\u001b[39;00m panel\n\u001b[32m    573\u001b[39m doc = doc \u001b[38;5;28;01mif\u001b[39;00m doc \u001b[38;5;28;01melse\u001b[39;00m Document()\n\u001b[32m--> \u001b[39m\u001b[32m574\u001b[39m model = \u001b[43mpanel\u001b[49m\u001b[43m(\u001b[49m\u001b[43mobj\u001b[49m\u001b[43m,\u001b[49m\u001b[43m \u001b[49m\u001b[43m*\u001b[49m\u001b[43m*\u001b[49m\u001b[43mkwargs\u001b[49m\u001b[43m)\u001b[49m\u001b[43m.\u001b[49m\u001b[43mget_root\u001b[49m\u001b[43m(\u001b[49m\u001b[43mdoc\u001b[49m\u001b[43m=\u001b[49m\u001b[43mdoc\u001b[49m\u001b[43m)\u001b[49m\n\u001b[32m    575\u001b[39m widget = BokehModel(model, combine_events=\u001b[38;5;28;01mTrue\u001b[39;00m)\n\u001b[32m    576\u001b[39m \u001b[38;5;28;01mif\u001b[39;00m \u001b[38;5;28mhasattr\u001b[39m(widget, \u001b[33m'\u001b[39m\u001b[33m_view_count\u001b[39m\u001b[33m'\u001b[39m):\n",
      "\u001b[36mFile \u001b[39m\u001b[32mc:\\Users\\jonas\\anaconda3\\envs\\earth_oberservations\\Lib\\site-packages\\panel\\pane\\base.py:516\u001b[39m, in \u001b[36mPane.get_root\u001b[39m\u001b[34m(self, doc, comm, preprocess)\u001b[39m\n\u001b[32m    514\u001b[39m         root = wrapper.get_root(doc, comm, preprocess)\n\u001b[32m    515\u001b[39m \u001b[38;5;28;01melse\u001b[39;00m:\n\u001b[32m--> \u001b[39m\u001b[32m516\u001b[39m     root_view, root = \u001b[38;5;28;43mself\u001b[39;49m\u001b[43m.\u001b[49m\u001b[43m_get_root_model\u001b[49m\u001b[43m(\u001b[49m\u001b[43mdoc\u001b[49m\u001b[43m,\u001b[49m\u001b[43m \u001b[49m\u001b[43mcomm\u001b[49m\u001b[43m,\u001b[49m\u001b[43m \u001b[49m\u001b[43mpreprocess\u001b[49m\u001b[43m)\u001b[49m\n\u001b[32m    517\u001b[39m ref = root.ref[\u001b[33m'\u001b[39m\u001b[33mid\u001b[39m\u001b[33m'\u001b[39m]\n\u001b[32m    518\u001b[39m state._views[ref] = (root_view, root, doc, comm)\n",
      "\u001b[36mFile \u001b[39m\u001b[32mc:\\Users\\jonas\\anaconda3\\envs\\earth_oberservations\\Lib\\site-packages\\panel\\pane\\base.py:457\u001b[39m, in \u001b[36mPane._get_root_model\u001b[39m\u001b[34m(self, doc, comm, preprocess)\u001b[39m\n\u001b[32m    455\u001b[39m     root_view = \u001b[38;5;28mself\u001b[39m\n\u001b[32m    456\u001b[39m \u001b[38;5;28;01melse\u001b[39;00m:\n\u001b[32m--> \u001b[39m\u001b[32m457\u001b[39m     root = \u001b[38;5;28;43mself\u001b[39;49m\u001b[43m.\u001b[49m\u001b[43mlayout\u001b[49m\u001b[43m.\u001b[49m\u001b[43m_get_model\u001b[49m\u001b[43m(\u001b[49m\u001b[43mdoc\u001b[49m\u001b[43m,\u001b[49m\u001b[43m \u001b[49m\u001b[43mcomm\u001b[49m\u001b[43m=\u001b[49m\u001b[43mcomm\u001b[49m\u001b[43m)\u001b[49m\n\u001b[32m    458\u001b[39m     root_view = \u001b[38;5;28mself\u001b[39m.layout\n\u001b[32m    459\u001b[39m \u001b[38;5;28;01mif\u001b[39;00m preprocess:\n",
      "\u001b[36mFile \u001b[39m\u001b[32mc:\\Users\\jonas\\anaconda3\\envs\\earth_oberservations\\Lib\\site-packages\\panel\\layout\\base.py:313\u001b[39m, in \u001b[36mPanel._get_model\u001b[39m\u001b[34m(self, doc, root, parent, comm)\u001b[39m\n\u001b[32m    311\u001b[39m root = root \u001b[38;5;129;01mor\u001b[39;00m model\n\u001b[32m    312\u001b[39m \u001b[38;5;28mself\u001b[39m._models[root.ref[\u001b[33m'\u001b[39m\u001b[33mid\u001b[39m\u001b[33m'\u001b[39m]] = (model, parent)\n\u001b[32m--> \u001b[39m\u001b[32m313\u001b[39m objects, _ = \u001b[38;5;28;43mself\u001b[39;49m\u001b[43m.\u001b[49m\u001b[43m_get_objects\u001b[49m\u001b[43m(\u001b[49m\u001b[43mmodel\u001b[49m\u001b[43m,\u001b[49m\u001b[43m \u001b[49m\u001b[43m[\u001b[49m\u001b[43m]\u001b[49m\u001b[43m,\u001b[49m\u001b[43m \u001b[49m\u001b[43mdoc\u001b[49m\u001b[43m,\u001b[49m\u001b[43m \u001b[49m\u001b[43mroot\u001b[49m\u001b[43m,\u001b[49m\u001b[43m \u001b[49m\u001b[43mcomm\u001b[49m\u001b[43m)\u001b[49m\n\u001b[32m    314\u001b[39m props = \u001b[38;5;28mself\u001b[39m._get_properties(doc)\n\u001b[32m    315\u001b[39m props[\u001b[38;5;28mself\u001b[39m._property_mapping[\u001b[33m'\u001b[39m\u001b[33mobjects\u001b[39m\u001b[33m'\u001b[39m]] = objects\n",
      "\u001b[36mFile \u001b[39m\u001b[32mc:\\Users\\jonas\\anaconda3\\envs\\earth_oberservations\\Lib\\site-packages\\panel\\layout\\base.py:295\u001b[39m, in \u001b[36mPanel._get_objects\u001b[39m\u001b[34m(self, model, old_objects, doc, root, comm)\u001b[39m\n\u001b[32m    293\u001b[39m \u001b[38;5;28;01melse\u001b[39;00m:\n\u001b[32m    294\u001b[39m     \u001b[38;5;28;01mtry\u001b[39;00m:\n\u001b[32m--> \u001b[39m\u001b[32m295\u001b[39m         child = \u001b[43mpane\u001b[49m\u001b[43m.\u001b[49m\u001b[43m_get_model\u001b[49m\u001b[43m(\u001b[49m\u001b[43mdoc\u001b[49m\u001b[43m,\u001b[49m\u001b[43m \u001b[49m\u001b[43mroot\u001b[49m\u001b[43m,\u001b[49m\u001b[43m \u001b[49m\u001b[43mmodel\u001b[49m\u001b[43m,\u001b[49m\u001b[43m \u001b[49m\u001b[43mcomm\u001b[49m\u001b[43m)\u001b[49m\n\u001b[32m    296\u001b[39m     \u001b[38;5;28;01mexcept\u001b[39;00m RerenderError \u001b[38;5;28;01mas\u001b[39;00m e:\n\u001b[32m    297\u001b[39m         \u001b[38;5;28;01mif\u001b[39;00m e.layout \u001b[38;5;129;01mis\u001b[39;00m \u001b[38;5;129;01mnot\u001b[39;00m \u001b[38;5;28;01mNone\u001b[39;00m \u001b[38;5;129;01mand\u001b[39;00m e.layout \u001b[38;5;129;01mis\u001b[39;00m \u001b[38;5;129;01mnot\u001b[39;00m \u001b[38;5;28mself\u001b[39m:\n",
      "\u001b[36mFile \u001b[39m\u001b[32mc:\\Users\\jonas\\anaconda3\\envs\\earth_oberservations\\Lib\\site-packages\\panel\\pane\\holoviews.py:437\u001b[39m, in \u001b[36mHoloViews._get_model\u001b[39m\u001b[34m(self, doc, root, parent, comm)\u001b[39m\n\u001b[32m    435\u001b[39m     plot = \u001b[38;5;28mself\u001b[39m.object\n\u001b[32m    436\u001b[39m \u001b[38;5;28;01melse\u001b[39;00m:\n\u001b[32m--> \u001b[39m\u001b[32m437\u001b[39m     plot = \u001b[38;5;28;43mself\u001b[39;49m\u001b[43m.\u001b[49m\u001b[43m_render\u001b[49m\u001b[43m(\u001b[49m\u001b[43mdoc\u001b[49m\u001b[43m,\u001b[49m\u001b[43m \u001b[49m\u001b[43mcomm\u001b[49m\u001b[43m,\u001b[49m\u001b[43m \u001b[49m\u001b[43mroot\u001b[49m\u001b[43m)\u001b[49m\n\u001b[32m    439\u001b[39m plot.pane = \u001b[38;5;28mself\u001b[39m\n\u001b[32m    440\u001b[39m backend = plot.renderer.backend\n",
      "\u001b[36mFile \u001b[39m\u001b[32mc:\\Users\\jonas\\anaconda3\\envs\\earth_oberservations\\Lib\\site-packages\\panel\\pane\\holoviews.py:531\u001b[39m, in \u001b[36mHoloViews._render\u001b[39m\u001b[34m(self, doc, comm, root)\u001b[39m\n\u001b[32m    528\u001b[39m     \u001b[38;5;28;01mif\u001b[39;00m comm:\n\u001b[32m    529\u001b[39m         kwargs[\u001b[33m'\u001b[39m\u001b[33mcomm\u001b[39m\u001b[33m'\u001b[39m] = comm\n\u001b[32m--> \u001b[39m\u001b[32m531\u001b[39m \u001b[38;5;28;01mreturn\u001b[39;00m \u001b[43mrenderer\u001b[49m\u001b[43m.\u001b[49m\u001b[43mget_plot\u001b[49m\u001b[43m(\u001b[49m\u001b[38;5;28;43mself\u001b[39;49m\u001b[43m.\u001b[49m\u001b[43mobject\u001b[49m\u001b[43m,\u001b[49m\u001b[43m \u001b[49m\u001b[43m*\u001b[49m\u001b[43m*\u001b[49m\u001b[43mkwargs\u001b[49m\u001b[43m)\u001b[49m\n",
      "\u001b[36mFile \u001b[39m\u001b[32mc:\\Users\\jonas\\anaconda3\\envs\\earth_oberservations\\Lib\\site-packages\\holoviews\\plotting\\bokeh\\renderer.py:68\u001b[39m, in \u001b[36mBokehRenderer.get_plot\u001b[39m\u001b[34m(self_or_cls, obj, doc, renderer, **kwargs)\u001b[39m\n\u001b[32m     61\u001b[39m \u001b[38;5;129m@bothmethod\u001b[39m\n\u001b[32m     62\u001b[39m \u001b[38;5;28;01mdef\u001b[39;00m\u001b[38;5;250m \u001b[39m\u001b[34mget_plot\u001b[39m(self_or_cls, obj, doc=\u001b[38;5;28;01mNone\u001b[39;00m, renderer=\u001b[38;5;28;01mNone\u001b[39;00m, **kwargs):\n\u001b[32m     63\u001b[39m \u001b[38;5;250m    \u001b[39m\u001b[33;03m\"\"\"\u001b[39;00m\n\u001b[32m     64\u001b[39m \u001b[33;03m    Given a HoloViews Viewable return a corresponding plot instance.\u001b[39;00m\n\u001b[32m     65\u001b[39m \u001b[33;03m    Allows supplying a document attach the plot to, useful when\u001b[39;00m\n\u001b[32m     66\u001b[39m \u001b[33;03m    combining the bokeh model with another plot.\u001b[39;00m\n\u001b[32m     67\u001b[39m \u001b[33;03m    \"\"\"\u001b[39;00m\n\u001b[32m---> \u001b[39m\u001b[32m68\u001b[39m     plot = \u001b[38;5;28;43msuper\u001b[39;49m\u001b[43m(\u001b[49m\u001b[43m)\u001b[49m\u001b[43m.\u001b[49m\u001b[43mget_plot\u001b[49m\u001b[43m(\u001b[49m\u001b[43mobj\u001b[49m\u001b[43m,\u001b[49m\u001b[43m \u001b[49m\u001b[43mdoc\u001b[49m\u001b[43m,\u001b[49m\u001b[43m \u001b[49m\u001b[43mrenderer\u001b[49m\u001b[43m,\u001b[49m\u001b[43m \u001b[49m\u001b[43m*\u001b[49m\u001b[43m*\u001b[49m\u001b[43mkwargs\u001b[49m\u001b[43m)\u001b[49m\n\u001b[32m     69\u001b[39m     \u001b[38;5;28;01mif\u001b[39;00m plot.document \u001b[38;5;129;01mis\u001b[39;00m \u001b[38;5;28;01mNone\u001b[39;00m:\n\u001b[32m     70\u001b[39m         plot.document = Document() \u001b[38;5;28;01mif\u001b[39;00m self_or_cls.notebook_context \u001b[38;5;28;01melse\u001b[39;00m curdoc()\n",
      "\u001b[36mFile \u001b[39m\u001b[32mc:\\Users\\jonas\\anaconda3\\envs\\earth_oberservations\\Lib\\site-packages\\holoviews\\plotting\\renderer.py:239\u001b[39m, in \u001b[36mRenderer.get_plot\u001b[39m\u001b[34m(self_or_cls, obj, doc, renderer, comm, **kwargs)\u001b[39m\n\u001b[32m    236\u001b[39m     defaults = [kd.default \u001b[38;5;28;01mfor\u001b[39;00m kd \u001b[38;5;129;01min\u001b[39;00m plot.dimensions]\n\u001b[32m    237\u001b[39m     init_key = \u001b[38;5;28mtuple\u001b[39m(v \u001b[38;5;28;01mif\u001b[39;00m d \u001b[38;5;129;01mis\u001b[39;00m \u001b[38;5;28;01mNone\u001b[39;00m \u001b[38;5;28;01melse\u001b[39;00m d \u001b[38;5;28;01mfor\u001b[39;00m v, d \u001b[38;5;129;01min\u001b[39;00m\n\u001b[32m    238\u001b[39m                      \u001b[38;5;28mzip\u001b[39m(plot.keys[\u001b[32m0\u001b[39m], defaults))\n\u001b[32m--> \u001b[39m\u001b[32m239\u001b[39m     \u001b[43mplot\u001b[49m\u001b[43m.\u001b[49m\u001b[43mupdate\u001b[49m\u001b[43m(\u001b[49m\u001b[43minit_key\u001b[49m\u001b[43m)\u001b[49m\n\u001b[32m    240\u001b[39m \u001b[38;5;28;01melse\u001b[39;00m:\n\u001b[32m    241\u001b[39m     plot = obj\n",
      "\u001b[36mFile \u001b[39m\u001b[32mc:\\Users\\jonas\\anaconda3\\envs\\earth_oberservations\\Lib\\site-packages\\holoviews\\plotting\\plot.py:956\u001b[39m, in \u001b[36mDimensionedPlot.update\u001b[39m\u001b[34m(self, key)\u001b[39m\n\u001b[32m    954\u001b[39m \u001b[38;5;28;01mdef\u001b[39;00m\u001b[38;5;250m \u001b[39m\u001b[34mupdate\u001b[39m(\u001b[38;5;28mself\u001b[39m, key):\n\u001b[32m    955\u001b[39m     \u001b[38;5;28;01mif\u001b[39;00m \u001b[38;5;28mlen\u001b[39m(\u001b[38;5;28mself\u001b[39m) == \u001b[32m1\u001b[39m \u001b[38;5;129;01mand\u001b[39;00m key \u001b[38;5;129;01min\u001b[39;00m (\u001b[32m0\u001b[39m, \u001b[38;5;28mself\u001b[39m.keys[\u001b[32m0\u001b[39m]) \u001b[38;5;129;01mand\u001b[39;00m \u001b[38;5;129;01mnot\u001b[39;00m \u001b[38;5;28mself\u001b[39m.drawn:\n\u001b[32m--> \u001b[39m\u001b[32m956\u001b[39m         \u001b[38;5;28;01mreturn\u001b[39;00m \u001b[38;5;28;43mself\u001b[39;49m\u001b[43m.\u001b[49m\u001b[43minitialize_plot\u001b[49m\u001b[43m(\u001b[49m\u001b[43m)\u001b[49m\n\u001b[32m    957\u001b[39m     item = \u001b[38;5;28mself\u001b[39m.\u001b[34m__getitem__\u001b[39m(key)\n\u001b[32m    958\u001b[39m     \u001b[38;5;28mself\u001b[39m.traverse(\u001b[38;5;28;01mlambda\u001b[39;00m x: \u001b[38;5;28msetattr\u001b[39m(x, \u001b[33m'\u001b[39m\u001b[33m_updated\u001b[39m\u001b[33m'\u001b[39m, \u001b[38;5;28;01mTrue\u001b[39;00m))\n",
      "\u001b[36mFile \u001b[39m\u001b[32mc:\\Users\\jonas\\anaconda3\\envs\\earth_oberservations\\Lib\\site-packages\\geoviews\\plotting\\bokeh\\plot.py:121\u001b[39m, in \u001b[36mGeoPlot.initialize_plot\u001b[39m\u001b[34m(self, ranges, plot, plots, source)\u001b[39m\n\u001b[32m    119\u001b[39m \u001b[38;5;28;01mdef\u001b[39;00m\u001b[38;5;250m \u001b[39m\u001b[34minitialize_plot\u001b[39m(\u001b[38;5;28mself\u001b[39m, ranges=\u001b[38;5;28;01mNone\u001b[39;00m, plot=\u001b[38;5;28;01mNone\u001b[39;00m, plots=\u001b[38;5;28;01mNone\u001b[39;00m, source=\u001b[38;5;28;01mNone\u001b[39;00m):\n\u001b[32m    120\u001b[39m     opts = {} \u001b[38;5;28;01mif\u001b[39;00m \u001b[38;5;28misinstance\u001b[39m(\u001b[38;5;28mself\u001b[39m, HvOverlayPlot) \u001b[38;5;28;01melse\u001b[39;00m {\u001b[33m'\u001b[39m\u001b[33msource\u001b[39m\u001b[33m'\u001b[39m: source}\n\u001b[32m--> \u001b[39m\u001b[32m121\u001b[39m     fig = \u001b[38;5;28;43msuper\u001b[39;49m\u001b[43m(\u001b[49m\u001b[43m)\u001b[49m\u001b[43m.\u001b[49m\u001b[43minitialize_plot\u001b[49m\u001b[43m(\u001b[49m\u001b[43mranges\u001b[49m\u001b[43m,\u001b[49m\u001b[43m \u001b[49m\u001b[43mplot\u001b[49m\u001b[43m,\u001b[49m\u001b[43m \u001b[49m\u001b[43mplots\u001b[49m\u001b[43m,\u001b[49m\u001b[43m \u001b[49m\u001b[43m*\u001b[49m\u001b[43m*\u001b[49m\u001b[43mopts\u001b[49m\u001b[43m)\u001b[49m\n\u001b[32m    122\u001b[39m     style_element = \u001b[38;5;28mself\u001b[39m.current_frame.last \u001b[38;5;28;01mif\u001b[39;00m \u001b[38;5;28mself\u001b[39m.batched \u001b[38;5;28;01melse\u001b[39;00m \u001b[38;5;28mself\u001b[39m.current_frame\n\u001b[32m    123\u001b[39m     el_ranges = match_spec(style_element, \u001b[38;5;28mself\u001b[39m.current_ranges) \u001b[38;5;28;01mif\u001b[39;00m \u001b[38;5;28mself\u001b[39m.current_ranges \u001b[38;5;28;01melse\u001b[39;00m {}\n",
      "\u001b[36mFile \u001b[39m\u001b[32mc:\\Users\\jonas\\anaconda3\\envs\\earth_oberservations\\Lib\\site-packages\\holoviews\\plotting\\bokeh\\element.py:2197\u001b[39m, in \u001b[36mElementPlot.initialize_plot\u001b[39m\u001b[34m(self, ranges, plot, plots, source)\u001b[39m\n\u001b[32m   2195\u001b[39m \u001b[38;5;28;01mif\u001b[39;00m \u001b[38;5;129;01mnot\u001b[39;00m \u001b[38;5;28mself\u001b[39m.overlaid:\n\u001b[32m   2196\u001b[39m     \u001b[38;5;28mself\u001b[39m._update_plot(key, plot, style_element)\n\u001b[32m-> \u001b[39m\u001b[32m2197\u001b[39m     \u001b[38;5;28;43mself\u001b[39;49m\u001b[43m.\u001b[49m\u001b[43m_update_ranges\u001b[49m\u001b[43m(\u001b[49m\u001b[43mstyle_element\u001b[49m\u001b[43m,\u001b[49m\u001b[43m \u001b[49m\u001b[43mranges\u001b[49m\u001b[43m)\u001b[49m\n\u001b[32m   2199\u001b[39m \u001b[38;5;28;01mfor\u001b[39;00m cb \u001b[38;5;129;01min\u001b[39;00m \u001b[38;5;28mself\u001b[39m.callbacks:\n\u001b[32m   2200\u001b[39m     cb.initialize()\n",
      "\u001b[36mFile \u001b[39m\u001b[32mc:\\Users\\jonas\\anaconda3\\envs\\earth_oberservations\\Lib\\site-packages\\geoviews\\plotting\\bokeh\\plot.py:86\u001b[39m, in \u001b[36mGeoPlot._update_ranges\u001b[39m\u001b[34m(self, element, ranges)\u001b[39m\n\u001b[32m     85\u001b[39m \u001b[38;5;28;01mdef\u001b[39;00m\u001b[38;5;250m \u001b[39m\u001b[34m_update_ranges\u001b[39m(\u001b[38;5;28mself\u001b[39m, element, ranges):\n\u001b[32m---> \u001b[39m\u001b[32m86\u001b[39m     \u001b[38;5;28;43msuper\u001b[39;49m\u001b[43m(\u001b[49m\u001b[43m)\u001b[49m\u001b[43m.\u001b[49m\u001b[43m_update_ranges\u001b[49m\u001b[43m(\u001b[49m\u001b[43melement\u001b[49m\u001b[43m,\u001b[49m\u001b[43m \u001b[49m\u001b[43mranges\u001b[49m\u001b[43m)\u001b[49m\n\u001b[32m     87\u001b[39m     \u001b[38;5;28;01mif\u001b[39;00m \u001b[38;5;129;01mnot\u001b[39;00m \u001b[38;5;28mself\u001b[39m.geographic:\n\u001b[32m     88\u001b[39m         \u001b[38;5;28;01mreturn\u001b[39;00m\n",
      "\u001b[36mFile \u001b[39m\u001b[32mc:\\Users\\jonas\\anaconda3\\envs\\earth_oberservations\\Lib\\site-packages\\holoviews\\plotting\\bokeh\\element.py:1329\u001b[39m, in \u001b[36mElementPlot._update_ranges\u001b[39m\u001b[34m(self, element, ranges)\u001b[39m\n\u001b[32m   1326\u001b[39m y_range = \u001b[38;5;28mself\u001b[39m.handles[\u001b[33m'\u001b[39m\u001b[33my_range\u001b[39m\u001b[33m'\u001b[39m]\n\u001b[32m   1327\u001b[39m plot = \u001b[38;5;28mself\u001b[39m.handles[\u001b[33m'\u001b[39m\u001b[33mplot\u001b[39m\u001b[33m'\u001b[39m]\n\u001b[32m-> \u001b[39m\u001b[32m1329\u001b[39m \u001b[38;5;28;43mself\u001b[39;49m\u001b[43m.\u001b[49m\u001b[43m_update_main_ranges\u001b[49m\u001b[43m(\u001b[49m\u001b[43melement\u001b[49m\u001b[43m,\u001b[49m\u001b[43m \u001b[49m\u001b[43mx_range\u001b[49m\u001b[43m,\u001b[49m\u001b[43m \u001b[49m\u001b[43my_range\u001b[49m\u001b[43m,\u001b[49m\u001b[43m \u001b[49m\u001b[43mranges\u001b[49m\u001b[43m)\u001b[49m\n\u001b[32m   1331\u001b[39m \u001b[38;5;28;01mif\u001b[39;00m \u001b[38;5;28mself\u001b[39m._subcoord_overlaid:\n\u001b[32m   1332\u001b[39m     \u001b[38;5;28;01mreturn\u001b[39;00m\n",
      "\u001b[36mFile \u001b[39m\u001b[32mc:\\Users\\jonas\\anaconda3\\envs\\earth_oberservations\\Lib\\site-packages\\holoviews\\plotting\\bokeh\\element.py:1471\u001b[39m, in \u001b[36mElementPlot._update_main_ranges\u001b[39m\u001b[34m(self, element, x_range, y_range, ranges, subcoord)\u001b[39m\n\u001b[32m   1469\u001b[39m \u001b[38;5;28;01mif\u001b[39;00m fixed_height:\n\u001b[32m   1470\u001b[39m     plot.frame_height = height\n\u001b[32m-> \u001b[39m\u001b[32m1471\u001b[39m     plot.frame_width = \u001b[38;5;28;43mint\u001b[39;49m\u001b[43m(\u001b[49m\u001b[43mheight\u001b[49m\u001b[43m/\u001b[49m\u001b[43maspect\u001b[49m\u001b[43m)\u001b[49m\n\u001b[32m   1472\u001b[39m     plot.width, plot.height = \u001b[38;5;28;01mNone\u001b[39;00m, \u001b[38;5;28;01mNone\u001b[39;00m\n\u001b[32m   1473\u001b[39m \u001b[38;5;28;01melif\u001b[39;00m fixed_width:\n",
      "\u001b[31mValueError\u001b[39m: cannot convert float NaN to integer"
     ]
    },
    {
     "data": {
      "text/plain": [
       ":DynamicMap   [time]\n",
       "   :Image   [x,y]   (tuw_flood_extent)"
      ]
     },
     "execution_count": 31,
     "metadata": {},
     "output_type": "execute_result"
    }
   ],
   "source": [
    "band_name = \"tuw_flood_extent\"\n",
    "print(f\"Visualizing band: {band_name}\")\n",
    "\n",
    "GFM_dc[band_name].hvplot.image(x=\"x\", y=\"y\", title=band_name, geo=True)"
   ]
  },
  {
   "cell_type": "code",
   "execution_count": 32,
   "metadata": {},
   "outputs": [
    {
     "name": "stdout",
     "output_type": "stream",
     "text": [
      "Visualizing band: ensemble_water_extent\n"
     ]
    },
    {
     "data": {
      "application/vnd.jupyter.widget-view+json": {
       "model_id": "d2775736d7bd489a949102e8f05d6502",
       "version_major": 2,
       "version_minor": 0
      },
      "text/plain": [
       "BokehModel(combine_events=True, render_bundle={'docs_json': {'cba2e91e-a4d5-4b76-942a-1f3df4607f18': {'version…"
      ]
     },
     "execution_count": 32,
     "metadata": {},
     "output_type": "execute_result"
    }
   ],
   "source": [
    "band_name = \"ensemble_water_extent\"\n",
    "print(f\"Visualizing band: {band_name}\")\n",
    "\n",
    "GFM_dc[band_name].hvplot.image(x=\"x\", y=\"y\", title=band_name)"
   ]
  },
  {
   "cell_type": "code",
   "execution_count": 33,
   "metadata": {},
   "outputs": [
    {
     "name": "stdout",
     "output_type": "stream",
     "text": [
      "Küstengewässer einschließlich Anteil am Festlandsockel, Mecklenburg-Vorpommern, Deutschland\n"
     ]
    }
   ],
   "source": [
    "from geopy.geocoders import Nominatim\n",
    "\n",
    "# calculate the center of the bounding box\n",
    "center_lat = (54.3 + 54.6) / 2\n",
    "center_lon = (12.3 + 13.1) / 2\n",
    "\n",
    "geolocator = Nominatim(user_agent=\"flood_visualization\")\n",
    "location = geolocator.reverse(f\"{center_lat}, {center_lon}\")\n",
    "print(location.address)"
   ]
  },
  {
   "cell_type": "code",
   "execution_count": 34,
   "metadata": {},
   "outputs": [
    {
     "data": {
      "application/vnd.jupyter.widget-view+json": {
       "model_id": "d84e1c56152749e89f8b090b66762a3e",
       "version_major": 2,
       "version_minor": 0
      },
      "text/plain": [
       "BokehModel(combine_events=True, render_bundle={'docs_json': {'90343a86-236a-4439-9eed-6e330bbb5994': {'version…"
      ]
     },
     "execution_count": 34,
     "metadata": {},
     "output_type": "execute_result"
    }
   ],
   "source": [
    "#GFM_dc[band_name].hvplot.image(x=\"x\", y=\"y\", title=\"ensemble_flood_extent\")\n",
    "GFM_dc[\"ensemble_flood_extent\"].hvplot.image(x=\"x\", y=\"y\", title=\"advisory_flags\")"
   ]
  },
  {
   "cell_type": "markdown",
   "metadata": {},
   "source": [
    "#### TU Wien Likelihood"
   ]
  },
  {
   "cell_type": "code",
   "execution_count": 35,
   "metadata": {},
   "outputs": [
    {
     "name": "stdout",
     "output_type": "stream",
     "text": [
      "Visualizing band: tuw_likelihood\n"
     ]
    },
    {
     "data": {
      "application/vnd.jupyter.widget-view+json": {
       "model_id": "94f813f613064ec7b33e51ae76625772",
       "version_major": 2,
       "version_minor": 0
      },
      "text/plain": [
       "BokehModel(combine_events=True, render_bundle={'docs_json': {'a88123ab-3892-41fe-a21a-a2f126640ddb': {'version…"
      ]
     },
     "execution_count": 35,
     "metadata": {},
     "output_type": "execute_result"
    }
   ],
   "source": [
    "band_name = \"tuw_likelihood\"\n",
    "print(f\"Visualizing band: {band_name}\")\n",
    "\n",
    "GFM_dc[band_name].hvplot.image(x=\"x\", y=\"y\", title=band_name)"
   ]
  }
 ],
 "metadata": {
  "kernelspec": {
   "display_name": "earth_oberservations",
   "language": "python",
   "name": "python3"
  },
  "language_info": {
   "codemirror_mode": {
    "name": "ipython",
    "version": 3
   },
   "file_extension": ".py",
   "mimetype": "text/x-python",
   "name": "python",
   "nbconvert_exporter": "python",
   "pygments_lexer": "ipython3",
   "version": "3.11.11"
  }
 },
 "nbformat": 4,
 "nbformat_minor": 2
}
